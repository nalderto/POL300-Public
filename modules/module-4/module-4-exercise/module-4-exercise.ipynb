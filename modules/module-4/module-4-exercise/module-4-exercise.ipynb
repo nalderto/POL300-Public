{
  "nbformat": 4,
  "nbformat_minor": 0,
  "metadata": {
    "kernelspec": {
      "display_name": "Python 3",
      "language": "python",
      "name": "python3"
    },
    "language_info": {
      "codemirror_mode": {
        "name": "ipython",
        "version": 3
      },
      "file_extension": ".py",
      "mimetype": "text/x-python",
      "name": "python",
      "nbconvert_exporter": "python",
      "pygments_lexer": "ipython3",
      "version": "3.9.0rc2"
    },
    "colab": {
      "name": "module-4-exercise.ipynb",
      "provenance": [],
      "include_colab_link": true
    }
  },
  "cells": [
    {
      "cell_type": "markdown",
      "metadata": {
        "id": "view-in-github",
        "colab_type": "text"
      },
      "source": [
        "<a href=\"https://colab.research.google.com/github/nalderto/POL300-Public/blob/master/modules/module-4/module-4-exercise/module-4-exercise.ipynb\" target=\"_parent\"><img src=\"https://colab.research.google.com/assets/colab-badge.svg\" alt=\"Open In Colab\"/></a>"
      ]
    },
    {
      "cell_type": "markdown",
      "metadata": {
        "id": "NFDdXHzfU7MV"
      },
      "source": [
        "# Module 4: Organizing Data with Pandas\n",
        "\n",
        "For this activity, you are going to learn how to manage data with Pandas.  There are going to be a few exercises following each of the different topic sections.  \n",
        "\n",
        "You will be graded on your code's ability to complete the task described.  All the exercises have test cases to check the functionality of your code.  Make sure the test cases print `OK`.  This means that your code is working fine.  If it doesn't print `OK`, it will tell you which test case is failing.  \n",
        "\n",
        "To submit this Jupyter notebook to Gradescope, reference the instructions in the module 1 activity or the \"Getting Started with Jupyter Hub\" guide on Brightspace.\n",
        "\n",
        "If you are having trouble, don't get discouraged.  Read through the section again.  If you are still having trouble, try to Google around.  There are **TONS** of good online Python resources.  If Google is not being helpful, reach out via the Brightspace Discussion Board.  "
      ]
    },
    {
      "cell_type": "markdown",
      "metadata": {
        "id": "CBlZwrIGU7MY"
      },
      "source": [
        "## Introduction to Pandas\n",
        "\n",
        "In earlier modules, we discussed using lists and dictionaries to organize data.  These two data structures are perfectly fine for many purposes \\(especially because they are built into Python\\), however they have their limitations.  This is where Pandas comes in.\n",
        "\n",
        "Pandas is yet another Python library.  It is used to manage tabular data (which lists and dictionaries don't manage particularly well).  Tabular data is just data that can be organized in a table, like an Excel spreadsheet.  We need to be able to manage tabular data in Python, since we are going to export data into Stata using CSV \\(comma-separated values\\) files.  \n",
        "\n",
        "## Importing Pandas\n",
        "\n",
        "```python\n",
        "import pandas as pd\n",
        "```\n",
        "\n",
        "Importing Pandas is just as simple as importing any other Python module.  However, you'll notice that we append `as pd` at the end.  All this does is allow us to type `pd` instead of `pandas` every time we want to use a pandas function.  The `as` keyword simply allows a module name to be callable by another word \\(usually a shorter word\\).\n",
        "\n",
        "## Creating Data Frames\n",
        "\n",
        "### Creating an Empty Data Frame\n",
        "\n",
        "```python\n",
        "df = pd.DataFrame()\n",
        "```\n",
        "\n",
        "A data frame is just another word for a table.  We can use the code above to create an empty data frame.  If we want to add column names to the data frame, we specify between the parentheses.  Continuing with the campaign contributions data from the last module, we would use this line to create our respective column names.\n",
        "\n",
        "```python\n",
        "df = pd.DataFrame(columns=[\"Year\", \"State\", \"Body\", \"Seat\", \"Amount\", \"Candidates\", \"Average\"])\n",
        "```\n",
        "\n",
        "There are several other optional arguments that we could add to the `DataFrame()`function.  These arguments are all detailed in the [Pandas API Documents.](https://pandas.pydata.org/pandas-docs/stable/reference/api/pandas.DataFrame.html)\n",
        "\n",
        "### Creating a Data Frame from an HTML table\n",
        "\n",
        "This is where Pandas really comes in handy.  If you recall, we were able to extract a table from the Ballotpedia website, however the data was not completely organized yet.  When we printed out the data, we could still see the HTML table tags from the website.  Fortunately, Pandas can take an HTML table, and create a data frame from it.\n",
        "\n",
        "```python\n",
        "df = pd.read_html(str(table), header=1, index_col=False)[0]\n",
        "```\n",
        "\n",
        "Let's break down the various parts of this line of code.  \n",
        "* `str()` converts a variable into a string.  We need to do this because the `table` variable that we got earlier from Beautiful Soup is a Beautiful Soup object.  We need it to be a string so pandas can parse the html.  \n",
        "* If you look back the the campaign contributions table on Ballotpedia, you'll notice that the first row in the table is actually the title.  For example, \"Campaign contributions, Indiana House of Representatives District 1\" is the first row.  When we convert this table into a data frame, we need to get rid of this title.  Luckily, with the line `header=1`, we start with index 1 of the table (remember that we start counting with 0 in Python).  Therefore, the more appropriate header would be the column titles of \"Year\", \"Amount\", \"Candidates\", and \"Average\".  \n",
        "* By default, `read_html` will make the first column an \"index column.\"  Essentially, the number in this column would correspond with the index of the respective row.  While it might be useful in some cases, we want to exclude it, since we are going to append data frames in the module 4 project.  To disable the index column, we simply include the `index_col=False` parameter.\n",
        "* `pd.read_html` returns a list of tables.  If we were to pass in an HTML document with multiple HTML tables, pandas will return a list of a data frames for each of the tables.  This is the reason why we put an `[0]` at the end of the function call.  It allows us to obtain the first table that was contained in the HTML.\n",
        "\n",
        "### Creating a Data Frame from a CSV File\n",
        "Comma-separated values (CSV) files are simple text files are that used to store data.  Many programs like Microsoft Excel, Google Sheets, Python, and Stata will read CSV files.  This makes them super handy for transferring data from one piece of software to another.  \n",
        "\n",
        "You can use Pandas to import a CSV file directly into a data frame using the following line of code:\n",
        "\n",
        "```python\n",
        "df = pd.read_csv(\"file.csv\")\n",
        "```\n",
        "\n",
        "This line would only work if the CSV file is in the same directory as your Python file or notebook.  Alternatively, you can pass in a website URL directly, as can be seen below.\n",
        "\n",
        "```python\n",
        "df = pd.read_csv(\"https://www.stat.purdue.edu/scs/docs/Cars.csv\")\n",
        "```"
      ]
    },
    {
      "cell_type": "markdown",
      "metadata": {
        "id": "g5KtoczmU7MZ"
      },
      "source": [
        "## Exercise 1\n",
        "Remember the complicated procedure we had to go through to import a CSV file in the module 2 project?  We promised that there was an easier way to import a CSV using Pandas.  For this exercise, we are going to import the same campaign spending CSV file into a Pandas data frame.\n",
        "\n",
        "1. Create a data frame from the Brookings Institute campaign spending CSV file (the URL is provided in the function).\n",
        "2. Return the campaign spending data frame using the **return** keyword.\n",
        "\n",
        "**Hint: You only need to add one or two lines of code for this exercise**"
      ]
    },
    {
      "cell_type": "code",
      "metadata": {
        "id": "-gHBG9frU7Ma",
        "colab": {
          "base_uri": "https://localhost:8080/"
        },
        "outputId": "61e4c91b-5e4f-40a5-c4fb-afab5daeac89"
      },
      "source": [
        "import pandas as pd\n",
        "\n",
        "def get_campaign_spending_data():\n",
        "\n",
        "  url = \"https://www.brookings.edu/wp-content/uploads/2017/01/vitalstats_ch3_tbl1.csv\"\n",
        "\n",
        "  # Type your code here\n",
        "  \n",
        "    \n",
        "    \n",
        "    \n",
        "    \n",
        "\n",
        "# IGNORE BELOW\n",
        "# Test Cases\n",
        "import unittest \n",
        "  \n",
        "class TestCases(unittest.TestCase):  \n",
        "    def test(self):\n",
        "        df = get_campaign_spending_data()\n",
        "        print(df)\n",
        "        \n",
        "        self.assertTrue(df.iloc[1,2] == 1516021)\n",
        "        self.assertTrue(df.iloc[18,2] == 10464068)\n",
        "        self.assertTrue(df.iloc[14,3] == 813158)\n",
        "        self.assertTrue(round(df.iloc[28,3], 3) == 6276319.438)\n",
        "        year = 2018\n",
        "        for i in range(34):\n",
        "            if i == 17:\n",
        "                year = 2018\n",
        "                \n",
        "            if i < 17:\n",
        "                self.assertTrue(df.iloc[i,1] == \"House\")\n",
        "            else:\n",
        "                self.assertTrue(df.iloc[i,1] == \"Senate\")\n",
        "                \n",
        "            self.assertTrue(df.iloc[i,0] == year)\n",
        "            year -= 2   \n",
        "        \n",
        "\n",
        "if __name__ == '__main__': \n",
        "    unittest.main(argv=[''], exit=False)"
      ],
      "execution_count": null,
      "outputs": [
        {
          "output_type": "stream",
          "text": [
            "."
          ],
          "name": "stderr"
        },
        {
          "output_type": "stream",
          "text": [
            "    Year Chamber  NominalDollars   2018Dollars\n",
            "0   2018   House    2.092822e+06  2.092822e+06\n",
            "1   2016   House    1.516021e+06  1.586135e+06\n",
            "2   2014   House    1.466533e+06  1.555559e+06\n",
            "3   2012   House    1.596953e+06  1.746588e+06\n",
            "4   2010   House    1.434760e+06  1.652228e+06\n",
            "5   2008   House    1.362239e+06  1.588774e+06\n",
            "6   2006   House    1.259791e+06  1.569158e+06\n",
            "7   2004   House    1.038391e+06  1.380345e+06\n",
            "8   2002   House    9.116440e+05  1.272486e+06\n",
            "9   2000   House    8.459070e+05  1.233526e+06\n",
            "10  1998   House    6.778070e+05  1.044185e+06\n",
            "11  1996   House    6.861980e+05  1.098210e+06\n",
            "12  1994   House    5.411210e+05  9.168640e+05\n",
            "13  1992   House    5.564750e+05  9.959710e+05\n",
            "14  1990   House    4.232450e+05  8.131580e+05\n",
            "15  1988   House    4.003860e+05  8.498709e+05\n",
            "16  1986   House    3.595770e+05  8.238349e+05\n",
            "17  2018  Senate    1.486323e+07  1.486323e+07\n",
            "18  2016  Senate    1.046407e+07  1.094802e+07\n",
            "19  2014  Senate    9.655660e+06  1.024180e+07\n",
            "20  2012  Senate    1.035156e+07  1.132150e+07\n",
            "21  2010  Senate    8.993945e+06  1.035717e+07\n",
            "22  2008  Senate    7.101029e+06  8.281901e+06\n",
            "23  2006  Senate    8.835416e+06  1.100513e+07\n",
            "24  2004  Senate    7.183825e+06  9.549543e+06\n",
            "25  2002  Senate    3.728644e+06  5.204495e+06\n",
            "26  2000  Senate    7.198423e+06  1.049695e+07\n",
            "27  1998  Senate    4.655806e+06  7.172426e+06\n",
            "28  1996  Senate    3.921653e+06  6.276319e+06\n",
            "29  1994  Senate    4.488195e+06  7.604704e+06\n",
            "30  1992  Senate    3.353115e+06  6.001359e+06\n",
            "31  1990  Senate    3.298324e+06  6.336896e+06\n",
            "32  1988  Senate    3.746225e+06  7.951845e+06\n",
            "33  1986  Senate    3.067559e+06  7.028153e+06\n"
          ],
          "name": "stdout"
        },
        {
          "output_type": "stream",
          "text": [
            "\n",
            "----------------------------------------------------------------------\n",
            "Ran 1 test in 0.151s\n",
            "\n",
            "OK\n"
          ],
          "name": "stderr"
        }
      ]
    },
    {
      "cell_type": "markdown",
      "metadata": {
        "id": "HLg2hTGIU7Mb"
      },
      "source": [
        "## Adding Column to a Data Frame\n",
        "We can add a column to a data frame by either specifying a single value or a list.  For instance:\n",
        "```python\n",
        "df[\"State\"] = \"Indiana\"\n",
        "```\n",
        "This line of code will add a column named `State` with the value `Indiana` for all of the rows.\n",
        "\n",
        "```python\n",
        "df[\"State\"] = [\"Ohio\", \"Illinois\", \"Michigan\"]\n",
        "```\n",
        "\n",
        "Alternatively, we could use could use the above line.  It would still create a new column called `State`, however each of the values in the list would be placed in the respective index of the data frame.  To elaborate, the first row of the data frame would now have `Ohio` in the `State` column.  The second row would have `Illinois` in the `State` column and the third row has `Michigan`.  **The length of the list must match the numbers of rows in the data frame.  Otherwise, you will get a runtime error like this:**\n",
        "\n",
        "```python\n",
        "raise ValueError(\"Length of values does not match length of index\")\n",
        "```"
      ]
    },
    {
      "cell_type": "markdown",
      "metadata": {
        "id": "Ie9nxDIMU7Mb"
      },
      "source": [
        "## Exercise 2\n",
        "\n",
        "For this exercise, you are going to add a column to a data frame.  The function has a data frame called `df` as a parameter.  Add a column called \"founded\" with the following values [1869, 1870, 1817], then return the updated data frame."
      ]
    },
    {
      "cell_type": "code",
      "metadata": {
        "id": "Kt2uR1QAU7Mc",
        "outputId": "fd140c0f-75a3-450a-a869-91dfe0ee5c2c"
      },
      "source": [
        "import pandas as pd\n",
        "\n",
        "def add_founded_year(df):\n",
        "    # Type your code here\n",
        "    \n",
        "    \n",
        "    \n",
        "    \n",
        "    \n",
        "    \n",
        "# IGNORE BELOW\n",
        "# Test Cases\n",
        "import unittest \n",
        "  \n",
        "class TestCases(unittest.TestCase):  \n",
        "    def test(self):\n",
        "        df = pd.DataFrame({'name': ['Purdue', 'Ohio State', 'Michigan'], 'nickname': ['Boilermakers', 'Buckeyes', 'Wolverines']})\n",
        "        new_df = add_founded_year(df)\n",
        "        self.assertTrue(new_df['name'].equals(df['name']))\n",
        "        self.assertTrue(new_df['nickname'].equals(df['nickname']))\n",
        "        self.assertTrue(new_df['founded'].equals(pd.Series([1869, 1870, 1817])))\n",
        "\n",
        "\n",
        "if __name__ == '__main__': \n",
        "    unittest.main(argv=[''], exit=False)"
      ],
      "execution_count": null,
      "outputs": [
        {
          "output_type": "stream",
          "text": [
            "F\n",
            "======================================================================\n",
            "FAIL: test (__main__.TestCases)\n",
            "----------------------------------------------------------------------\n",
            "Traceback (most recent call last):\n",
            "  File \"<ipython-input-2-b5f8a86971be>\", line 22, in test\n",
            "    self.assertTrue(new_df['founded'].equals(pd.Series([1869, 1870, 1817])))\n",
            "AssertionError: False is not true\n",
            "\n",
            "----------------------------------------------------------------------\n",
            "Ran 1 test in 0.008s\n",
            "\n",
            "FAILED (failures=1)\n"
          ],
          "name": "stderr"
        }
      ]
    },
    {
      "cell_type": "markdown",
      "metadata": {
        "id": "VHGqCvztU7Md"
      },
      "source": [
        "## Appending Data Frames Together\n",
        "It is sometimes useful to combine multiple data frames together.  For example, if we are aggregating the data of each district's campaign contribution tables, we would want to combine all of these tables together into a single data frame.  This will make it easier to analyze and export the data.\n",
        "\n",
        "```python\n",
        "together_df = big_df.append(small_df)\n",
        "```\n",
        "This line above will add the rows from the `small_df` to the `big_df`.  Keep in mind that we don't have to create a new variable.  We could have just as easily done this:\n",
        "\n",
        "```python\n",
        "big_df = big_1.append(small_2)\n",
        "```"
      ]
    },
    {
      "cell_type": "markdown",
      "metadata": {
        "id": "emDpb-b-U7Me"
      },
      "source": [
        "## Exercise 3\n",
        "\n",
        "For this function, you are given two data frames.  Return the resulting data frame after you append `df_2` to the end of `df_1`."
      ]
    },
    {
      "cell_type": "code",
      "metadata": {
        "id": "csHl-SeCU7Me"
      },
      "source": [
        "import pandas as pd\n",
        "\n",
        "def append_df(df_1, df_2):\n",
        "    # Type your code here\n",
        "    \n",
        "    \n",
        "    \n",
        "    \n",
        "    \n",
        "    \n",
        "# IGNORE BELOW\n",
        "# Test Cases\n",
        "import unittest    \n",
        "    \n",
        "class TestCases(unittest.TestCase):  \n",
        "    def test(self):\n",
        "        df = pd.DataFrame({'name': ['Purdue', 'Ohio State', 'Michigan', 'Minnesota', 'Wisconsin', 'Illinois'],\n",
        "                             'nickname': ['Boilermakers', 'Buckeyes', 'Wolverines', 'Golden Gophers', 'Badgers', 'Fighting Illini']})\n",
        "        new_df = append_df(df[:3], df[3:])\n",
        "        self.assertTrue(df.equals(new_df))\n",
        "\n",
        "\n",
        "if __name__ == '__main__': \n",
        "    unittest.main(argv=[''], exit=False)"
      ],
      "execution_count": null,
      "outputs": []
    },
    {
      "cell_type": "markdown",
      "metadata": {
        "id": "YlaHZwZ3U7Mf"
      },
      "source": [
        "## Indexing a Data Frame\n",
        "\n",
        "There are several ways to access specific rows and columns using Pandas.  We will show you a few of the ways here.\n",
        "\n",
        "### Accessing Individuals Cells\n",
        "You can use the `.iloc` property to access individual values in a Pandas data frame by specifying the associated row and column.  Below, you can see `.iloc` in action with a data set on party unity in Congress.  You can also see a preview of what the data looks like in an Excel spreadsheet.\n",
        "\n",
        "![Party Unity Data](https://user-images.githubusercontent.com/25762130/90160957-73587f80-dd60-11ea-809d-71dbf4fba130.png)"
      ]
    },
    {
      "cell_type": "code",
      "metadata": {
        "id": "g2XCIdhHU7Mf",
        "outputId": "87ed8dc2-e922-4f18-bdbb-cda80a928cc0"
      },
      "source": [
        "import pandas as pd\n",
        "\n",
        "party_unity = pd.read_csv(\"https://www.brookings.edu/wp-content/uploads/2017/01/vitalstats_ch8_tbl3.csv\")\n",
        "print(party_unity.iloc[3,2])"
      ],
      "execution_count": null,
      "outputs": [
        {
          "output_type": "stream",
          "text": [
            "43.8\n"
          ],
          "name": "stdout"
        }
      ]
    },
    {
      "cell_type": "markdown",
      "metadata": {
        "id": "25PFI5y8U7Mf"
      },
      "source": [
        "As you can see above, we are first creating a data frame using the CSV file's web address.  Then, we use `.iloc` to be able to access an individual row and column in the data frame.  **Notice that we use square brackets instead of parentheses.**  Square brackets are necessary, as they used to index a data structure (just like in lists).  The format is `[row, column]`.  So in the example, we are accessing row 3 and column 2 (remember Python starts counting at 0).  Note that Pandas automatically sets the first row as the column headers.  Therefore, `party_unity.iloc[3,2]` is the Excel equivalent of row 5, column C, as can be seen in the image above. "
      ]
    },
    {
      "cell_type": "markdown",
      "metadata": {
        "id": "wV6Cr7KuU7Mg"
      },
      "source": [
        "### Accessing a Single Row\n",
        "If you want to retrieve an entire row of data, we can still use `iloc`.  However, instead of specifying a row and column, you only provide a row in the the square  brackets."
      ]
    },
    {
      "cell_type": "code",
      "metadata": {
        "id": "fTU0Ic_GU7Mg",
        "outputId": "3e43679c-adaa-4f87-b1c1-5b8f7faa8bfc"
      },
      "source": [
        "import pandas as pd\n",
        "\n",
        "party_unity = pd.read_csv(\"https://www.brookings.edu/wp-content/uploads/2017/01/vitalstats_ch8_tbl3.csv\")\n",
        "print(party_unity.iloc[3])"
      ],
      "execution_count": null,
      "outputs": [
        {
          "output_type": "stream",
          "text": [
            "Year                   1956\n",
            "Chamber               House\n",
            "PctPartyUnityVotes     43.8\n",
            "Name: 3, dtype: object\n"
          ],
          "name": "stdout"
        }
      ]
    },
    {
      "cell_type": "markdown",
      "metadata": {
        "id": "NPqo_UuWU7Mg"
      },
      "source": [
        "### Accessing Multiple Rows or Columns\n",
        "If you want to access multiple rows or columns in the same query, you can use a colon with the `iloc` command.  This uses the following format: `lower:upper` for the bounds.  If you don't provide a lower or upper bound, but still use a colon, it will still use that bound, however it will also include all the columns/rows up to that bound."
      ]
    },
    {
      "cell_type": "code",
      "metadata": {
        "id": "fo5BzJg8U7Mh",
        "outputId": "8729d9b2-b55f-44c0-9753-ee0e256ac846"
      },
      "source": [
        "import pandas as pd\n",
        "\n",
        "party_unity = pd.read_csv(\"https://www.brookings.edu/wp-content/uploads/2017/01/vitalstats_ch8_tbl3.csv\")\n",
        "\n",
        "print(\"party_unity.iloc[6:]\")\n",
        "print(party_unity.iloc[6:]) # Includes all the rows, starting with row 6\n",
        "\n",
        "print(\"\\nparty_unity.iloc[:6]\")\n",
        "print(party_unity.iloc[:6]) # Includes rows 0 up to 6 (not inclusive)\n",
        "\n",
        "print(\"\\nparty_unity.iloc[2:6, :2]\")\n",
        "print(party_unity.iloc[2:6, :2]) # Includes rows 2 through 6 and columns 0 through 2 (not inclusive)"
      ],
      "execution_count": null,
      "outputs": [
        {
          "output_type": "stream",
          "text": [
            "party_unity.iloc[6:]\n",
            "     Year Chamber  PctPartyUnityVotes\n",
            "6    1959   House                55.2\n",
            "7    1960   House                52.7\n",
            "8    1961   House                50.0\n",
            "9    1962   House                46.0\n",
            "10   1963   House                48.7\n",
            "..    ...     ...                 ...\n",
            "123  2012  Senate                59.8\n",
            "124  2013  Senate                69.8\n",
            "125  2014  Senate                66.7\n",
            "126  2015  Senate                69.3\n",
            "127  2016  Senate                46.0\n",
            "\n",
            "[122 rows x 3 columns]\n",
            "\n",
            "party_unity.iloc[:6]\n",
            "   Year Chamber  PctPartyUnityVotes\n",
            "0  1953   House                52.1\n",
            "1  1954   House                38.2\n",
            "2  1955   House                40.8\n",
            "3  1956   House                43.8\n",
            "4  1957   House                59.0\n",
            "5  1958   House                39.8\n",
            "\n",
            "party_unity.iloc[2:6, :2]\n",
            "   Year Chamber\n",
            "2  1955   House\n",
            "3  1956   House\n",
            "4  1957   House\n",
            "5  1958   House\n"
          ],
          "name": "stdout"
        }
      ]
    },
    {
      "cell_type": "markdown",
      "metadata": {
        "id": "48TvDnPlU7Mh"
      },
      "source": [
        "### Accessing Individual Columns\n",
        "If you want to retrieve a column with all the rows, you can do so using the colon syntax you learned above.  All you have to do is use no bounds when you are specifying which rows to include.  Then, you can specify the individual column you want to access.\n",
        "\n",
        "Additionally, since the CSV file we have been using has column names, we can use the \"dictionary\" notation with square brackets to index an individual column.  \n",
        "\n",
        "Finally, we can index the respective columns with the \"dot notation\".  We type the name of the data frame, a period, and then the name of the column.\n",
        "\n",
        "Any of these options will work perfectly fine!  It is up to your personal preferences.  "
      ]
    },
    {
      "cell_type": "code",
      "metadata": {
        "id": "kzz4013VU7Mh",
        "outputId": "8d11f375-2897-4510-9b0e-6c7121b85d4d"
      },
      "source": [
        "import pandas as pd\n",
        "\n",
        "party_unity = pd.read_csv(\"https://www.brookings.edu/wp-content/uploads/2017/01/vitalstats_ch8_tbl3.csv\")\n",
        "\n",
        "print(\"Column 1 with colon noation\")\n",
        "print(party_unity.iloc[: , 1]) # Only returns the Chamber column (column 1) with all the rows \n",
        "\n",
        "print(\"\\nChamber column with square bracket noation\")\n",
        "print(party_unity['Chamber']) # Using dictionary notation with the \"Chamber\" column name\n",
        "\n",
        "print(\"\\nYear column with dot noation\")\n",
        "print(party_unity.Year) # Using dot notation with the \"Year\" column name"
      ],
      "execution_count": null,
      "outputs": [
        {
          "output_type": "stream",
          "text": [
            "Column 1 with colon noation\n",
            "0       House\n",
            "1       House\n",
            "2       House\n",
            "3       House\n",
            "4       House\n",
            "        ...  \n",
            "123    Senate\n",
            "124    Senate\n",
            "125    Senate\n",
            "126    Senate\n",
            "127    Senate\n",
            "Name: Chamber, Length: 128, dtype: object\n",
            "\n",
            "Chamber column with square bracket noation\n",
            "0       House\n",
            "1       House\n",
            "2       House\n",
            "3       House\n",
            "4       House\n",
            "        ...  \n",
            "123    Senate\n",
            "124    Senate\n",
            "125    Senate\n",
            "126    Senate\n",
            "127    Senate\n",
            "Name: Chamber, Length: 128, dtype: object\n",
            "\n",
            "Year column with dot noation\n",
            "0      1953\n",
            "1      1954\n",
            "2      1955\n",
            "3      1956\n",
            "4      1957\n",
            "       ... \n",
            "123    2012\n",
            "124    2013\n",
            "125    2014\n",
            "126    2015\n",
            "127    2016\n",
            "Name: Year, Length: 128, dtype: int64\n"
          ],
          "name": "stdout"
        }
      ]
    },
    {
      "cell_type": "markdown",
      "metadata": {
        "id": "WtQOw2OeU7Mh"
      },
      "source": [
        "## Exercise 4\n",
        "Use the **return** statement to return column 2 with rows 34 through 73 of the `data` data frame."
      ]
    },
    {
      "cell_type": "code",
      "metadata": {
        "id": "s-EI9Mr2U7Mi"
      },
      "source": [
        "import pandas as pd\n",
        "\n",
        "def return_specific_data(data):\n",
        "    # Type your code here\n",
        "    \n",
        "    \n",
        "    \n",
        "    \n",
        "\n",
        "\n",
        "# IGNORE BELOW\n",
        "# Test Cases\n",
        "import unittest    \n",
        "    \n",
        "class TestCases(unittest.TestCase):  \n",
        "    def test(self):\n",
        "        data = pd.read_csv(\"https://www.brookings.edu/wp-content/uploads/2017/01/vitalstats_ch8_tbl3.csv\")\n",
        "        new_df = return_specific_data(data)\n",
        "        for i in range(34, 73):\n",
        "            self.assertTrue(data.PctPartyUnityVotes[i] == new_df[i])\n",
        "\n",
        "\n",
        "if __name__ == '__main__': \n",
        "    unittest.main(argv=[''], exit=False)"
      ],
      "execution_count": null,
      "outputs": []
    },
    {
      "cell_type": "markdown",
      "metadata": {
        "id": "vn3gRZtrU7Mi"
      },
      "source": [
        "## Doing Some Math\n",
        "We can easily complete math operations that impact an entire column or row of data.\n",
        "\n",
        "To demonstrate the some of the math operations that can be done with Pandas, we will be using the well known Fisher's Iris flower data set.  This data set can be found [here](https://raw.githubusercontent.com/mwaskom/seaborn-data/master/iris.csv).\n",
        "\n",
        "Here is a preview of the data set.\n",
        "\n",
        "![Iris Data](https://user-images.githubusercontent.com/25762130/90323598-7ce51180-df31-11ea-89c8-66d402a78121.png)\n",
        "\n",
        "### Addition\n",
        "\n",
        "Addition can be done by retrieving the data from two columns or rows of data and using a plus sign between them.  You can also assign the result to its own column."
      ]
    },
    {
      "cell_type": "code",
      "metadata": {
        "id": "2Uo0pe1aU7Mi",
        "outputId": "bd2b994a-e767-477a-c3b7-21c048c3f0e3"
      },
      "source": [
        "import pandas as pd\n",
        "\n",
        "iris = pd.read_csv('https://raw.githubusercontent.com/mwaskom/seaborn-data/master/iris.csv')\n",
        "iris['sepal_width_plus_length'] = iris['sepal_width'] + iris['sepal_length']\n",
        "\n",
        "print(iris)"
      ],
      "execution_count": null,
      "outputs": [
        {
          "output_type": "stream",
          "text": [
            "     sepal_length  sepal_width  petal_length  petal_width    species  \\\n",
            "0             5.1          3.5           1.4          0.2     setosa   \n",
            "1             4.9          3.0           1.4          0.2     setosa   \n",
            "2             4.7          3.2           1.3          0.2     setosa   \n",
            "3             4.6          3.1           1.5          0.2     setosa   \n",
            "4             5.0          3.6           1.4          0.2     setosa   \n",
            "..            ...          ...           ...          ...        ...   \n",
            "145           6.7          3.0           5.2          2.3  virginica   \n",
            "146           6.3          2.5           5.0          1.9  virginica   \n",
            "147           6.5          3.0           5.2          2.0  virginica   \n",
            "148           6.2          3.4           5.4          2.3  virginica   \n",
            "149           5.9          3.0           5.1          1.8  virginica   \n",
            "\n",
            "     sepal_width_plus_length  \n",
            "0                        8.6  \n",
            "1                        7.9  \n",
            "2                        7.9  \n",
            "3                        7.7  \n",
            "4                        8.6  \n",
            "..                       ...  \n",
            "145                      9.7  \n",
            "146                      8.8  \n",
            "147                      9.5  \n",
            "148                      9.6  \n",
            "149                      8.9  \n",
            "\n",
            "[150 rows x 6 columns]\n"
          ],
          "name": "stdout"
        }
      ]
    },
    {
      "cell_type": "markdown",
      "metadata": {
        "id": "nk6sJsZAU7Mi"
      },
      "source": [
        "### Subtraction\n",
        "You can subtract the value of two columns by using the subtraction sign in a similar matter to addition above.  "
      ]
    },
    {
      "cell_type": "code",
      "metadata": {
        "id": "tdsQ3sMaU7Mj",
        "outputId": "e12823c7-e4bb-49b0-b58b-ae4375d814f2"
      },
      "source": [
        "import pandas as pd\n",
        "\n",
        "iris = pd.read_csv('https://raw.githubusercontent.com/mwaskom/seaborn-data/master/iris.csv')\n",
        "iris['sepal_petal_length_diff'] = iris['sepal_length'] - iris['petal_length']\n",
        "\n",
        "print(iris)"
      ],
      "execution_count": null,
      "outputs": [
        {
          "output_type": "stream",
          "text": [
            "     sepal_length  sepal_width  petal_length  petal_width    species  \\\n",
            "0             5.1          3.5           1.4          0.2     setosa   \n",
            "1             4.9          3.0           1.4          0.2     setosa   \n",
            "2             4.7          3.2           1.3          0.2     setosa   \n",
            "3             4.6          3.1           1.5          0.2     setosa   \n",
            "4             5.0          3.6           1.4          0.2     setosa   \n",
            "..            ...          ...           ...          ...        ...   \n",
            "145           6.7          3.0           5.2          2.3  virginica   \n",
            "146           6.3          2.5           5.0          1.9  virginica   \n",
            "147           6.5          3.0           5.2          2.0  virginica   \n",
            "148           6.2          3.4           5.4          2.3  virginica   \n",
            "149           5.9          3.0           5.1          1.8  virginica   \n",
            "\n",
            "     sepal_petal_length_diff  \n",
            "0                        3.7  \n",
            "1                        3.5  \n",
            "2                        3.4  \n",
            "3                        3.1  \n",
            "4                        3.6  \n",
            "..                       ...  \n",
            "145                      1.5  \n",
            "146                      1.3  \n",
            "147                      1.3  \n",
            "148                      0.8  \n",
            "149                      0.8  \n",
            "\n",
            "[150 rows x 6 columns]\n"
          ],
          "name": "stdout"
        }
      ]
    },
    {
      "cell_type": "markdown",
      "metadata": {
        "id": "52c4UXn8U7Mj"
      },
      "source": [
        "### Multiplication and Division\n",
        "You can multiply the value of two columns by using the pound sign (\\*).  To divide, use the forward slash (/).  In the example below, we don't assign the result to a new column in the data frame (for demonstration purposes)."
      ]
    },
    {
      "cell_type": "code",
      "metadata": {
        "id": "KPNcBq67U7Mj",
        "outputId": "1beaf3ea-9011-4cfc-8eb7-fab76ad405f8"
      },
      "source": [
        "import pandas as pd\n",
        "\n",
        "iris = pd.read_csv('https://raw.githubusercontent.com/mwaskom/seaborn-data/master/iris.csv')\n",
        "print(iris['sepal_length'] * iris['sepal_width'])\n",
        "print(iris['sepal_length'] / iris['sepal_width'])"
      ],
      "execution_count": null,
      "outputs": [
        {
          "output_type": "stream",
          "text": [
            "0      17.85\n",
            "1      14.70\n",
            "2      15.04\n",
            "3      14.26\n",
            "4      18.00\n",
            "       ...  \n",
            "145    20.10\n",
            "146    15.75\n",
            "147    19.50\n",
            "148    21.08\n",
            "149    17.70\n",
            "Length: 150, dtype: float64\n",
            "0      1.457143\n",
            "1      1.633333\n",
            "2      1.468750\n",
            "3      1.483871\n",
            "4      1.388889\n",
            "         ...   \n",
            "145    2.233333\n",
            "146    2.520000\n",
            "147    2.166667\n",
            "148    1.823529\n",
            "149    1.966667\n",
            "Length: 150, dtype: float64\n"
          ],
          "name": "stdout"
        }
      ]
    },
    {
      "cell_type": "markdown",
      "metadata": {
        "id": "3mO86d_wU7Mk"
      },
      "source": [
        "### Mean (Average)\n",
        "Pandas has a function that allows you to quickly calculate the mean in a data frame.  The most important argument you need to know for this function is whether you want to calculate the mean for the rows or the columns.  \n",
        "\n",
        "If you want to get the mean of the rows, you would specify `axis=0`.  This mean that you would get a mean for each of the column labels.  \n",
        "\n",
        "If you want to get the mean of the columns (i.e. get the mean for each row label), you would specify `axis=1`.  \n",
        "\n",
        "If you don't specify an axis, then the default is `axis=0`.\n",
        "\n",
        "So the example syntax would be:\n",
        "\n",
        "```python\n",
        "DataFrame.mean(axis=1)\n",
        "```"
      ]
    },
    {
      "cell_type": "code",
      "metadata": {
        "id": "db96dZb5U7Mk",
        "outputId": "aabd19ba-12bd-49d4-83ab-16328cea9eec"
      },
      "source": [
        "import pandas as pd\n",
        "\n",
        "iris = pd.read_csv('https://raw.githubusercontent.com/mwaskom/seaborn-data/master/iris.csv')\n",
        "print(iris.mean(axis=0))"
      ],
      "execution_count": null,
      "outputs": [
        {
          "output_type": "stream",
          "text": [
            "sepal_length    5.843333\n",
            "sepal_width     3.057333\n",
            "petal_length    3.758000\n",
            "petal_width     1.199333\n",
            "dtype: float64\n"
          ],
          "name": "stdout"
        }
      ]
    },
    {
      "cell_type": "markdown",
      "metadata": {
        "id": "EaROchQ4U7Ml"
      },
      "source": [
        "### Median, Minimum, Maximum, and Sum\n",
        "\n",
        "To calculate the median, min, max, and sum, you simply call the corresponding function on the data frame.  Just like the mean function, you can specify the appropriate axis using the `axis=0` or `axis=1` argument.\n",
        "\n",
        "Another useful argument that can be used for all of these functions (including the `.mean()` function) is `numeric_only=True`.  This argument will only make the respective calculations for the integer, float, or Boolean values, which is useful in the Iris data set, since doing calculations on the species string isn't usually applicable.\n",
        "\n",
        "We don't have to pass any arguments to these functions, as can be seen in the `.median()` function below.  It defaults to using `axis=0`."
      ]
    },
    {
      "cell_type": "code",
      "metadata": {
        "id": "CJpX47ZqU7Ml",
        "outputId": "946642dd-f19f-4ee0-e965-3de05cb9f19c"
      },
      "source": [
        "import pandas as pd\n",
        "\n",
        "iris = pd.read_csv('https://raw.githubusercontent.com/mwaskom/seaborn-data/master/iris.csv')\n",
        "\n",
        "print('Median')\n",
        "print(iris.median()) # Notice we don't pass any arguments; it defaults to axis=0\n",
        "\n",
        "print('\\nMinimum')\n",
        "print(iris.min(numeric_only=True))\n",
        "\n",
        "print('\\nMaximum')\n",
        "print(iris.max(numeric_only=True))\n",
        "\n",
        "print('\\nSum')\n",
        "print(iris.sum(numeric_only=True))"
      ],
      "execution_count": null,
      "outputs": [
        {
          "output_type": "stream",
          "text": [
            "Median\n",
            "sepal_length    5.80\n",
            "sepal_width     3.00\n",
            "petal_length    4.35\n",
            "petal_width     1.30\n",
            "dtype: float64\n",
            "\n",
            "Minimum\n",
            "sepal_length    4.3\n",
            "sepal_width     2.0\n",
            "petal_length    1.0\n",
            "petal_width     0.1\n",
            "dtype: float64\n",
            "\n",
            "Maximum\n",
            "sepal_length    7.9\n",
            "sepal_width     4.4\n",
            "petal_length    6.9\n",
            "petal_width     2.5\n",
            "dtype: float64\n",
            "\n",
            "Sum\n",
            "sepal_length    876.5\n",
            "sepal_width     458.6\n",
            "petal_length    563.7\n",
            "petal_width     179.9\n",
            "dtype: float64\n"
          ],
          "name": "stdout"
        }
      ]
    },
    {
      "cell_type": "markdown",
      "metadata": {
        "id": "5MoSZgYGU7Ml"
      },
      "source": [
        "### Mode\n",
        "Mode can be a little bit different, simply because a given attribute could potentially have multiple modes.  With the Iris data set, there are an equal number of \"versicolor\", \"virginica\", and \"setosa\" instances in the \"species\" attribute.  This means that we have three modes for the \"species\" attribute.  However, our other column attributes might only have one mode.  As you can see below, when there are fewer modes in another column, then we get `NaN` (not a number).\n",
        "\n",
        "The mode for each of the columns is:\n",
        "* **sepal_length**: 5.0\n",
        "* **sepal_width**: 3.0\n",
        "* **petal_length**: 1.4 and 1.5\n",
        "* **petal_width**: 0.2\n",
        "* **species**: setosa, versicolor, and virginica"
      ]
    },
    {
      "cell_type": "code",
      "metadata": {
        "id": "WSYcsydgU7Ml",
        "outputId": "8c5eb000-703d-417f-d852-2f18ef2570dd"
      },
      "source": [
        "import pandas as pd\n",
        "\n",
        "iris = pd.read_csv('https://raw.githubusercontent.com/mwaskom/seaborn-data/master/iris.csv')\n",
        "print(iris.mode())"
      ],
      "execution_count": null,
      "outputs": [
        {
          "output_type": "stream",
          "text": [
            "   sepal_length  sepal_width  petal_length  petal_width     species\n",
            "0           5.0          3.0           1.4          0.2      setosa\n",
            "1           NaN          NaN           1.5          NaN  versicolor\n",
            "2           NaN          NaN           NaN          NaN   virginica\n"
          ],
          "name": "stdout"
        }
      ]
    },
    {
      "cell_type": "markdown",
      "metadata": {
        "id": "BfWgbssyU7Mm"
      },
      "source": [
        "## Descriptive Statistics Function\n",
        "The `.describe()` function is a quick way to get the count, mean, standard deviation, minimum, 25% quartile, mean, 50% quartile, and maximum.  "
      ]
    },
    {
      "cell_type": "code",
      "metadata": {
        "id": "mQP9kzblU7Mm",
        "outputId": "82babb30-1484-4a2e-8d5a-29f8d33bc2df"
      },
      "source": [
        "import pandas as pd\n",
        "\n",
        "iris = pd.read_csv('https://raw.githubusercontent.com/mwaskom/seaborn-data/master/iris.csv')\n",
        "print(iris.describe())"
      ],
      "execution_count": null,
      "outputs": [
        {
          "output_type": "stream",
          "text": [
            "       sepal_length  sepal_width  petal_length  petal_width\n",
            "count    150.000000   150.000000    150.000000   150.000000\n",
            "mean       5.843333     3.057333      3.758000     1.199333\n",
            "std        0.828066     0.435866      1.765298     0.762238\n",
            "min        4.300000     2.000000      1.000000     0.100000\n",
            "25%        5.100000     2.800000      1.600000     0.300000\n",
            "50%        5.800000     3.000000      4.350000     1.300000\n",
            "75%        6.400000     3.300000      5.100000     1.800000\n",
            "max        7.900000     4.400000      6.900000     2.500000\n"
          ],
          "name": "stdout"
        }
      ]
    },
    {
      "cell_type": "markdown",
      "metadata": {
        "id": "eswRMCSAU7Mm"
      },
      "source": [
        "## Obtain Statistics for an Individual Columns/Rows\n",
        "So far, we have shown using statistical functions on data frames, but how do we access a statistic for an individual column or row?  There are a couple ways to achieve this.\n",
        "\n",
        "1. Calculate the statistics for entire data frame, then get an individual column/row value.  This works as each of the statistics function simply returns a data frame as a result.  Therefore, you can access the resulting statistics just like a regular data frame. \n",
        "2. Index a single column/row, and using a statistics function on that particular column/row\n",
        "\n",
        "Either method will work, but method 2 is typically preferred if you only need a statistic for an individual column/row.  It will run faster, since fewer calculations are completed."
      ]
    },
    {
      "cell_type": "code",
      "metadata": {
        "id": "qYsgHGaFU7Mm",
        "outputId": "af6c1248-acc4-40ca-caa6-710d09db4961"
      },
      "source": [
        "import pandas as pd\n",
        "\n",
        "iris = pd.read_csv('https://raw.githubusercontent.com/mwaskom/seaborn-data/master/iris.csv')\n",
        "\n",
        "# Method 1\n",
        "print(iris.mean()['sepal_length'])\n",
        "\n",
        "# Method 2\n",
        "print(iris['sepal_length'].mean())"
      ],
      "execution_count": null,
      "outputs": [
        {
          "output_type": "stream",
          "text": [
            "5.843333333333334\n",
            "5.843333333333334\n"
          ],
          "name": "stdout"
        }
      ]
    },
    {
      "cell_type": "markdown",
      "metadata": {
        "id": "lWK6xjFGU7Mn"
      },
      "source": [
        "## Exercise 5\n",
        "For this exercise, we are still using the Fisher's Iris flower data set.  We are going to get some statistics on an estimated petal area. Multiply the `petal_width` with the `petal_length` and assign it to a new column called `petal_area`.  Then you are going to use the **return** command to return the mean, minimum, and maximum for the newly created `petal_area` column.  Recall you can return multiple values by separating the values with commas.  Make sure you use the proper order (mean, minimum, maximum).  The `iris` variable in the function is the data frame you need to manipulate.   \n"
      ]
    },
    {
      "cell_type": "code",
      "metadata": {
        "id": "jJmALhoqU7Mn"
      },
      "source": [
        "import pandas as pd\n",
        "\n",
        "def petal_area_stats(iris):\n",
        "    # Type your code here\n",
        "    \n",
        "    \n",
        "    \n",
        "    \n",
        "    \n",
        "    \n",
        "    \n",
        "# IGNORE BELOW\n",
        "# Test Cases\n",
        "import unittest    \n",
        "    \n",
        "class TestCases(unittest.TestCase):  \n",
        "    def test(self):\n",
        "        iris = pd.read_csv('https://raw.githubusercontent.com/mwaskom/seaborn-data/master/iris.csv')\n",
        "        mean, minimum, maximum = petal_area_stats(iris)\n",
        "        self.assertTrue(round(mean, 6) == 5.794067)\n",
        "        self.assertTrue(round(minimum, 2) == 0.11)\n",
        "        self.assertTrue(maximum == 15.87)\n",
        "\n",
        "\n",
        "if __name__ == '__main__': \n",
        "    unittest.main(argv=[''], exit=False)"
      ],
      "execution_count": null,
      "outputs": []
    },
    {
      "cell_type": "markdown",
      "metadata": {
        "id": "9fWZj1DKU7Mn"
      },
      "source": [
        "## Filtering\n",
        "It is good to know how to filter out certain rows in data frame.  For example, returning to the Iris flower data set, it might be useful to only look at the \"versicolor\" species.  \n",
        "\n",
        "First, we use relational operators to make some kind of comparison.  We can use any relational operator that we learned in module 2 (>, < , !=, etc.).  With the example mentioned above, we want to check if the species column equals `versicolor`, like this `iris['species'] == 'versicolor'`.  Doing this will create a ***series***, which is basically a data frame with a single column.  This series will be comprised of **True** and **False** values on whether the row meets the criteria that was specified.\n",
        "\n",
        "Once we have a series of **True** and **False** values for each of the rows, we can use square brackets on the original data frame to filter out the rows that are **False**.\n",
        "\n",
        "We can see an example of this below.  We don't need to make the Series its own variable.  We can simply pass it directly into the square brackets of the data frame.\n"
      ]
    },
    {
      "cell_type": "code",
      "metadata": {
        "id": "j9VDzGtFU7Mn",
        "outputId": "1c4ba4af-7da3-487a-9992-a6ea363b996d"
      },
      "source": [
        "import pandas as pd\n",
        "\n",
        "iris = pd.read_csv('https://raw.githubusercontent.com/mwaskom/seaborn-data/master/iris.csv')\n",
        "\n",
        "filtered_iris = iris[iris['species'] == 'versicolor'] # Here we assign the filtered data frame to new variable\n",
        "\n",
        "filtered_iris # This just displays the table"
      ],
      "execution_count": null,
      "outputs": [
        {
          "output_type": "execute_result",
          "data": {
            "text/html": [
              "<div>\n",
              "<style scoped>\n",
              "    .dataframe tbody tr th:only-of-type {\n",
              "        vertical-align: middle;\n",
              "    }\n",
              "\n",
              "    .dataframe tbody tr th {\n",
              "        vertical-align: top;\n",
              "    }\n",
              "\n",
              "    .dataframe thead th {\n",
              "        text-align: right;\n",
              "    }\n",
              "</style>\n",
              "<table border=\"1\" class=\"dataframe\">\n",
              "  <thead>\n",
              "    <tr style=\"text-align: right;\">\n",
              "      <th></th>\n",
              "      <th>sepal_length</th>\n",
              "      <th>sepal_width</th>\n",
              "      <th>petal_length</th>\n",
              "      <th>petal_width</th>\n",
              "      <th>species</th>\n",
              "    </tr>\n",
              "  </thead>\n",
              "  <tbody>\n",
              "    <tr>\n",
              "      <th>50</th>\n",
              "      <td>7.0</td>\n",
              "      <td>3.2</td>\n",
              "      <td>4.7</td>\n",
              "      <td>1.4</td>\n",
              "      <td>versicolor</td>\n",
              "    </tr>\n",
              "    <tr>\n",
              "      <th>51</th>\n",
              "      <td>6.4</td>\n",
              "      <td>3.2</td>\n",
              "      <td>4.5</td>\n",
              "      <td>1.5</td>\n",
              "      <td>versicolor</td>\n",
              "    </tr>\n",
              "    <tr>\n",
              "      <th>52</th>\n",
              "      <td>6.9</td>\n",
              "      <td>3.1</td>\n",
              "      <td>4.9</td>\n",
              "      <td>1.5</td>\n",
              "      <td>versicolor</td>\n",
              "    </tr>\n",
              "    <tr>\n",
              "      <th>53</th>\n",
              "      <td>5.5</td>\n",
              "      <td>2.3</td>\n",
              "      <td>4.0</td>\n",
              "      <td>1.3</td>\n",
              "      <td>versicolor</td>\n",
              "    </tr>\n",
              "    <tr>\n",
              "      <th>54</th>\n",
              "      <td>6.5</td>\n",
              "      <td>2.8</td>\n",
              "      <td>4.6</td>\n",
              "      <td>1.5</td>\n",
              "      <td>versicolor</td>\n",
              "    </tr>\n",
              "    <tr>\n",
              "      <th>55</th>\n",
              "      <td>5.7</td>\n",
              "      <td>2.8</td>\n",
              "      <td>4.5</td>\n",
              "      <td>1.3</td>\n",
              "      <td>versicolor</td>\n",
              "    </tr>\n",
              "    <tr>\n",
              "      <th>56</th>\n",
              "      <td>6.3</td>\n",
              "      <td>3.3</td>\n",
              "      <td>4.7</td>\n",
              "      <td>1.6</td>\n",
              "      <td>versicolor</td>\n",
              "    </tr>\n",
              "    <tr>\n",
              "      <th>57</th>\n",
              "      <td>4.9</td>\n",
              "      <td>2.4</td>\n",
              "      <td>3.3</td>\n",
              "      <td>1.0</td>\n",
              "      <td>versicolor</td>\n",
              "    </tr>\n",
              "    <tr>\n",
              "      <th>58</th>\n",
              "      <td>6.6</td>\n",
              "      <td>2.9</td>\n",
              "      <td>4.6</td>\n",
              "      <td>1.3</td>\n",
              "      <td>versicolor</td>\n",
              "    </tr>\n",
              "    <tr>\n",
              "      <th>59</th>\n",
              "      <td>5.2</td>\n",
              "      <td>2.7</td>\n",
              "      <td>3.9</td>\n",
              "      <td>1.4</td>\n",
              "      <td>versicolor</td>\n",
              "    </tr>\n",
              "    <tr>\n",
              "      <th>60</th>\n",
              "      <td>5.0</td>\n",
              "      <td>2.0</td>\n",
              "      <td>3.5</td>\n",
              "      <td>1.0</td>\n",
              "      <td>versicolor</td>\n",
              "    </tr>\n",
              "    <tr>\n",
              "      <th>61</th>\n",
              "      <td>5.9</td>\n",
              "      <td>3.0</td>\n",
              "      <td>4.2</td>\n",
              "      <td>1.5</td>\n",
              "      <td>versicolor</td>\n",
              "    </tr>\n",
              "    <tr>\n",
              "      <th>62</th>\n",
              "      <td>6.0</td>\n",
              "      <td>2.2</td>\n",
              "      <td>4.0</td>\n",
              "      <td>1.0</td>\n",
              "      <td>versicolor</td>\n",
              "    </tr>\n",
              "    <tr>\n",
              "      <th>63</th>\n",
              "      <td>6.1</td>\n",
              "      <td>2.9</td>\n",
              "      <td>4.7</td>\n",
              "      <td>1.4</td>\n",
              "      <td>versicolor</td>\n",
              "    </tr>\n",
              "    <tr>\n",
              "      <th>64</th>\n",
              "      <td>5.6</td>\n",
              "      <td>2.9</td>\n",
              "      <td>3.6</td>\n",
              "      <td>1.3</td>\n",
              "      <td>versicolor</td>\n",
              "    </tr>\n",
              "    <tr>\n",
              "      <th>65</th>\n",
              "      <td>6.7</td>\n",
              "      <td>3.1</td>\n",
              "      <td>4.4</td>\n",
              "      <td>1.4</td>\n",
              "      <td>versicolor</td>\n",
              "    </tr>\n",
              "    <tr>\n",
              "      <th>66</th>\n",
              "      <td>5.6</td>\n",
              "      <td>3.0</td>\n",
              "      <td>4.5</td>\n",
              "      <td>1.5</td>\n",
              "      <td>versicolor</td>\n",
              "    </tr>\n",
              "    <tr>\n",
              "      <th>67</th>\n",
              "      <td>5.8</td>\n",
              "      <td>2.7</td>\n",
              "      <td>4.1</td>\n",
              "      <td>1.0</td>\n",
              "      <td>versicolor</td>\n",
              "    </tr>\n",
              "    <tr>\n",
              "      <th>68</th>\n",
              "      <td>6.2</td>\n",
              "      <td>2.2</td>\n",
              "      <td>4.5</td>\n",
              "      <td>1.5</td>\n",
              "      <td>versicolor</td>\n",
              "    </tr>\n",
              "    <tr>\n",
              "      <th>69</th>\n",
              "      <td>5.6</td>\n",
              "      <td>2.5</td>\n",
              "      <td>3.9</td>\n",
              "      <td>1.1</td>\n",
              "      <td>versicolor</td>\n",
              "    </tr>\n",
              "    <tr>\n",
              "      <th>70</th>\n",
              "      <td>5.9</td>\n",
              "      <td>3.2</td>\n",
              "      <td>4.8</td>\n",
              "      <td>1.8</td>\n",
              "      <td>versicolor</td>\n",
              "    </tr>\n",
              "    <tr>\n",
              "      <th>71</th>\n",
              "      <td>6.1</td>\n",
              "      <td>2.8</td>\n",
              "      <td>4.0</td>\n",
              "      <td>1.3</td>\n",
              "      <td>versicolor</td>\n",
              "    </tr>\n",
              "    <tr>\n",
              "      <th>72</th>\n",
              "      <td>6.3</td>\n",
              "      <td>2.5</td>\n",
              "      <td>4.9</td>\n",
              "      <td>1.5</td>\n",
              "      <td>versicolor</td>\n",
              "    </tr>\n",
              "    <tr>\n",
              "      <th>73</th>\n",
              "      <td>6.1</td>\n",
              "      <td>2.8</td>\n",
              "      <td>4.7</td>\n",
              "      <td>1.2</td>\n",
              "      <td>versicolor</td>\n",
              "    </tr>\n",
              "    <tr>\n",
              "      <th>74</th>\n",
              "      <td>6.4</td>\n",
              "      <td>2.9</td>\n",
              "      <td>4.3</td>\n",
              "      <td>1.3</td>\n",
              "      <td>versicolor</td>\n",
              "    </tr>\n",
              "    <tr>\n",
              "      <th>75</th>\n",
              "      <td>6.6</td>\n",
              "      <td>3.0</td>\n",
              "      <td>4.4</td>\n",
              "      <td>1.4</td>\n",
              "      <td>versicolor</td>\n",
              "    </tr>\n",
              "    <tr>\n",
              "      <th>76</th>\n",
              "      <td>6.8</td>\n",
              "      <td>2.8</td>\n",
              "      <td>4.8</td>\n",
              "      <td>1.4</td>\n",
              "      <td>versicolor</td>\n",
              "    </tr>\n",
              "    <tr>\n",
              "      <th>77</th>\n",
              "      <td>6.7</td>\n",
              "      <td>3.0</td>\n",
              "      <td>5.0</td>\n",
              "      <td>1.7</td>\n",
              "      <td>versicolor</td>\n",
              "    </tr>\n",
              "    <tr>\n",
              "      <th>78</th>\n",
              "      <td>6.0</td>\n",
              "      <td>2.9</td>\n",
              "      <td>4.5</td>\n",
              "      <td>1.5</td>\n",
              "      <td>versicolor</td>\n",
              "    </tr>\n",
              "    <tr>\n",
              "      <th>79</th>\n",
              "      <td>5.7</td>\n",
              "      <td>2.6</td>\n",
              "      <td>3.5</td>\n",
              "      <td>1.0</td>\n",
              "      <td>versicolor</td>\n",
              "    </tr>\n",
              "    <tr>\n",
              "      <th>80</th>\n",
              "      <td>5.5</td>\n",
              "      <td>2.4</td>\n",
              "      <td>3.8</td>\n",
              "      <td>1.1</td>\n",
              "      <td>versicolor</td>\n",
              "    </tr>\n",
              "    <tr>\n",
              "      <th>81</th>\n",
              "      <td>5.5</td>\n",
              "      <td>2.4</td>\n",
              "      <td>3.7</td>\n",
              "      <td>1.0</td>\n",
              "      <td>versicolor</td>\n",
              "    </tr>\n",
              "    <tr>\n",
              "      <th>82</th>\n",
              "      <td>5.8</td>\n",
              "      <td>2.7</td>\n",
              "      <td>3.9</td>\n",
              "      <td>1.2</td>\n",
              "      <td>versicolor</td>\n",
              "    </tr>\n",
              "    <tr>\n",
              "      <th>83</th>\n",
              "      <td>6.0</td>\n",
              "      <td>2.7</td>\n",
              "      <td>5.1</td>\n",
              "      <td>1.6</td>\n",
              "      <td>versicolor</td>\n",
              "    </tr>\n",
              "    <tr>\n",
              "      <th>84</th>\n",
              "      <td>5.4</td>\n",
              "      <td>3.0</td>\n",
              "      <td>4.5</td>\n",
              "      <td>1.5</td>\n",
              "      <td>versicolor</td>\n",
              "    </tr>\n",
              "    <tr>\n",
              "      <th>85</th>\n",
              "      <td>6.0</td>\n",
              "      <td>3.4</td>\n",
              "      <td>4.5</td>\n",
              "      <td>1.6</td>\n",
              "      <td>versicolor</td>\n",
              "    </tr>\n",
              "    <tr>\n",
              "      <th>86</th>\n",
              "      <td>6.7</td>\n",
              "      <td>3.1</td>\n",
              "      <td>4.7</td>\n",
              "      <td>1.5</td>\n",
              "      <td>versicolor</td>\n",
              "    </tr>\n",
              "    <tr>\n",
              "      <th>87</th>\n",
              "      <td>6.3</td>\n",
              "      <td>2.3</td>\n",
              "      <td>4.4</td>\n",
              "      <td>1.3</td>\n",
              "      <td>versicolor</td>\n",
              "    </tr>\n",
              "    <tr>\n",
              "      <th>88</th>\n",
              "      <td>5.6</td>\n",
              "      <td>3.0</td>\n",
              "      <td>4.1</td>\n",
              "      <td>1.3</td>\n",
              "      <td>versicolor</td>\n",
              "    </tr>\n",
              "    <tr>\n",
              "      <th>89</th>\n",
              "      <td>5.5</td>\n",
              "      <td>2.5</td>\n",
              "      <td>4.0</td>\n",
              "      <td>1.3</td>\n",
              "      <td>versicolor</td>\n",
              "    </tr>\n",
              "    <tr>\n",
              "      <th>90</th>\n",
              "      <td>5.5</td>\n",
              "      <td>2.6</td>\n",
              "      <td>4.4</td>\n",
              "      <td>1.2</td>\n",
              "      <td>versicolor</td>\n",
              "    </tr>\n",
              "    <tr>\n",
              "      <th>91</th>\n",
              "      <td>6.1</td>\n",
              "      <td>3.0</td>\n",
              "      <td>4.6</td>\n",
              "      <td>1.4</td>\n",
              "      <td>versicolor</td>\n",
              "    </tr>\n",
              "    <tr>\n",
              "      <th>92</th>\n",
              "      <td>5.8</td>\n",
              "      <td>2.6</td>\n",
              "      <td>4.0</td>\n",
              "      <td>1.2</td>\n",
              "      <td>versicolor</td>\n",
              "    </tr>\n",
              "    <tr>\n",
              "      <th>93</th>\n",
              "      <td>5.0</td>\n",
              "      <td>2.3</td>\n",
              "      <td>3.3</td>\n",
              "      <td>1.0</td>\n",
              "      <td>versicolor</td>\n",
              "    </tr>\n",
              "    <tr>\n",
              "      <th>94</th>\n",
              "      <td>5.6</td>\n",
              "      <td>2.7</td>\n",
              "      <td>4.2</td>\n",
              "      <td>1.3</td>\n",
              "      <td>versicolor</td>\n",
              "    </tr>\n",
              "    <tr>\n",
              "      <th>95</th>\n",
              "      <td>5.7</td>\n",
              "      <td>3.0</td>\n",
              "      <td>4.2</td>\n",
              "      <td>1.2</td>\n",
              "      <td>versicolor</td>\n",
              "    </tr>\n",
              "    <tr>\n",
              "      <th>96</th>\n",
              "      <td>5.7</td>\n",
              "      <td>2.9</td>\n",
              "      <td>4.2</td>\n",
              "      <td>1.3</td>\n",
              "      <td>versicolor</td>\n",
              "    </tr>\n",
              "    <tr>\n",
              "      <th>97</th>\n",
              "      <td>6.2</td>\n",
              "      <td>2.9</td>\n",
              "      <td>4.3</td>\n",
              "      <td>1.3</td>\n",
              "      <td>versicolor</td>\n",
              "    </tr>\n",
              "    <tr>\n",
              "      <th>98</th>\n",
              "      <td>5.1</td>\n",
              "      <td>2.5</td>\n",
              "      <td>3.0</td>\n",
              "      <td>1.1</td>\n",
              "      <td>versicolor</td>\n",
              "    </tr>\n",
              "    <tr>\n",
              "      <th>99</th>\n",
              "      <td>5.7</td>\n",
              "      <td>2.8</td>\n",
              "      <td>4.1</td>\n",
              "      <td>1.3</td>\n",
              "      <td>versicolor</td>\n",
              "    </tr>\n",
              "  </tbody>\n",
              "</table>\n",
              "</div>"
            ],
            "text/plain": [
              "    sepal_length  sepal_width  petal_length  petal_width     species\n",
              "50           7.0          3.2           4.7          1.4  versicolor\n",
              "51           6.4          3.2           4.5          1.5  versicolor\n",
              "52           6.9          3.1           4.9          1.5  versicolor\n",
              "53           5.5          2.3           4.0          1.3  versicolor\n",
              "54           6.5          2.8           4.6          1.5  versicolor\n",
              "55           5.7          2.8           4.5          1.3  versicolor\n",
              "56           6.3          3.3           4.7          1.6  versicolor\n",
              "57           4.9          2.4           3.3          1.0  versicolor\n",
              "58           6.6          2.9           4.6          1.3  versicolor\n",
              "59           5.2          2.7           3.9          1.4  versicolor\n",
              "60           5.0          2.0           3.5          1.0  versicolor\n",
              "61           5.9          3.0           4.2          1.5  versicolor\n",
              "62           6.0          2.2           4.0          1.0  versicolor\n",
              "63           6.1          2.9           4.7          1.4  versicolor\n",
              "64           5.6          2.9           3.6          1.3  versicolor\n",
              "65           6.7          3.1           4.4          1.4  versicolor\n",
              "66           5.6          3.0           4.5          1.5  versicolor\n",
              "67           5.8          2.7           4.1          1.0  versicolor\n",
              "68           6.2          2.2           4.5          1.5  versicolor\n",
              "69           5.6          2.5           3.9          1.1  versicolor\n",
              "70           5.9          3.2           4.8          1.8  versicolor\n",
              "71           6.1          2.8           4.0          1.3  versicolor\n",
              "72           6.3          2.5           4.9          1.5  versicolor\n",
              "73           6.1          2.8           4.7          1.2  versicolor\n",
              "74           6.4          2.9           4.3          1.3  versicolor\n",
              "75           6.6          3.0           4.4          1.4  versicolor\n",
              "76           6.8          2.8           4.8          1.4  versicolor\n",
              "77           6.7          3.0           5.0          1.7  versicolor\n",
              "78           6.0          2.9           4.5          1.5  versicolor\n",
              "79           5.7          2.6           3.5          1.0  versicolor\n",
              "80           5.5          2.4           3.8          1.1  versicolor\n",
              "81           5.5          2.4           3.7          1.0  versicolor\n",
              "82           5.8          2.7           3.9          1.2  versicolor\n",
              "83           6.0          2.7           5.1          1.6  versicolor\n",
              "84           5.4          3.0           4.5          1.5  versicolor\n",
              "85           6.0          3.4           4.5          1.6  versicolor\n",
              "86           6.7          3.1           4.7          1.5  versicolor\n",
              "87           6.3          2.3           4.4          1.3  versicolor\n",
              "88           5.6          3.0           4.1          1.3  versicolor\n",
              "89           5.5          2.5           4.0          1.3  versicolor\n",
              "90           5.5          2.6           4.4          1.2  versicolor\n",
              "91           6.1          3.0           4.6          1.4  versicolor\n",
              "92           5.8          2.6           4.0          1.2  versicolor\n",
              "93           5.0          2.3           3.3          1.0  versicolor\n",
              "94           5.6          2.7           4.2          1.3  versicolor\n",
              "95           5.7          3.0           4.2          1.2  versicolor\n",
              "96           5.7          2.9           4.2          1.3  versicolor\n",
              "97           6.2          2.9           4.3          1.3  versicolor\n",
              "98           5.1          2.5           3.0          1.1  versicolor\n",
              "99           5.7          2.8           4.1          1.3  versicolor"
            ]
          },
          "metadata": {
            "tags": []
          },
          "execution_count": 10
        }
      ]
    },
    {
      "cell_type": "markdown",
      "metadata": {
        "id": "fvyKFhjFU7Mo"
      },
      "source": [
        "### Using Multiple Relational Expressions\n",
        "\n",
        "If you try to combine relational expressions into a single statement, you will need to enclose each of the expressions with parentheses and use `&` instead of `and`.  This is a Pandas requirement.  Alternatively, you can filter the data frame with the two relational expressions on separate lines."
      ]
    },
    {
      "cell_type": "code",
      "metadata": {
        "id": "vaFQ0OW1U7Mo",
        "outputId": "4c50da44-4d90-4316-ce2c-fc21f76721f3"
      },
      "source": [
        "import pandas as pd\n",
        "\n",
        "iris = pd.read_csv('https://raw.githubusercontent.com/mwaskom/seaborn-data/master/iris.csv')\n",
        "\n",
        "# Example with multiple relational expressions\n",
        "iris = iris[(iris['species'] == 'setosa') & (iris['petal_width'] < 0.2)] # Here we overwrite the value of the iris variable\n",
        "\n",
        "iris # This just displays the table"
      ],
      "execution_count": null,
      "outputs": [
        {
          "output_type": "execute_result",
          "data": {
            "text/html": [
              "<div>\n",
              "<style scoped>\n",
              "    .dataframe tbody tr th:only-of-type {\n",
              "        vertical-align: middle;\n",
              "    }\n",
              "\n",
              "    .dataframe tbody tr th {\n",
              "        vertical-align: top;\n",
              "    }\n",
              "\n",
              "    .dataframe thead th {\n",
              "        text-align: right;\n",
              "    }\n",
              "</style>\n",
              "<table border=\"1\" class=\"dataframe\">\n",
              "  <thead>\n",
              "    <tr style=\"text-align: right;\">\n",
              "      <th></th>\n",
              "      <th>sepal_length</th>\n",
              "      <th>sepal_width</th>\n",
              "      <th>petal_length</th>\n",
              "      <th>petal_width</th>\n",
              "      <th>species</th>\n",
              "    </tr>\n",
              "  </thead>\n",
              "  <tbody>\n",
              "    <tr>\n",
              "      <th>9</th>\n",
              "      <td>4.9</td>\n",
              "      <td>3.1</td>\n",
              "      <td>1.5</td>\n",
              "      <td>0.1</td>\n",
              "      <td>setosa</td>\n",
              "    </tr>\n",
              "    <tr>\n",
              "      <th>12</th>\n",
              "      <td>4.8</td>\n",
              "      <td>3.0</td>\n",
              "      <td>1.4</td>\n",
              "      <td>0.1</td>\n",
              "      <td>setosa</td>\n",
              "    </tr>\n",
              "    <tr>\n",
              "      <th>13</th>\n",
              "      <td>4.3</td>\n",
              "      <td>3.0</td>\n",
              "      <td>1.1</td>\n",
              "      <td>0.1</td>\n",
              "      <td>setosa</td>\n",
              "    </tr>\n",
              "    <tr>\n",
              "      <th>32</th>\n",
              "      <td>5.2</td>\n",
              "      <td>4.1</td>\n",
              "      <td>1.5</td>\n",
              "      <td>0.1</td>\n",
              "      <td>setosa</td>\n",
              "    </tr>\n",
              "    <tr>\n",
              "      <th>37</th>\n",
              "      <td>4.9</td>\n",
              "      <td>3.6</td>\n",
              "      <td>1.4</td>\n",
              "      <td>0.1</td>\n",
              "      <td>setosa</td>\n",
              "    </tr>\n",
              "  </tbody>\n",
              "</table>\n",
              "</div>"
            ],
            "text/plain": [
              "    sepal_length  sepal_width  petal_length  petal_width species\n",
              "9            4.9          3.1           1.5          0.1  setosa\n",
              "12           4.8          3.0           1.4          0.1  setosa\n",
              "13           4.3          3.0           1.1          0.1  setosa\n",
              "32           5.2          4.1           1.5          0.1  setosa\n",
              "37           4.9          3.6           1.4          0.1  setosa"
            ]
          },
          "metadata": {
            "tags": []
          },
          "execution_count": 24
        }
      ]
    },
    {
      "cell_type": "markdown",
      "metadata": {
        "id": "xrSmJW8yU7Mo"
      },
      "source": [
        "## Exporting Data Frames as CSVs\n",
        "\n",
        "You can export a Pandas data frame as a CSV (comma-separated values) file.  This is super useful when you are sharing your data with someone else or if you are importing the data into a another application.  For this course, we are going to be Stata, a statistical software program.  You can obtain the data via Python, then export it to Stata for analysis.\n",
        "\n",
        "```python\n",
        "df.to_csv(\"type_your_csv_name_in_quotes\")\n",
        "```\n",
        "In the quotation marks, type the name you want for your CSV file.  Additionally, if you want to exclude the names of rows (by default, they are just numbers in numerical order), you can add `index=False` as an argument like so:\n",
        "\n",
        "```python\n",
        "df.to_csv(\"file_name\", index=False)\n",
        "```"
      ]
    },
    {
      "cell_type": "markdown",
      "metadata": {
        "id": "KsMEfGN7U7Mp"
      },
      "source": [
        "## Exercise 6\n",
        "\n",
        "For this final exercise, you are exporting a data frame as a CSV.  The function `export_big_iris` has the `iris` data frame parameter passed into it.  This is the same Iris flower data set that we have been working with for most of this module.  Filter out all the rows that have a `sepal_width` lower than 3.4.  This means we only want `iris['sepal_width'] > 3.4`. Additionally, we only want to include rows of the **\"virginica\"** species.\n",
        "\n",
        "Once you have filtered out all the small `sepal_width` rows, export the data frame as a CSV file named `big.csv`.  Make sure you use the `index=False` argument when you do the CSV export."
      ]
    },
    {
      "cell_type": "code",
      "metadata": {
        "id": "Rc4IkEcXU7Mp"
      },
      "source": [
        "import pandas as pd\n",
        "\n",
        "def export_big_iris(iris):\n",
        "    # Type your code here\n",
        "    \n",
        "    \n",
        "    \n",
        "    \n",
        "    \n",
        "    \n",
        "# IGNORE BELOW\n",
        "# Test Cases\n",
        "import unittest    \n",
        "    \n",
        "class TestCases(unittest.TestCase):  \n",
        "    def test(self):\n",
        "        iris = pd.read_csv('https://raw.githubusercontent.com/mwaskom/seaborn-data/master/iris.csv')\n",
        "        export_big_iris(iris)\n",
        "        new_iris = pd.read_csv('big.csv').sort_index(axis=1)\n",
        "        proper_rows = pd.DataFrame({'sepal_length': [7.2, 7.7, 7.9], 'sepal_width': [3.6, 3.8, 3.8], 'petal_length': [6.1, 6.7, 6.4], 'petal_width': [2.5, 2.2, 2.0], 'species': ['virginica'] * 3}).sort_index(axis=1)\n",
        "        self.assertTrue(new_iris.equals(proper_rows))\n",
        "\n",
        "\n",
        "if __name__ == '__main__': \n",
        "    unittest.main(argv=[''], exit=False)"
      ],
      "execution_count": null,
      "outputs": []
    }
  ]
}