{
  "nbformat": 4,
  "nbformat_minor": 0,
  "metadata": {
    "kernelspec": {
      "display_name": "Python 3",
      "language": "python",
      "name": "python3"
    },
    "language_info": {
      "codemirror_mode": {
        "name": "ipython",
        "version": 3
      },
      "file_extension": ".py",
      "mimetype": "text/x-python",
      "name": "python",
      "nbconvert_exporter": "python",
      "pygments_lexer": "ipython3",
      "version": "3.8.2"
    },
    "colab": {
      "name": "module-2-project.ipynb",
      "provenance": [],
      "include_colab_link": true
    }
  },
  "cells": [
    {
      "cell_type": "markdown",
      "metadata": {
        "id": "view-in-github",
        "colab_type": "text"
      },
      "source": [
        "<a href=\"https://colab.research.google.com/github/nalderto/POL300-Public/blob/master/modules/module-2/module-2-project/module-2-project.ipynb\" target=\"_parent\"><img src=\"https://colab.research.google.com/assets/colab-badge.svg\" alt=\"Open In Colab\"/></a>"
      ]
    },
    {
      "cell_type": "markdown",
      "metadata": {
        "id": "CAEKDBuIR3N3"
      },
      "source": [
        "# Module 2 Project\n",
        "\n",
        "Instead of having a quiz this week, we are going to have a short project.  This is going to be very similar to the Python exercises, however we won't be covering any additional content.  You are going to utilize the Python skills covered in modules 1 and 2.  \n",
        "\n",
        "For this project, we are going to be looking at some data hosted on the Brookings Institute on the cost of winning a Congressional seat.  Michael Malbin, Brendan Glavin, and the Campaign Finance Institute aggregated the data on how much successful Senate and House candidates spent to win their election.\n",
        "\n",
        "This is snapshot of what the data looks like.  As you can see, it is broken down by election year and chamber.\n",
        "![Brookings Data Preview](https://user-images.githubusercontent.com/25762130/105004515-16917d00-5a02-11eb-920f-db8fa042b7cb.png)\n",
        "\n",
        "We have provided the code to retrieve the data, all you need to do is to write the code to process the data and answer the following questions.  \n",
        "\n",
        "Once you have passed all the test cases, download the .ipynb file using the instructions in module 1.  Then, upload it to the \"Python Module 2 Project\" assignment on Brightspace.\n",
        "\n",
        "\n",
        "\n",
        "---\n",
        "\n"
      ]
    },
    {
      "cell_type": "markdown",
      "metadata": {
        "id": "2Xd_snvAR3N5"
      },
      "source": [
        "## Obtaining the Data\n",
        "In Python, there a ton of ways to import data.  For this project, we are going to be using a couple Python modules.  Modules are essentially functions that other people have created that we can use.  We are going to discuss modules in more detail during the next assignment.  We are going to be using the `requests` and `csv` modules to obtain the data.  \n",
        "\n",
        "The `requests` module allows us to download things from the Internet.  In this case, we are downloading a CSV (Comma Separated Values) file.  This is essentially a table of values that are separated by commas.  We are going to cover this in more detail in the Python module 3, however here is a brief explanation.  We are calling the `.get()` function from the `requests` module.  We \"get\" the data from the web address in the `url` variable.  Then we use `.content` to get the content from that page.  Finally, we use `.decode('ascii')`, which converts binary into text we can read.\n",
        "\n",
        "The next line creates a DictReader object from the CSV file retrieved above.  This is essentially a list of dictionaries.  Each dictionary has four keys, `Year`, `Chamber`, `NominalDollars`, and `2018Dollars`.  The corresponding values are each of the rows in the CSV file.  The `.splitlines()` function splits up the string of the CSV file into a list of strings, with each entry representing a row in the CSV file.  This is needed for `csv.DictReader` to work.  We also use `list()` to convert the DictReader into an actual list, since you have learned how to use lists.\n",
        "\n",
        "**Don't worry too much if this doesn't make sense.  In a later Python lesson, we will discuss Pandas, which is different package that makes managing tabular data easy.  We are using this approach to get you comfortable with the skills you have learned so far.**\n",
        "\n",
        "Run the code below, and you will see the data from the Brookings CSV file printed.\n",
        "\n",
        "**NOTE: You must run this cell for the rest of project to work!**"
      ]
    },
    {
      "cell_type": "code",
      "metadata": {
        "id": "geN-YAeMR3N6"
      },
      "source": [
        "import requests # This module lets us download things from the internet\n",
        "import csv # This module allows us to work with CSV files\n",
        "\n",
        "# This is the URL to the Brookings Institute website\n",
        "url = \"https://www.brookings.edu/wp-content/uploads/2017/01/vitalstats_ch3_tbl1.csv\"\n",
        "\n",
        "response = requests.get(url).content.decode('ascii') # Downloads the CSV from the URL\n",
        "reader = list(csv.DictReader(response.splitlines())) # Converts the CSV into a list of dictionaries\n",
        "\n",
        "for row in reader: # Iterates through each of the dictionaries in the list\n",
        "    print(row)"
      ],
      "execution_count": null,
      "outputs": []
    },
    {
      "cell_type": "markdown",
      "metadata": {
        "id": "iG_oaa58R3N7"
      },
      "source": [
        "\n",
        "\n",
        "---\n",
        "\n",
        "\n",
        "## Example\n",
        "Before you delve into writing code to answer the questions below, we are going to give an example of how to process the above data.  You can use this example as a guide when creating your Python solutions.   \n",
        "\n",
        "For this example, we are going to find the row with the largest `2018Dollars` value.  We are going to return the entire dictionary for simplicity's sake. "
      ]
    },
    {
      "cell_type": "code",
      "metadata": {
        "scrolled": true,
        "id": "pMDbml_PR3N7"
      },
      "source": [
        "def find_max_2018_dollars(data):\n",
        "    largest = data[0] # We temporarily set largest to the first element in the list\n",
        "    for row in data:\n",
        "      # We check if the \"row\" 2018Dollars is larger than the one set in the \"largest\" variable\n",
        "        if float(row['2018Dollars']) > float(largest['2018Dollars']):\n",
        "            largest = row # If so, we set \"largest\" equal to \"row\"\n",
        "    return largest\n",
        "\n",
        "print(find_max_2018_dollars(reader))"
      ],
      "execution_count": null,
      "outputs": []
    },
    {
      "cell_type": "markdown",
      "metadata": {
        "id": "66rAXB9oR3N7"
      },
      "source": [
        "This function begins by setting the `largest` variable to the first row in our data set.  This essentially gives us a benchmark to compare future rows.  We then begin to iterate through each of the dictionaries in the `data` list variable.  Recall that `data` is just a list of dictionaries.  Each `row` is a dictionary with the following keys: `Year`, `Chamber`, `NominalDollars`, and `2018Dollars`.  With each new `row`, we compare it with the largest `2018Dollars` value we have seen so far.  \n",
        "\n",
        "Notice how we have to wrap the `row['2018Dollars']` in `float()`.  This is to ensure we are doing a numeric comparison.  Otherwise, Python will do a alphabetic comparison since the `csv.DictReader()` read in each of the numerical values as a string (notice the apostrophes wrapping each of the values).  Consider the following:"
      ]
    },
    {
      "cell_type": "code",
      "metadata": {
        "id": "ElD6NGF-R3N8"
      },
      "source": [
        "print('9' > '10000')\n",
        "print(float('9') > float('10000'))\n",
        "print(9 > 10000)"
      ],
      "execution_count": null,
      "outputs": []
    },
    {
      "cell_type": "markdown",
      "metadata": {
        "id": "cVYiW_z4R3N8"
      },
      "source": [
        "We get this strange result, because \"9\" appears later than \"1\" in alphanumeric order.  However, if the numbers are not strings (no apostrophes), we get the value we expect.  The `float()` function converts a string containing a number into an actual number."
      ]
    },
    {
      "cell_type": "markdown",
      "metadata": {
        "id": "kTlnv8suR3N9"
      },
      "source": [
        "Returning to the example code, if we find a `2018Dollars` value that is larger, then we set the `largest` variable to the newly determined largest `2018Dollars` dictionary.  We continue this process until we run out of rows.  Once this happens, the `for` loop ends, and we return the `largest` dictionary.\n",
        "\n",
        "Use the example as your guide, as each of the following problems can be solved with some slight changes to the example code.\n",
        "\n",
        "\n",
        "---\n",
        "\n"
      ]
    },
    {
      "cell_type": "markdown",
      "metadata": {
        "id": "oH6mit2FR3N9"
      },
      "source": [
        "## Exercise 1\n",
        "For this problem, write a function that will go through each of the rows in the dataset and find the row with the lowest `2018Dollars` value.  Just as we did with the example, return the entire dictionary for that respective row.  The function declaration is provided to the you.  The `data` parameter will be a list of dictionaries for each of the corresponding values in the CSV file we loaded up earlier.\n",
        "\n",
        "**Concepts: Lists, Dictionaries, Relational Operators, `for` Loops**"
      ]
    },
    {
      "cell_type": "code",
      "metadata": {
        "id": "TvMNSjpAR3N-"
      },
      "source": [
        "def find_min_2018_dollars(data):\n",
        "    # Type your code here \n",
        "\n",
        "\n",
        "\n",
        "    \n",
        "    \n",
        "    \n",
        "    \n",
        "    \n",
        "    \n",
        "# IGNORE BELOW\n",
        "# Test Cases\n",
        "import unittest \n",
        "  \n",
        "class TestCases(unittest.TestCase):  \n",
        "    def test(self):\n",
        "        smallest = {'Year': '1990', 'Chamber': 'House', 'NominalDollars': '423245', '2018Dollars': '813158'}\n",
        "        self.assertTrue(find_min_2018_dollars(reader) == smallest)\n",
        "\n",
        "        \n",
        "\n",
        "if __name__ == '__main__': \n",
        "    unittest.main(argv=[''], exit=False)"
      ],
      "execution_count": null,
      "outputs": []
    },
    {
      "cell_type": "markdown",
      "metadata": {
        "id": "GQEOcC6kR3N-"
      },
      "source": [
        "## Exercise 2\n",
        "Find which year has the highest `2018Dollars` values for the **House**.  Please just return the year, instead of the entire row.\n",
        "\n",
        "This problem is a bit different compared to the example.  Instead of initializing the largest value seen so far to the first row, instead set it to 0.  The first row belongs to the Senate, so using it as the initial value will result in the wrong answer.  \n",
        "\n",
        "**Hint: Add an `if` statement to check if a row is \"House\" in the \"Chamber\" key.**"
      ]
    },
    {
      "cell_type": "code",
      "metadata": {
        "id": "0OyIwMk-R3N_"
      },
      "source": [
        "def find_max_house(data):\n",
        "    # Type your code here\n",
        "\n",
        "    \n",
        "\n",
        "    \n",
        "    \n",
        "    \n",
        "    \n",
        "    \n",
        "    \n",
        "# IGNORE BELOW\n",
        "# Test Cases\n",
        "import unittest \n",
        "  \n",
        "class TestCases(unittest.TestCase):  \n",
        "    def test(self):\n",
        "        self.assertTrue(int(find_max_house(reader)) == 2018)\n",
        "        \n",
        "\n",
        "if __name__ == '__main__': \n",
        "    unittest.main(argv=['first-arg-is-ignored'], exit=False)"
      ],
      "execution_count": null,
      "outputs": []
    },
    {
      "cell_type": "markdown",
      "metadata": {
        "id": "00S76TUKR3N_"
      },
      "source": [
        "## Exercise 3\n",
        "Which chamber of Congress on average spends more to win elections?  For this problem, you are going to find the average `2018Dollars` value across all the years of available data for each chamber separately.  You are going to return `chamber, average, difference`.  For instance, if you find that the House spends \\$222,000 on average while the Senate spends \\$200,000, then you would return `\"House\", 222,000, 22,000`.\n",
        "\n",
        "1. Start by creating four variables to keep track the House sum, Senate sum, count of House rows, and count of Senate rows.  Each of these variables will be initialized to `0`.  When calculating your average, the sums will be the numerator and the row count will be the denominator.\n",
        "\n",
        "2. Iterate through the rows of the data.  Check if the \"Chamber\" of each row is equal to either \"Senate\" or \"House\".  You can check if a row \"Chamber\" key is equal to either \"House\" or \"Senate\" by using an `if` statement and accessing the index using syntax similar to this, `name_of_dict['Chamber']`.  Depending on the chamber, add the \"2018Dollars\" value to the respective sum and increment the appropriate row counter.\n",
        "\n",
        "3. After iterating through all the rows, create two new variables for the average \"2018Dollars\" for both the House and Senate.\n",
        "\n",
        "4. Compare the two chambers' \"2018Dollars\" averages, and return the appropriate values (`chamber, average, difference`).  If the Senate average is greater then the `chamber` value would be \"Senate\".  If the House average is greater, then the `chamber` would be \"House\".\n",
        "\n",
        "**Hint: Remember that you can return multiple values with `return value1, value2, value3`.**"
      ]
    },
    {
      "cell_type": "code",
      "metadata": {
        "id": "2c06fta7R3OA"
      },
      "source": [
        "def find_bigger_spender(data):\n",
        "    # Type your code here \n",
        "\n",
        "\n",
        "\n",
        "\n",
        "\n",
        "    \n",
        "    \n",
        "    \n",
        "    \n",
        "    \n",
        "    \n",
        "    \n",
        "    \n",
        "# IGNORE BELOW\n",
        "# Test Cases\n",
        "import unittest \n",
        "  \n",
        "class TestCases(unittest.TestCase):  \n",
        "    def test(self):\n",
        "        answer = ('Senate', 8861261.059823528, 7554219.041499998)\n",
        "        self.assertTrue(find_bigger_spender(reader) == answer)\n",
        "\n",
        "        \n",
        "\n",
        "if __name__ == '__main__': \n",
        "    unittest.main(argv=['first-arg-is-ignored'], exit=False)"
      ],
      "execution_count": null,
      "outputs": []
    },
    {
      "cell_type": "code",
      "metadata": {
        "id": "OLXVnFqxR3OC"
      },
      "source": [
        ""
      ],
      "execution_count": null,
      "outputs": []
    }
  ]
}