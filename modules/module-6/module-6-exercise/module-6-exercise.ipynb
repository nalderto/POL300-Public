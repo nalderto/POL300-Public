{
  "nbformat": 4,
  "nbformat_minor": 0,
  "metadata": {
    "kernelspec": {
      "display_name": "Python 3",
      "language": "python",
      "name": "python3"
    },
    "language_info": {
      "codemirror_mode": {
        "name": "ipython",
        "version": 3
      },
      "file_extension": ".py",
      "mimetype": "text/x-python",
      "name": "python",
      "nbconvert_exporter": "python",
      "pygments_lexer": "ipython3",
      "version": "3.9.0rc2"
    },
    "colab": {
      "name": "module-6-exercise.ipynb",
      "provenance": [],
      "include_colab_link": true
    }
  },
  "cells": [
    {
      "cell_type": "markdown",
      "metadata": {
        "id": "view-in-github",
        "colab_type": "text"
      },
      "source": [
        "<a href=\"https://colab.research.google.com/github/nalderto/POL300-Public/blob/master/modules/module-6/module-6-exercise/module-6-exercise.ipynb\" target=\"_parent\"><img src=\"https://colab.research.google.com/assets/colab-badge.svg\" alt=\"Open In Colab\"/></a>"
      ]
    },
    {
      "cell_type": "markdown",
      "metadata": {
        "id": "s982Kfn6aP_z"
      },
      "source": [
        "# Module 6: Visualizations\n",
        "\n",
        "In this module, we will be leveraging a Python module known as Plotly.  Plotly will allow us to quickly visualize data to allow for use to guide and illustrate our research.\n",
        "\n",
        "This module is going to be a little different.  Instead of having test cases that say \"OK\", just make sure that exercises display the proper plot or answer the corresponding question.\n",
        "\n",
        "To submit this Jupyter notebook to Gradescope, reference the instructions in the module 1 activity or the \"Getting Started with Google Colab\" guide on Brightspace.\n",
        "\n",
        "If you are having trouble, don't get discouraged. Read through the section again. If you are still having trouble, try to Google around. There are TONS of good online Python resources. If Google is not being helpful, reach out via the Brightspace Discussion Board."
      ]
    },
    {
      "cell_type": "markdown",
      "metadata": {
        "id": "WwE6jKP6aQAB"
      },
      "source": [
        "## Importing Plotly\n",
        "\n",
        "Plotly is a pretty extensive plotting library.  It can be as simple or as complex as you want.  As a result, there are two primary ways of importing Plotly:\n",
        "\n",
        "```python\n",
        "# The easier but less powerful version\n",
        "import plotly.express as px\n",
        "\n",
        "# The more complex but more powerful version\n",
        "import plotly.graph_objects as go\n",
        "```\n",
        "\n",
        "\n",
        "In an effort to make Plotly more approachable, the developers over at Plotly have created Plotly Express.  Express allows us to create beautiful graphs with Python without having to write as much code.  However, there are some features of Plotly that are not available when using Express.  During those situations, using plotly.graph_objects becomes necessary.\n",
        "\n",
        "For the purposes of this class, we will be using Plotly Express.  The following concepts covered in this module are using Plotly Express, and are mostly incompatible with Plotly graph objects. \n",
        "\n",
        "For more information on Plotly and how to use it with Python, please reference [their website](https://plotly.com/python/).  There are a ton of different plots available with Plotly that we don't have time to cover in this course.    "
      ]
    },
    {
      "cell_type": "markdown",
      "metadata": {
        "id": "lVbwX8j0aQAC"
      },
      "source": [
        "## Scatter Plot\n",
        "\n",
        "Scatter plots are used to display data points on the x-axis and the y-axis of a plot.  We can simply pass in lists into the x and y arguments, as can be seen below.  "
      ]
    },
    {
      "cell_type": "code",
      "metadata": {
        "id": "JXLbM6fqaQAC",
        "outputId": "6fe7461d-8b34-4387-f8d7-248ebae32bb6",
        "colab": {
          "base_uri": "https://localhost:8080/",
          "height": 542
        }
      },
      "source": [
        "import plotly.express as px\n",
        "\n",
        "fig = px.scatter(x=[0, 4, 5, 7, 8], y=[3, 6, 3, 5, 8])\n",
        "fig.show()"
      ],
      "execution_count": 1,
      "outputs": [
        {
          "output_type": "display_data",
          "data": {
            "text/html": [
              "<html>\n",
              "<head><meta charset=\"utf-8\" /></head>\n",
              "<body>\n",
              "    <div>\n",
              "            <script src=\"https://cdnjs.cloudflare.com/ajax/libs/mathjax/2.7.5/MathJax.js?config=TeX-AMS-MML_SVG\"></script><script type=\"text/javascript\">if (window.MathJax) {MathJax.Hub.Config({SVG: {font: \"STIX-Web\"}});}</script>\n",
              "                <script type=\"text/javascript\">window.PlotlyConfig = {MathJaxConfig: 'local'};</script>\n",
              "        <script src=\"https://cdn.plot.ly/plotly-latest.min.js\"></script>    \n",
              "            <div id=\"12b61b98-17fa-432a-9897-c20ff7e2b9ce\" class=\"plotly-graph-div\" style=\"height:525px; width:100%;\"></div>\n",
              "            <script type=\"text/javascript\">\n",
              "                \n",
              "                    window.PLOTLYENV=window.PLOTLYENV || {};\n",
              "                    \n",
              "                if (document.getElementById(\"12b61b98-17fa-432a-9897-c20ff7e2b9ce\")) {\n",
              "                    Plotly.newPlot(\n",
              "                        '12b61b98-17fa-432a-9897-c20ff7e2b9ce',\n",
              "                        [{\"hoverlabel\": {\"namelength\": 0}, \"hovertemplate\": \"x=%{x}<br>y=%{y}\", \"legendgroup\": \"\", \"marker\": {\"color\": \"#636efa\", \"symbol\": \"circle\"}, \"mode\": \"markers\", \"name\": \"\", \"showlegend\": false, \"type\": \"scatter\", \"x\": [0, 4, 5, 7, 8], \"xaxis\": \"x\", \"y\": [3, 6, 3, 5, 8], \"yaxis\": \"y\"}],\n",
              "                        {\"legend\": {\"tracegroupgap\": 0}, \"margin\": {\"t\": 60}, \"template\": {\"data\": {\"bar\": [{\"error_x\": {\"color\": \"#2a3f5f\"}, \"error_y\": {\"color\": \"#2a3f5f\"}, \"marker\": {\"line\": {\"color\": \"#E5ECF6\", \"width\": 0.5}}, \"type\": \"bar\"}], \"barpolar\": [{\"marker\": {\"line\": {\"color\": \"#E5ECF6\", \"width\": 0.5}}, \"type\": \"barpolar\"}], \"carpet\": [{\"aaxis\": {\"endlinecolor\": \"#2a3f5f\", \"gridcolor\": \"white\", \"linecolor\": \"white\", \"minorgridcolor\": \"white\", \"startlinecolor\": \"#2a3f5f\"}, \"baxis\": {\"endlinecolor\": \"#2a3f5f\", \"gridcolor\": \"white\", \"linecolor\": \"white\", \"minorgridcolor\": \"white\", \"startlinecolor\": \"#2a3f5f\"}, \"type\": \"carpet\"}], \"choropleth\": [{\"colorbar\": {\"outlinewidth\": 0, \"ticks\": \"\"}, \"type\": \"choropleth\"}], \"contour\": [{\"colorbar\": {\"outlinewidth\": 0, \"ticks\": \"\"}, \"colorscale\": [[0.0, \"#0d0887\"], [0.1111111111111111, \"#46039f\"], [0.2222222222222222, \"#7201a8\"], [0.3333333333333333, \"#9c179e\"], [0.4444444444444444, \"#bd3786\"], [0.5555555555555556, \"#d8576b\"], [0.6666666666666666, \"#ed7953\"], [0.7777777777777778, \"#fb9f3a\"], [0.8888888888888888, \"#fdca26\"], [1.0, \"#f0f921\"]], \"type\": \"contour\"}], \"contourcarpet\": [{\"colorbar\": {\"outlinewidth\": 0, \"ticks\": \"\"}, \"type\": \"contourcarpet\"}], \"heatmap\": [{\"colorbar\": {\"outlinewidth\": 0, \"ticks\": \"\"}, \"colorscale\": [[0.0, \"#0d0887\"], [0.1111111111111111, \"#46039f\"], [0.2222222222222222, \"#7201a8\"], [0.3333333333333333, \"#9c179e\"], [0.4444444444444444, \"#bd3786\"], [0.5555555555555556, \"#d8576b\"], [0.6666666666666666, \"#ed7953\"], [0.7777777777777778, \"#fb9f3a\"], [0.8888888888888888, \"#fdca26\"], [1.0, \"#f0f921\"]], \"type\": \"heatmap\"}], \"heatmapgl\": [{\"colorbar\": {\"outlinewidth\": 0, \"ticks\": \"\"}, \"colorscale\": [[0.0, \"#0d0887\"], [0.1111111111111111, \"#46039f\"], [0.2222222222222222, \"#7201a8\"], [0.3333333333333333, \"#9c179e\"], [0.4444444444444444, \"#bd3786\"], [0.5555555555555556, \"#d8576b\"], [0.6666666666666666, \"#ed7953\"], [0.7777777777777778, \"#fb9f3a\"], [0.8888888888888888, \"#fdca26\"], [1.0, \"#f0f921\"]], \"type\": \"heatmapgl\"}], \"histogram\": [{\"marker\": {\"colorbar\": {\"outlinewidth\": 0, \"ticks\": \"\"}}, \"type\": \"histogram\"}], \"histogram2d\": [{\"colorbar\": {\"outlinewidth\": 0, \"ticks\": \"\"}, \"colorscale\": [[0.0, \"#0d0887\"], [0.1111111111111111, \"#46039f\"], [0.2222222222222222, \"#7201a8\"], [0.3333333333333333, \"#9c179e\"], [0.4444444444444444, \"#bd3786\"], [0.5555555555555556, \"#d8576b\"], [0.6666666666666666, \"#ed7953\"], [0.7777777777777778, \"#fb9f3a\"], [0.8888888888888888, \"#fdca26\"], [1.0, \"#f0f921\"]], \"type\": \"histogram2d\"}], \"histogram2dcontour\": [{\"colorbar\": {\"outlinewidth\": 0, \"ticks\": \"\"}, \"colorscale\": [[0.0, \"#0d0887\"], [0.1111111111111111, \"#46039f\"], [0.2222222222222222, \"#7201a8\"], [0.3333333333333333, \"#9c179e\"], [0.4444444444444444, \"#bd3786\"], [0.5555555555555556, \"#d8576b\"], [0.6666666666666666, \"#ed7953\"], [0.7777777777777778, \"#fb9f3a\"], [0.8888888888888888, \"#fdca26\"], [1.0, \"#f0f921\"]], \"type\": \"histogram2dcontour\"}], \"mesh3d\": [{\"colorbar\": {\"outlinewidth\": 0, \"ticks\": \"\"}, \"type\": \"mesh3d\"}], \"parcoords\": [{\"line\": {\"colorbar\": {\"outlinewidth\": 0, \"ticks\": \"\"}}, \"type\": \"parcoords\"}], \"pie\": [{\"automargin\": true, \"type\": \"pie\"}], \"scatter\": [{\"marker\": {\"colorbar\": {\"outlinewidth\": 0, \"ticks\": \"\"}}, \"type\": \"scatter\"}], \"scatter3d\": [{\"line\": {\"colorbar\": {\"outlinewidth\": 0, \"ticks\": \"\"}}, \"marker\": {\"colorbar\": {\"outlinewidth\": 0, \"ticks\": \"\"}}, \"type\": \"scatter3d\"}], \"scattercarpet\": [{\"marker\": {\"colorbar\": {\"outlinewidth\": 0, \"ticks\": \"\"}}, \"type\": \"scattercarpet\"}], \"scattergeo\": [{\"marker\": {\"colorbar\": {\"outlinewidth\": 0, \"ticks\": \"\"}}, \"type\": \"scattergeo\"}], \"scattergl\": [{\"marker\": {\"colorbar\": {\"outlinewidth\": 0, \"ticks\": \"\"}}, \"type\": \"scattergl\"}], \"scattermapbox\": [{\"marker\": {\"colorbar\": {\"outlinewidth\": 0, \"ticks\": \"\"}}, \"type\": \"scattermapbox\"}], \"scatterpolar\": [{\"marker\": {\"colorbar\": {\"outlinewidth\": 0, \"ticks\": \"\"}}, \"type\": \"scatterpolar\"}], \"scatterpolargl\": [{\"marker\": {\"colorbar\": {\"outlinewidth\": 0, \"ticks\": \"\"}}, \"type\": \"scatterpolargl\"}], \"scatterternary\": [{\"marker\": {\"colorbar\": {\"outlinewidth\": 0, \"ticks\": \"\"}}, \"type\": \"scatterternary\"}], \"surface\": [{\"colorbar\": {\"outlinewidth\": 0, \"ticks\": \"\"}, \"colorscale\": [[0.0, \"#0d0887\"], [0.1111111111111111, \"#46039f\"], [0.2222222222222222, \"#7201a8\"], [0.3333333333333333, \"#9c179e\"], [0.4444444444444444, \"#bd3786\"], [0.5555555555555556, \"#d8576b\"], [0.6666666666666666, \"#ed7953\"], [0.7777777777777778, \"#fb9f3a\"], [0.8888888888888888, \"#fdca26\"], [1.0, \"#f0f921\"]], \"type\": \"surface\"}], \"table\": [{\"cells\": {\"fill\": {\"color\": \"#EBF0F8\"}, \"line\": {\"color\": \"white\"}}, \"header\": {\"fill\": {\"color\": \"#C8D4E3\"}, \"line\": {\"color\": \"white\"}}, \"type\": \"table\"}]}, \"layout\": {\"annotationdefaults\": {\"arrowcolor\": \"#2a3f5f\", \"arrowhead\": 0, \"arrowwidth\": 1}, \"coloraxis\": {\"colorbar\": {\"outlinewidth\": 0, \"ticks\": \"\"}}, \"colorscale\": {\"diverging\": [[0, \"#8e0152\"], [0.1, \"#c51b7d\"], [0.2, \"#de77ae\"], [0.3, \"#f1b6da\"], [0.4, \"#fde0ef\"], [0.5, \"#f7f7f7\"], [0.6, \"#e6f5d0\"], [0.7, \"#b8e186\"], [0.8, \"#7fbc41\"], [0.9, \"#4d9221\"], [1, \"#276419\"]], \"sequential\": [[0.0, \"#0d0887\"], [0.1111111111111111, \"#46039f\"], [0.2222222222222222, \"#7201a8\"], [0.3333333333333333, \"#9c179e\"], [0.4444444444444444, \"#bd3786\"], [0.5555555555555556, \"#d8576b\"], [0.6666666666666666, \"#ed7953\"], [0.7777777777777778, \"#fb9f3a\"], [0.8888888888888888, \"#fdca26\"], [1.0, \"#f0f921\"]], \"sequentialminus\": [[0.0, \"#0d0887\"], [0.1111111111111111, \"#46039f\"], [0.2222222222222222, \"#7201a8\"], [0.3333333333333333, \"#9c179e\"], [0.4444444444444444, \"#bd3786\"], [0.5555555555555556, \"#d8576b\"], [0.6666666666666666, \"#ed7953\"], [0.7777777777777778, \"#fb9f3a\"], [0.8888888888888888, \"#fdca26\"], [1.0, \"#f0f921\"]]}, \"colorway\": [\"#636efa\", \"#EF553B\", \"#00cc96\", \"#ab63fa\", \"#FFA15A\", \"#19d3f3\", \"#FF6692\", \"#B6E880\", \"#FF97FF\", \"#FECB52\"], \"font\": {\"color\": \"#2a3f5f\"}, \"geo\": {\"bgcolor\": \"white\", \"lakecolor\": \"white\", \"landcolor\": \"#E5ECF6\", \"showlakes\": true, \"showland\": true, \"subunitcolor\": \"white\"}, \"hoverlabel\": {\"align\": \"left\"}, \"hovermode\": \"closest\", \"mapbox\": {\"style\": \"light\"}, \"paper_bgcolor\": \"white\", \"plot_bgcolor\": \"#E5ECF6\", \"polar\": {\"angularaxis\": {\"gridcolor\": \"white\", \"linecolor\": \"white\", \"ticks\": \"\"}, \"bgcolor\": \"#E5ECF6\", \"radialaxis\": {\"gridcolor\": \"white\", \"linecolor\": \"white\", \"ticks\": \"\"}}, \"scene\": {\"xaxis\": {\"backgroundcolor\": \"#E5ECF6\", \"gridcolor\": \"white\", \"gridwidth\": 2, \"linecolor\": \"white\", \"showbackground\": true, \"ticks\": \"\", \"zerolinecolor\": \"white\"}, \"yaxis\": {\"backgroundcolor\": \"#E5ECF6\", \"gridcolor\": \"white\", \"gridwidth\": 2, \"linecolor\": \"white\", \"showbackground\": true, \"ticks\": \"\", \"zerolinecolor\": \"white\"}, \"zaxis\": {\"backgroundcolor\": \"#E5ECF6\", \"gridcolor\": \"white\", \"gridwidth\": 2, \"linecolor\": \"white\", \"showbackground\": true, \"ticks\": \"\", \"zerolinecolor\": \"white\"}}, \"shapedefaults\": {\"line\": {\"color\": \"#2a3f5f\"}}, \"ternary\": {\"aaxis\": {\"gridcolor\": \"white\", \"linecolor\": \"white\", \"ticks\": \"\"}, \"baxis\": {\"gridcolor\": \"white\", \"linecolor\": \"white\", \"ticks\": \"\"}, \"bgcolor\": \"#E5ECF6\", \"caxis\": {\"gridcolor\": \"white\", \"linecolor\": \"white\", \"ticks\": \"\"}}, \"title\": {\"x\": 0.05}, \"xaxis\": {\"automargin\": true, \"gridcolor\": \"white\", \"linecolor\": \"white\", \"ticks\": \"\", \"title\": {\"standoff\": 15}, \"zerolinecolor\": \"white\", \"zerolinewidth\": 2}, \"yaxis\": {\"automargin\": true, \"gridcolor\": \"white\", \"linecolor\": \"white\", \"ticks\": \"\", \"title\": {\"standoff\": 15}, \"zerolinecolor\": \"white\", \"zerolinewidth\": 2}}}, \"xaxis\": {\"anchor\": \"y\", \"domain\": [0.0, 1.0], \"title\": {\"text\": \"x\"}}, \"yaxis\": {\"anchor\": \"x\", \"domain\": [0.0, 1.0], \"title\": {\"text\": \"y\"}}},\n",
              "                        {\"responsive\": true}\n",
              "                    ).then(function(){\n",
              "                            \n",
              "var gd = document.getElementById('12b61b98-17fa-432a-9897-c20ff7e2b9ce');\n",
              "var x = new MutationObserver(function (mutations, observer) {{\n",
              "        var display = window.getComputedStyle(gd).display;\n",
              "        if (!display || display === 'none') {{\n",
              "            console.log([gd, 'removed!']);\n",
              "            Plotly.purge(gd);\n",
              "            observer.disconnect();\n",
              "        }}\n",
              "}});\n",
              "\n",
              "// Listen for the removal of the full notebook cells\n",
              "var notebookContainer = gd.closest('#notebook-container');\n",
              "if (notebookContainer) {{\n",
              "    x.observe(notebookContainer, {childList: true});\n",
              "}}\n",
              "\n",
              "// Listen for the clearing of the current output cell\n",
              "var outputEl = gd.closest('.output');\n",
              "if (outputEl) {{\n",
              "    x.observe(outputEl, {childList: true});\n",
              "}}\n",
              "\n",
              "                        })\n",
              "                };\n",
              "                \n",
              "            </script>\n",
              "        </div>\n",
              "</body>\n",
              "</html>"
            ]
          },
          "metadata": {
            "tags": []
          }
        }
      ]
    },
    {
      "cell_type": "markdown",
      "metadata": {
        "id": "xhON8zJRaQAG"
      },
      "source": [
        "If you notice above, we save our scatter plot to the `fig` variable.  From there, we display the plot by running `fig.show()`. The `fig` is an example variable name.  We could have just as easily called the variable `figure`.  In that case, we would call `figure.show()`.  **Make sure you use the `.show()` function.  Otherwise the plot may not appear.**\n",
        "\n",
        "Additionally, we can pass Pandas data frames into Plotly to generate our scatter plot.  The data frame is the first argument when creating the scatter plot.  We specify `x=` as the data frame column we want to plot along the x-axis.  Then, we can use `y=` to specify the column that we want to plot along the y-axis.  Additionally, we can use the `colors=` argument to create different colors for the scatter plot points depending upon the value in the column.  \n",
        "\n",
        "Finally, the `hover_data=` argument allows us to have additional data added to each of the points when we hover over the data points.  We pass in a list of the relevant columns into the `hover_data=` argument.  Plotly plots are really nice since they are interactive.  We can zoom into the plot as well as hover over the points to get more information."
      ]
    },
    {
      "cell_type": "markdown",
      "metadata": {
        "id": "htYatq9LaQAH"
      },
      "source": [
        "## Exercise 1\n",
        "\n",
        "In the exercise below, we are trying to create a scatter plot of the Ballotpedia campaign contributions data that we collected module 4.  We want to see if there is anything interesting going on with Indiana's campaign contributions.  Granted, a scatter plot is not the best plot type in this scenario, but this is just a demonstration.  When we run the code below, the plot doesn't appear.  Fix the code below so a plot appears.  \n",
        "\n",
        "**Hint: You need to add one line of code**"
      ]
    },
    {
      "cell_type": "code",
      "metadata": {
        "id": "cfVMWkMMaQAI"
      },
      "source": [
        "import pandas as pd\n",
        "import plotly.express as px\n",
        "\n",
        "data = pd.read_csv(\"https://raw.githubusercontent.com/nalderto/POL300-Public/master/All-Campaign-Contributions.csv\")\n",
        "\n",
        "data = data[data['Year'] != 'Total'] # Remove rows with \"Total\" in the \"Year\"\n",
        "\n",
        "data = data[data['State'] == 'Indiana'] # Only include data points from Indiana\n",
        "\n",
        "fig = px.scatter(data, x='Year', y='Average', color='Chamber', hover_data=['District', 'Candidates'])\n"
      ],
      "execution_count": null,
      "outputs": []
    },
    {
      "cell_type": "markdown",
      "metadata": {
        "id": "gTBYBTTwaQAJ"
      },
      "source": [
        "## Histogram\n",
        "\n",
        "According to Plotly, a histogram is a \"representation of the distribution of numerical data, where the data are binned and the count for each bin is represented.\"  They are commonly used in statistics.  A histogram can be created using:\n",
        "\n",
        "```python\n",
        "fig = px.histogram(data_frame, x=\"column_name\")\n",
        "```\n",
        "\n",
        "The `x=` argument is the data attribute column we want to study.  An optional argument is `nbins=`.  Here we specify how many bars we want in our histogram.  If we don't provide this argument, Plotly will make this decision for us.  So, if we want 20 bars, we would write something similar to below:\n",
        "\n",
        "```python\n",
        "fig = px.histogram(data_frame, x=\"column_name\", nbins=20)\n",
        "```"
      ]
    },
    {
      "cell_type": "markdown",
      "metadata": {
        "id": "zCuvk8aJaQAJ"
      },
      "source": [
        "## Exercise 2\n",
        "\n",
        "As you can see below, we have a histogram of the average spending for State Senate campaigns in Washington state from 2000 to 2018.  While Plotly did a pretty good job with selecting the number of bars, we want a few more.\n",
        "\n",
        "**Change the plot to display 50 bars in the histogram.**"
      ]
    },
    {
      "cell_type": "code",
      "metadata": {
        "id": "GGxvKwOjaQAK"
      },
      "source": [
        "import pandas as pd\n",
        "import plotly.express as px\n",
        "\n",
        "data = pd.read_csv(\"https://raw.githubusercontent.com/nalderto/POL300-Public/master/All-Campaign-Contributions.csv\")\n",
        "\n",
        "data = data[data['Year'] != 'Total'] # Remove rows with \"Total\" in the \"Year\"\n",
        "\n",
        "data = data[data['State'] == 'Washington'] # Only include data points from Washington\n",
        "\n",
        "data = data[data['Chamber'] == 'State Senate'] # Only include State Senate data points\n",
        "\n",
        "fig = px.histogram(data, x='Average')\n",
        "fig.show()"
      ],
      "execution_count": null,
      "outputs": []
    },
    {
      "cell_type": "markdown",
      "metadata": {
        "id": "AziK9urIaQAK"
      },
      "source": [
        "## Maps\n",
        "\n",
        "One of the biggest strengths of Plotly is the number of different types of plots available.  Of course, scatterplots, line graphs, histograms, etc. are available, however so are some other neat plots like starburst charts and Sankey Diagrams.  A personal favorite of many is the ability to create map based visualizations.  This is an especially useful plot in political science, as many things we investigate are geography based.\n",
        "\n",
        "To create a US state map plot in Plotly we use the following functions:\n",
        "\n",
        "```python\n",
        "fig = px.choropleth(averages, locations=\"state_abbreviations\", \n",
        "                    locationmode=\"USA-states\", \n",
        "                    color=\"lifeExp\", \n",
        "                    hover_name=\"state_name\", scope=\"usa\")\n",
        "```\n",
        "\n",
        "To create a global map, we use the following function:\n",
        "\n",
        "```python\n",
        "fig = px.choropleth(df, locations=\"countries\",\n",
        "                    color=\"lifeExp\",\n",
        "                    hover_name=\"country\")\n",
        "```\n",
        "\n",
        "The `locations` argument for the state map must by comprised of a column on the two-letter abbreviations of the corresponding state.  In the world map function, the `locations` argument must be the [3-letter ISO country codes](https://en.wikipedia.org/wiki/ISO_3166-1_alpha-3).  \n",
        "\n",
        "The `color` argument is the data column you would like to see visualized.  The `lifeExp` is just an example.  You would replace this with whatever you are interested in studying, like GDP or smoking rates.  \n",
        "\n",
        "The `hover_name` argument should be a column representing the name of the respective state or country, however you can change it to be something else if you like.  "
      ]
    },
    {
      "cell_type": "code",
      "metadata": {
        "id": "RlZXalo8aQAL"
      },
      "source": [
        "import pandas as pd\n",
        "import plotly.express as px\n",
        "\n",
        "data = pd.read_csv(\"https://raw.githubusercontent.com/nalderto/POL300-Public/master/All-Campaign-Contributions.csv\")\n",
        "\n",
        "# We need to add the two-letter state abbreviations to our data frame\n",
        "state = pd.read_csv(\"https://worldpopulationreview.com/static/states/name-abbr.csv\", names=[\"State\", \"Abbr\"])\n",
        "data = data.merge(state, on=\"State\")\n",
        "\n",
        "data = data[data['Year'] == '2018'] # We only want data from 2018\n",
        "data = data[data['Chamber'] == 'State Senate'] # We only want State Senate data\n",
        "\n",
        "# We need to convert the average to an integer (i.e. $4,321 => 4321)\n",
        "data['Average'] = data['Average'].str.replace('$', '').str.replace(',', '').astype(int)\n",
        "\n",
        "# Group the states by abbreviation and get the average cost across all their districts\n",
        "averages = data.groupby(['Abbr', 'State'], as_index=False)['Average'].mean()\n",
        "\n",
        "# Create the map plot\n",
        "fig = px.choropleth(averages, locations=\"Abbr\", locationmode=\"USA-states\", color=\"Average\", hover_name=\"State\", scope=\"usa\")\n",
        "\n",
        "fig.show() # Our data set was not complete, which is why some states are grey"
      ],
      "execution_count": null,
      "outputs": []
    },
    {
      "cell_type": "markdown",
      "metadata": {
        "id": "WvkPm3isaQAM"
      },
      "source": [
        "## Exercise 3\n",
        "According to the map plot above, which state had the most expensive State Senate races on average in 2018?  Why do you theorize this is the case? \n",
        "\n",
        "*Hint: think about the state population and the number of State Senate seats*\n",
        "\n",
        "Type your answer in the comment below."
      ]
    },
    {
      "cell_type": "code",
      "metadata": {
        "id": "R6nweo61aQAM"
      },
      "source": [
        "# Type your answer on the line below\n",
        "# \n",
        "# Type your answer on the line above"
      ],
      "execution_count": null,
      "outputs": []
    }
  ]
}