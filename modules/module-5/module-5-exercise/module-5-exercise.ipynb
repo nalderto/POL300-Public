{
  "nbformat": 4,
  "nbformat_minor": 0,
  "metadata": {
    "kernelspec": {
      "display_name": "Python 3",
      "language": "python",
      "name": "python3"
    },
    "language_info": {
      "codemirror_mode": {
        "name": "ipython",
        "version": 3
      },
      "file_extension": ".py",
      "mimetype": "text/x-python",
      "name": "python",
      "nbconvert_exporter": "python",
      "pygments_lexer": "ipython3",
      "version": "3.9.0rc2"
    },
    "colab": {
      "name": "module-5-exercise.ipynb",
      "provenance": [],
      "include_colab_link": true
    }
  },
  "cells": [
    {
      "cell_type": "markdown",
      "metadata": {
        "id": "view-in-github",
        "colab_type": "text"
      },
      "source": [
        "<a href=\"https://colab.research.google.com/github/nalderto/POL300-Public/blob/master/modules/module-5-exercise.ipynb\" target=\"_parent\"><img src=\"https://colab.research.google.com/assets/colab-badge.svg\" alt=\"Open In Colab\"/></a>"
      ]
    },
    {
      "cell_type": "markdown",
      "metadata": {
        "id": "MOfxdV24VNtL"
      },
      "source": [
        "# Module 5: Data Analysis Modules\n",
        "\n",
        "For this activity, you are going to learn about some various modules that allow you to analyze data.  There are going to be a few exercises following each of the different topic sections.  \n",
        "\n",
        "You will be graded on your code's ability to complete the task described.  All the exercises have test cases to check the functionality of your code.  Make sure the test cases print `OK`.  This means that your code is working fine.  If it doesn't print `OK`, it will tell you which test case is failing.  \n",
        "\n",
        "To submit this Jupyter notebook to Gradescope, reference the instructions in the module 1 activity or the \"Getting Started with Jupyter Hub\" guide on Brightspace.\n",
        "\n",
        "If you are having trouble, don't get discouraged.  Read through the section again.  If you are still having trouble, try to Google around.  There are **TONS** of good online Python resources.  If Google is not being helpful, reach out via the Brightspace Discussion Board.  "
      ]
    },
    {
      "cell_type": "markdown",
      "metadata": {
        "id": "_u_KWhxfVNtO"
      },
      "source": [
        "## Setup for this Module\n",
        "\n",
        "This module is intended to prepare you for the module 5 project.  In this project, you will be assigned a specific State of the State address by the governors of each state.  You will scrape the speeches from the respective website, then do some text analysis on the speech.\n",
        "\n",
        "For this activity, we are going to practice a few text analysis processes using President Trump's 2020 State of the Union address.  To complete this analysis, we are going to be using a few handy Python modules.  However, we first need to install the modules before we can `import` them in our code.\n",
        "\n",
        "We have developed a little script that is going to create an *Anaconda* environment that Jupyter is going to use.  Once we have the Anaconda environment installed, we just have to tell Jupyter to use it.\n",
        "\n",
        "Carefully follow these directions to get your Anaconda environment installed.\n",
        "\n",
        "### Step 1:\n",
        "On the [Scholar homepage](https://www.rcac.purdue.edu/compute/scholar/), click the \"Launch\" button underneath Gateway.\n",
        "![Step1](https://user-images.githubusercontent.com/25762130/91235256-2a5ede80-e703-11ea-831c-f9f9bff56177.png)\n",
        "\n",
        "\n",
        "### Step 2:\n",
        "If prompted, type in your Purdue BoilerKey credentials.\n",
        "![Step 2](https://user-images.githubusercontent.com/25762130/91247329-12498800-e720-11ea-949e-c1eee5c4855b.png)\n",
        "\n",
        "### Step 3:\n",
        "On the toolbar on the top, click \"Cluster\", then \"Scholar Shell Access\".\n",
        "![Step 3](https://user-images.githubusercontent.com/25762130/91247505-681e3000-e720-11ea-8ef1-849501951465.png)\n",
        "\n",
        "### Step 4:\n",
        "This is the shell for the Scholar server.  In the prompt (area on the bottom, after the dollar sign), type <br>\n",
        "```\n",
        "curl -s https://raw.githubusercontent.com/nalderto/POL300-Public/master/anaconda-install.sh | bash -s\n",
        "```\n",
        "Then click the enter key.  This script can take up to 10 minutes to finish.\n",
        "\n",
        "![Step 4](https://user-images.githubusercontent.com/25762130/91248028-b2ec7780-e721-11ea-95fa-ee430934b158.png)\n",
        "\n",
        "### Step 5:\n",
        "Look for the finish message below.  Once you see this, the POL 300 Python environment has been created.  You can now close the shell tab.\n",
        "![Step 5](https://user-images.githubusercontent.com/25762130/91254757-32ce0e00-e731-11ea-9a0d-513cc9adfe36.png)\n",
        "\n",
        "### Step 6\n",
        "Refresh this page (this Jupyter Notebook) by clicking the circular arrow icon on the top left of your Google Chrome toolbar (pictured below).  Alternatively, click Ctrl and R (Command and R on Mac) on your keyboard to refresh the web page.\n",
        "\n",
        "![Step 6](https://user-images.githubusercontent.com/25762130/91682659-4bb73480-eb20-11ea-8104-c7b808939b5e.png)\n",
        "\n",
        "### Step 7\n",
        "In the toolbar of this notebook, click \"Kernel\", then \"Change Kernel\", finally select \"Python (My POL300 Kernel)\".\n",
        "\n",
        "![Step 7](https://user-images.githubusercontent.com/25762130/91260922-a4ac5480-e73d-11ea-9e37-4724634b5b9c.png)\n",
        "\n",
        "\n",
        "Now you should be able to complete the rest of this activity.  You will also use the \"Python (My POL300 Kernel)\" kernel for the module 5 project and module 6.  You won't have to go through the kernel creation process again.  You will just have to select the appropriate kernel using the toolbar.  We will remind you during those assignments as well."
      ]
    },
    {
      "cell_type": "markdown",
      "metadata": {
        "id": "PQpF4aa5VNtQ"
      },
      "source": [
        "## Retrieving the State of the Union Address\n",
        "\n",
        "When you are going to obtain the state of the state addresses in the module 5 project, you will have to use the data mining techniques that you learned in module 3 (i.e. using the Chrome DevTools to get the HTML tags, Beautiful Soup, etc.)  Since the process was covered in module 3, we are going to gloss over a few of the details.  \n",
        "\n",
        "1. We start by going to [the website where Trump's 2020 SOTU transcript is hosted](https://www.whitehouse.gov/briefings-statements/remarks-president-trump-state-union-address-3/). \n",
        "\n",
        "2. We open the Chrome DevTools Inspector by right clicking on the text of the transcript and selecting \"Inspect\".\n",
        "\n",
        "3. Hover over the HTML code in the sidebar until you find a section that encompasses all the transcript text.  It is okay that it includes some extra text like (U.S. Capitol, Washington, D.C., and 9:06 P.M. EST).  In this case, we are going to use the `div` tag with the classes \"page-content_content\" and \"editor\".  \n",
        "4. Since we want to obtain the transcript text from this section of the HTML.  We use the `.getText()` function on the Beautiful Soup result.\n",
        "5. As you can see below, we now have the text from Donald Trump's 2020 State of the Union address.  As was mentioned above, there is some extra text included that isn't from the transcript.  If we were really focused on perfection, we would remove the text, however it shouldn't significantly impact our data.\n",
        "\n",
        "**MAKE SURE YOU RUN THE CODE BELOW, OR LATER EXAMPLES WON'T WORK**"
      ]
    },
    {
      "cell_type": "code",
      "metadata": {
        "id": "9enZr5XqVNtR",
        "outputId": "d0ac2723-5032-4f3a-9c3c-dbd3830ec2d9"
      },
      "source": [
        "import requests\n",
        "from bs4 import BeautifulSoup\n",
        "\n",
        "url = \"https://www.whitehouse.gov/briefings-statements/remarks-president-trump-state-union-address-3/\"\n",
        "\n",
        "page = requests.get(url)\n",
        "\n",
        "soup = BeautifulSoup(page.content, 'lxml')\n",
        "transcript_html = soup.find(\"div\", class_=\"page-content__content editor\")\n",
        "\n",
        "transcript_text = transcript_html.getText()\n",
        "\n",
        "print(transcript_text)"
      ],
      "execution_count": null,
      "outputs": [
        {
          "output_type": "stream",
          "text": [
            "\n",
            "\n",
            "\n",
            "Share:\n",
            "\n",
            "\n",
            "\n",
            "\n",
            "Share this page on Facebook \n",
            "\n",
            "\n",
            "\n",
            "Share this page on Twitter \n",
            "\n",
            "\n",
            "\n",
            "Copy URL to your clipboard \n",
            "\n",
            "\n",
            "\n",
            "\n",
            "\n",
            "\n",
            "\t\tAll News\t\n",
            "\n",
            "\n",
            "\n",
            "U.S. Capitol\n",
            "Washington, D.C.\n",
            "9:06 P.M. EST\n",
            "THE PRESIDENT:  Thank you very much.  Thank you.  Thank you very much.\n",
            "Madam Speaker, Mr. Vice President, members of Congress, the First Lady of the United States — (applause) — and my fellow citizens:\n",
            "Three years ago, we launched the great American comeback.  Tonight, I stand before you to share the incredible results.  Jobs are booming, incomes are soaring, poverty is plummeting, crime is falling, confidence is surging, and our country is thriving and highly respected again.  (Applause.)  America’s enemies are on the run, America’s fortunes are on the rise, and America’s future is blazing bright.\n",
            "The years of economic decay are over.  (Applause.)  The days of our country being used, taken advantage of, and even scorned by other nations are long behind us.  (Applause.)  Gone too are the broken promises, jobless recoveries, tired platitudes, and constant excuses for the depletion of American wealth, power, and prestige.\n",
            "In just three short years, we have shattered the mentality of American decline, and we have rejected the downsizing of America’s destiny.  We have totally rejected the downsizing.  We are moving forward at a pace that was unimaginable just a short time ago, and we are never, ever going back.  (Applause.)\n",
            "I am thrilled to report to you tonight that our economy is the best it has ever been.  Our military is completely rebuilt, with its power being unmatched anywhere in the world — and it’s not even close.  Our borders are secure.  Our families are flourishing.  Our values are renewed.  Our pride is restored.  And for all of these reasons, I say to the people of our great country and to the members of Congress: The state of our Union is stronger than ever before.  (Applause.)\n",
            "The vision I will lay out this evening demonstrates how we are building the world’s most prosperous and inclusive society — one where every citizen can join in America’s unparalleled success and where every community can take part in America’s extraordinary rise.\n",
            "From the instant I took office, I moved rapidly to revive the U.S. economy — slashing a record number of job-killing regulations, enacting historic and record-setting tax cuts, and fighting for fair and reciprocal trade agreements.  (Applause.)  Our agenda is relentlessly pro-worker, pro-family, pro-growth, and, most of all, pro-American.  (Applause.)  Thank you.  We are advancing with unbridled optimism and lifting our citizens of every race, color, religion, and creed very, very high.\n",
            "Since my election, we have created 7 million new jobs — 5 million more than government experts projected during the previous administration.  (Applause.)\n",
            "The unemployment rate is the lowest in over half a century.  (Applause.)  And very incredibly, the average unemployment rate under my administration is lower than any administration in the history of our country.  (Applause.)  True.  If we hadn’t reversed the failed economic policies of the previous administration, the world would not now be witnessing this great economic success.  (Applause.)\n",
            "The unemployment rate for African Americans, Hispanic Americans, and Asian Americans has reached the lowest levels in history.  (Applause.)  African American youth unemployment has reached an all-time low.  (Applause.)  African American poverty has declined to the lowest rate ever recorded.  (Applause.)\n",
            "The unemployment rate for women reached the lowest level in almost 70 years.  And, last year, women filled 72 percent of all new jobs added.  (Applause.)\n",
            "The veterans unemployment rate dropped to a record low.  (Applause.)  The unemployment rate for disabled Americans has reached an all-time low.  (Applause.)\n",
            "Workers without a high school diploma have achieved the lowest unemployment rate recorded in U.S. history.  (Applause.)  A record number of young Americans are now employed.  (Applause.)\n",
            "Under the last administration, more than 10 million people were added to the food stamp rolls.  Under my administration, 7 million Americans have come off food stamps, and 10 million people have been lifted off of welfare.  (Applause.)\n",
            "In eight years under the last administration, over 300,000 working-age people dropped out of the workforce.  In just three years of my administration, 3.5 million people — working-age people — have joined the workforce.  (Applause.)\n",
            "Since my election, the net worth of the bottom half of wage earners has increased by 47 percent — three times faster than the increase for the top 1 percent.  (Applause.)  After decades of flat and falling incomes, wages are rising fast — and, wonderfully, they are rising fastest for low-income workers, who have seen a 16 percent pay increase since my election.  (Applause.)  This is a blue-collar boom.  (Applause.)\n",
            "Real median household income is now at the highest level ever recorded.  (Applause.)\n",
            "Since my election, U.S. stock markets have soared 70 percent, adding more than $12 trillion to our nation’s wealth, transcending anything anyone believed was possible.  This is a record.  It is something that every country in the world is looking up to.  They admire.  (Applause.)  Consumer confidence has just reached amazing new highs.\n",
            "All of those millions of people with 401(k)s and pensions are doing far better than they have ever done before with increases of 60, 70, 80, 90, and 100 percent, and even more.\n",
            "Jobs and investments are pouring into 9,000 previously neglected neighborhoods thanks to Opportunity Zones, a plan spearheaded by Senator Tim Scott as part of our great Republican tax cuts.  (Applause.)  In other words, wealthy people and companies are pouring money into poor neighborhoods or areas that haven’t seen investment in many decades, creating jobs, energy, and excitement.  (Applause.)  This is the first time that these deserving communities have seen anything like this.  It’s all working.\n",
            "Opportunity Zones are helping Americans like Army veteran Tony Rankins from Cincinnati, Ohio.  After struggling with drug addiction, Tony lost his job, his house, and his family.  He was homeless.  But then Tony found a construction company that invests in Opportunity Zones.  He is now a top tradesman, drug-free, reunited with his family, and he is here tonight.  Tony, keep up the great work.  Tony.  (Applause.)  Thank you, Tony.\n",
            "Our roaring economy has, for the first time ever, given many former prisoners the ability to get a great job and a fresh start.  This second chance at life is made possible because we passed landmark criminal justice reform into law.  Everybody said that criminal justice reform couldn’t be done, but I got it done, and the people in this room got it done.  (Applause.)\n",
            "Thanks to our bold regulatory reduction campaign, the United States has become the number one producer of oil and natural gas anywhere in the world, by far.  (Applause.)  With the tremendous progress we have made over the past three years, America is now energy independent, and energy jobs, like so many other elements of our country, are at a record high.  (Applause.)  We are doing numbers that no one would have thought possible just three years ago.\n",
            "Likewise, we are restoring our nation’s manufacturing might, even though predictions were, as you all know, that this could never, ever be done.  After losing 60,000 factories under the previous two administrations, America has now gained 12,000 new factories under my administration, with thousands upon thousands of plants and factories being planned or being built.  (Applause.)  Companies are not leaving; they are coming back to the USA.  (Applause.)  The fact is that everybody wants to be where the action is, and the United States of America is indeed the place where the action is.  (Applause.)\n",
            "One of the biggest promises I made to the American people was to replace the disastrous NAFTA trade deal.  (Applause.)  In fact, unfair trade is perhaps the single biggest reason that I decided to run for President.  Following NAFTA’s adoption, our nation lost one in four manufacturing jobs.  Many politicians came and went, pledging to change or replace NAFTA, only to do so, and then absolutely nothing happened.  But unlike so many who came before me, I keep my promises.  We did our job.  (Applause.)\n",
            "Six days ago, I replaced NAFTA and signed the brand-new U.S.-Mexico-Canada Agreement into law.  The USMCA will create nearly 100,000 new high-paying American auto jobs, and massively boost exports for our farmers, ranchers, and factory workers.  (Applause.)  It will also bring trade with Mexico and Canada to a much higher level, but also to be a much greater degree of fairness and reciprocity.  We will have that: fairness and reciprocity.  And I say that, finally, because it’s been many, many years that we were treated fairly on trade.  (Applause.)\n",
            "This is the first major trade deal in many years to earn the strong backing of America’s labor unions.  (Applause.)\n",
            "I also promised our citizens that I would impose tariffs to confront China’s massive theft of America’s jobs.  Our strategy has worked.  Days ago, we signed the groundbreaking new agreement with China that will defend our workers, protect our intellectual property, bring billions and billions of dollars into our treasury, and open vast new markets for products made and grown right here in the USA.  (Applause.)\n",
            "For decades, China has taken advantage of the United States.  Now we have changed that, but, at the same time, we have perhaps the best relationship we’ve ever had with China, including with President Xi.  They respect what we’ve done because, quite frankly, they could never really believe that they were able to get away with what they were doing year after year, decade after decade, without someone in our country stepping up and saying, “That’s enough.”  (Applause.)  Now we want to rebuild our country, and that’s exactly what we’re doing.  We are rebuilding our country.\n",
            "As we restore — (applause) — American leadership throughout the world, we are once again standing up for freedom in our hemisphere.  (Applause.)  That’s why my administration reversed the failing policies of the previous administration on Cuba.  (Applause.)\n",
            "We are supporting the hopes of Cubans, Nicaraguans, and Venezuelans to restore democracy.  The United States is leading a 59-nation diplomatic coalition against the socialist dictator of Venezuela, Nicolás Maduro.  (Applause.)  Maduro is an illegitimate ruler, a tyrant who brutalizes his people.  But Maduro’s grip on tyranny will be smashed and broken.\n",
            "Here this evening is a very brave man who carries with him the hopes, dreams, and aspirations of all Venezuelans.  Joining us in the Gallery is the true and legitimate President of Venezuela, Juan Guaidó.  (Applause.)  Mr. President, please take this message back to your homeland.  (Applause.)  Thank you, Mr. President.  Great honor.  Thank you very much.\n",
            "Please take this message back that all Americans are united with the Venezuelan people in their righteous struggle for freedom.  Thank you very much, Mr. President.  (Applause.)  Thank you very much.\n",
            "Socialism destroys nations.  But always remember: Freedom unifies the soul.  (Applause.)\n",
            "To safeguard American liberty, we have invested a record-breaking $2.2 trillion in the United States military.  (Applause.)  We have purchased the finest planes, missiles, rockets, ships, and every other form of military equipment, and it’s all made right here in the USA.  (Applause.)\n",
            "We are also getting our allies, finally, to help pay their fair share.  (Applause.)  I have raised contributions from the other NATO members by more than $400 billion, and the number of Allies meeting their minimum obligations has more than doubled.\n",
            "And just weeks ago, for the first time since President Truman established the Air Force more than 70 years earlier, we created a brand-new branch of the United States Armed Forces.  It’s called the Space Force.  (Applause.)  Very important.\n",
            "In the Gallery tonight, we have a young gentleman.  And what he wants so badly — 13 years old — Iain Lanphier.  He’s an eighth grader from Arizona.  Iain, please stand up.\n",
            "Iain has always dreamed of going to space.  He was the first in his class and among the youngest at an aviation academy.  He aspires to go to the Air Force Academy, and then he has his eye on the Space Force.  As Iain says, “Most people look up at space.  I want to look down on the world.”  (Laughter and applause.)\n",
            "But sitting behind Iain tonight is his greatest hero of them all.  Charles McGee was born in Cleveland, Ohio, one century ago.  Charles is one of the last surviving Tuskegee Airmen — the first black fighter pilots — and he also happens to be Iain’s great-grandfather.  (Applause.)  Incredible story.\n",
            "After more than 130 combat missions in World War Two, he came back home to a country still struggling for civil rights and went on to serve America in Korea and Vietnam.  On December 7th, Charles celebrated his 100th birthday.  (Applause.)  A few weeks ago, I signed a bill promoting Charles McGee to Brigadier General.  And earlier today, I pinned the stars on his shoulders in the Oval Office.  General McGee, our nation salutes you.  Thank you, sir.  (Applause.)\n",
            "From the pilgrims to the Founders, from the soldiers at Valley Forge to the marchers at Selma, and from President Lincoln to the Reverend Martin Luther King, Americans have always rejected limits on our children’s future.\n",
            "Members of Congress, we must never forget that the only victories that matter in Washington are victories that deliver for the American people.  (Applause.)  The people are the heart of our country, their dreams are the soul of our country, and their love is what powers and sustains our country.  We must always remember that our job is to put America first.  (Applause.)\n",
            "The next step forward in building an inclusive society is making sure that every young American gets a great education and the opportunity to achieve the American Dream.  Yet, for too long, countless American children have been trapped in failing government schools.  To rescue these students, 18 states have created school choice in the form of Opportunity Scholarships.  The programs are so popular that tens of thousands of students remain on a waiting list.\n",
            "One of those students is Janiyah Davis, a fourth grader from Philadelphia.  Janiyah.  (Applause.)  Janiyah’s mom, Stephanie, is a single parent.  She would do anything to give her daughter a better future.  But last year, that future was put further out of reach when Pennsylvania’s governor vetoed legislation to expand school choice to 50,000 children.\n",
            "Janiyah and Stephanie are in the Gallery.  Stephanie, thank you so much for being here with your beautiful daughter.  Thank you very much.  (Applause.)\n",
            "But, Janiyah, I have some good news for you, because I am pleased to inform you that your long wait is over.  I can proudly announce tonight that an Opportunity Scholarship has become available, it’s going to you, and you will soon be heading to the school of your choice.  (Applause.)\n",
            "Now I call on Congress to give one million American children the same opportunity Janiyah has just received.  Pass the Education Freedom Scholarships and Opportunities Act — because no parent should be forced to send their child to a failing government school.  (Applause.)\n",
            "Every young person should have a safe and secure environment in which to learn and to grow.  For this reason, our magnificent First Lady has launched the BE BEST initiative to advance a safe, healthy, supportive, and drug-free life for the next generation — online, in school, and in our communities.  Thank you, Melania, for your extraordinary love and profound care for America’s children.  Thank you very much.  (Applause.)\n",
            "My administration is determined to give our citizens the opportunities they need regardless of age or background.  Through our Pledge to American Workers, over 400 companies will also provide new jobs and education opportunities to almost 15 million Americans.\n",
            "My budget also contains an exciting vision for our nation’s high schools.  Tonight, I ask Congress to support our students and back my plan to offer vocational and technical education in every single high school in America.  (Applause.)\n",
            "To expand equal opportunity, I am also proud that we achieved record and permanent funding for our nation’s historically black colleges and universities.  (Applause.)\n",
            "A good life for American families also requires the most affordable, innovative, and high-quality healthcare system on Earth.  Before I took office, health insurance premiums had more than doubled in just five years.  I moved quickly to provide affordable alternatives.  Our new plans are up to 60 percent less expensive — and better.  (Applause.)\n",
            "I’ve also made an ironclad pledge to American families: We will always protect patients with pre-existing conditions.  (Applause).  And we will always protect your Medicare and we will always protect your Social Security.  Always.  (Applause.)\n",
            "The American patient should never be blindsided by medical bills.  That is why I signed an executive order requiring price transparency.  (Applause.)  Many experts believe that transparency, which will go into full effect at the beginning of next year, will be even bigger than healthcare reform.  (Applause.)  It will save families massive amounts of money for substantially better care.\n",
            "But as we work to improve Americans’ healthcare, there are those who want to take away your healthcare, take away your doctor, and abolish private insurance entirely.\n",
            "AUDIENCE:  Booo —\n",
            "THE PRESIDENT:  One hundred thirty-two lawmakers in this room have endorsed legislation to impose a socialist takeover of our healthcare system, wiping out the private health insurance plans of 180 million very happy Americans.  To those watching at home tonight, I want you to know: We will never let socialism destroy American healthcare.  (Applause.)\n",
            "Over 130 legislators in this chamber have endorsed legislation that would bankrupt our nation by providing free taxpayer-funded healthcare to millions of illegal aliens, forcing taxpayers to subsidize free care for anyone in the world who unlawfully crosses our borders.  These proposals would raid the Medicare benefits of our seniors and that our seniors depend on, while acting as a powerful lure for illegal immigration.  That is what is happening in California and other states.  Their systems are totally out of control, costing taxpayers vast and unaffordable amounts of money.\n",
            "If forcing American taxpayers to provide unlimited free healthcare to illegal aliens sounds fair to you, then stand with the radical left.  But if you believe that we should defend American patients and American seniors, then stand with me and pass legislation to prohibit free government healthcare for illegal aliens.  (Applause.)\n",
            "This will be a tremendous boon to our already very strongly guarded southern border where, as we speak, a long, tall, and very powerful wall is being built.  (Applause.)  We have now completed over 100 miles and have over 500 miles fully completed in a very short period of time.  Early next year, we will have substantially more than 500 miles completed.\n",
            "My administration is also taking on the big pharmaceutical companies.  We have approved a record number of affordable generic drugs, and medicines are being approved by the FDA at a faster clip than ever before.  (Applause.)  And I was pleased to announce last year that, for the first time in 51 years, the cost of prescription drugs actually went down.  (Applause.)\n",
            "And working together, Congress can reduce drug prices substantially from current levels.  I’ve been speaking to Senator Chuck Grassley of Iowa and others in Congress in order to get something on drug pricing done, and done quickly and properly.  I’m calling for bipartisan legislation that achieves the goal of dramatically lowering prescription drug prices.  Get a bill on my desk, and I will sign it into law immediately.  (Applause.)\n",
            "AUDIENCE:  H.R.3!  H.R.3!  H.R.3!\n",
            "With unyielding commitment, we are curbing the opioid epidemic.  Drug overdose deaths declined for the first time in nearly 30 years.  (Applause.)  Among the states hardest hit, Ohio is down 22 percent, Pennsylvania is down 18 percent, Wisconsin is down 10 percent — and we will not quit until we have beaten the opioid epidemic once and for all.  (Applause.)\n",
            "Protecting Americans’ health also means fighting infectious diseases.  We are coordinating with the Chinese government and working closely together on the coronavirus outbreak in China.  My administration will take all necessary steps to safeguard our citizens from this threat.\n",
            "We have launched ambitious new initiatives to substantially improve care for Americans with kidney disease, Alzheimer’s, and those struggling with mental health.  And because Congress was so good as to fund my request, new cures for childhood cancer, and we will eradicate the AIDS epidemic in America by the end of this decade.  (Applause.)\n",
            "Almost every American family knows the pain when a loved one is diagnosed with a serious illness.  Here tonight is a special man, beloved by millions of Americans who just received a Stage 4 advanced cancer diagnosis.  This is not good news, but what is good news is that he is the greatest fighter and winner that you will ever meet.  Rush Limbaugh, thank you for your decades of tireless devotion to our country.  (Applause.)\n",
            "And, Rush, in recognition of all that you have done for our nation, the millions of people a day that you speak to and that you inspire, and all of the incredible work that you have done for charity, I am proud to announce tonight that you will be receiving our country’s highest civilian honor, the Presidential Medal of Freedom.  (Applause.)\n",
            "I will now ask the First Lady of the United States to present you with the honor.  Please.  (Applause.)\n",
            "(The Medal of Freedom is presented.)  (Applause.)\n",
            "Rush and Kathryn, congratulations.  Thank you, Kathryn.\n",
            "As we pray for all who are sick, we know that America is constantly achieving new medical breakthroughs.  In 2017, doctors at St. Luke’s Hospital in Kansas City delivered one of the earliest premature babies ever to survive.  Born at just 21 weeks and 6 days, and weighing less than a pound, Ellie Schneider was a born fighter.  Through the skill of her doctors and the prayers of her parents, little Ellie kept on winning the battle of life.  Today, Ellie is a strong, healthy two-year-old girl sitting with her amazing mother Robin in the Gallery.  Ellie and Robin, we are glad to have you with us tonight.  (Applause.)\n",
            "Ellie reminds us that every child is a miracle of life.  And thanks to modern medical wonders, 50 percent of very premature babies delivered at the hospital where Ellie was born now survive.  It’s an incredible thing.  Thank you very much.  (Applause.)\n",
            "Our goal should be to ensure that every baby has the best chance to thrive and grow just like Ellie.  That is why I’m asking Congress to provide an additional $50 million to fund neonatal research for America’s youngest patients.  (Applause.)\n",
            "That is why I’m also calling upon members of Congress here tonight to pass legislation finally banning the late-term abortion of babies.  (Applause.)  Whether we are Republican, Democrat, or independent, surely we must all agree that every human life is a sacred gift from God.\n",
            "As we support America’s moms and dads, I was recently proud to sign the law providing new parents in the federal workforce paid family leave, serving as a model for the rest of the country.  (Applause.)\n",
            "Now I call on the Congress to pass the bipartisan Advancing Support for Working Families Act, extending family leave to mothers and fathers all across our nation.  (Applause.)\n",
            "Forty million American families have an average $2,200 extra thanks to our child tax credit.  (Applause.)  I’ve also overseen historic funding increases for high-quality child care, enabling 17 states to help more children, many of which have reduced or eliminated their waitlists altogether.  (Applause.)  And I sent Congress a plan with a vision to further expand access to high-quality child care, and urge you to act immediately.  (Applause.)\n",
            "To protect the environment, days ago I announced that the United States will join the One Trillion Trees Initiative, an ambitious effort to bring together government and private sector to plant new trees in America and all around the world.  (Applause.)\n",
            "We must also rebuild America’s infrastructure.  (Applause.)  I ask you to pass Senator John Barrasso’s highway bill to invest in new roads, bridges, and tunnels all across our land.\n",
            "I’m also committed to ensuring that every citizen can have access to high-speed Internet, including and especially in rural America.  (Applause.)\n",
            "A better tomorrow for all Americans also requires us to keep America safe.  That means supporting the men and women of law enforcement at every level, including our nation’s heroic ICE officers.  (Applause.)\n",
            "Last year, our brave ICE officers arrested more than 120,000 criminal aliens charged with nearly 10,000 burglaries, 5,000 sexual assaults, 45,000 violent assaults, and 2,000 murders.\n",
            "Tragically, there are many cities in America where radical politicians have chosen to provide sanctuary for these criminal illegal aliens.\n",
            "AUDIENCE:  Booo —\n",
            "THE PRESIDENT:  In sanctuary cities, local officials order police to release dangerous criminal aliens to prey upon the public, instead of handing them over to ICE to be safely removed.\n",
            "Just 29 days ago, a criminal alien freed by the sanctuary city of New York was charged with the brutal rape and murder of a 92-year-old woman.  The killer had been previously arrested for assault, but under New York’s sanctuary policies, he was set free.  If the city had honored ICE’s detainer request, his victim would still be alive today.\n",
            "The state of California passed an outrageous law declaring their whole state to be a sanctuary for criminal illegal immigrants — a very terrible sanctuary — with catastrophic results.\n",
            "Here is just one tragic example.  In December 2018, California police detained an illegal alien with five prior arrests, including convictions for robbery and assault.  But as required by California’s Sanctuary Law, local authorities released him.\n",
            "Days later, the criminal alien went on a gruesome spree of deadly violence.  He viciously shot one man going about his daily work.  He approached a woman sitting in her car and shot her in the arm and in the chest.  He walked into a convenience store and wildly fired his weapon.  He hijacked a truck and smashed into vehicles, critically injuring innocent victims.  One of the victims is — a terrible, terrible situation; died — 51-year-old American named Rocky Jones.\n",
            "Rocky was at a gas station when this vile criminal fired eight bullets at him from close range, murdering him in cold blood.  Rocky left behind a devoted family, including his brothers, who loved him more than anything else in the world.  One of his grieving brothers is here with us tonight.  Jody, would you please stand?  Jody, thank you.  (Applause.)  Jody our hearts weep for your loss, and we will not rest until you have justice.\n",
            "Senator Thom Tillis has introduced legislation to allow Americans like Jody to sue sanctuary cities and states when a loved one is hurt or killed as a result of these deadly practices.  (Applause.)\n",
            "I ask Congress to pass the Justice for Victims of Sanctuary Cities Act immediately.  The United States of America should be a sanctuary for law-abiding Americans, not criminal aliens.  (Applause.)\n",
            "In the last three years, ICE has arrested over 5,000 wicked human traffickers.  And I have signed nine pieces of legislation to stamp out the menace of human trafficking, domestically and all around the globe.  My administration has undertaken an unprecedented effort to secure the southern border of the United States.  (Applause.)\n",
            "Before I came into office, if you showed up illegally on our southern border and were arrested, you were simply released and allowed into our country, never to be seen again.  My administration has ended catch and release.  (Applause.)  If you come illegally, you will now be promptly removed from our country.  (Applause.)\n",
            "Very importantly, we entered into historic cooperation agreements with the governments of Mexico, Honduras, El Salvador, and Guatemala.  As a result of our unprecedented efforts, illegal crossings are down 75 percent since May, dropping eight straight months in a row.  (Applause.)  And as the wall rapidly goes up, drug seizures rise, and the border crossings are down, and going down very rapidly.\n",
            "Last year, I traveled to the border in Texas and met Chief Patrol Agent Raul Ortiz.  Over the last 24 months, Agent Ortiz and his team have seized more than 200,000 pounds of poisonous narcotics, arrested more than 3,000 human smugglers, and rescued more than 2,000 migrants.  Days ago, Agent Ortiz was promoted to Deputy Chief of Border Patrol, and he joins us tonight.  Chief Ortiz, please stand.  (Applause.)  A grateful nation thanks you and all of the heroes of Border Patrol and ICE.  Thank you very much.  Thank you.  (Applause.)\n",
            "To build on these historic gains, we are working on legislation to replace our outdated and randomized immigration system with one based on merit, welcoming those who follow the rules, contribute to our economy, support themselves financially, and uphold our values.  (Applause.)\n",
            "With every action, my administration is restoring the rule of law and reasserting the culture of American freedom. (Applause.)  Working with Senate Majority Leader Mitch McConnell — thank you, Mitch — (applause) — and his colleagues in the Senate, we have confirmed a record number of 187 new federal judges to uphold our Constitution as written.  This includes two brilliant new Supreme Court justices, Neil Gorsuch and Brett Kavanaugh.  Thank you.  (Applause.)  And we have many in the pipeline.  (Laughter and applause.)\n",
            "My administration is also defending religious liberty, and that includes the constitutional right to pray in public schools.  (Applause.)  In America, we don’t punish prayer.  We don’t tear down crosses.  We don’t ban symbols of faith.  We don’t muzzle preachers and pastors.  In America, we celebrate faith, we cherish religion, we lift our voices in prayer, and we raise our sights to the Glory of God.\n",
            "Just as we believe in the First Amendment, we also believe in another constitutional right that is under siege all across our country.  So long as I am President, I will always protect your Second Amendment right to keep and bear arms.  (Applause.)\n",
            "In reaffirming our heritage as a free nation, we must remember that America has always been a frontier nation.  Now we must embrace the next frontier, America’s manifest destiny in the stars.  I am asking Congress to fully fund the Artemis program to ensure that the next man and the first woman on the Moon will be American astronauts — (applause) — using this as a launching pad to ensure that America is the first nation to plant its flag on Mars.  (Applause.)\n",
            "My administration is also strongly defending our national security and combating radical Islamic terrorism.  (Applause.)\n",
            "Last week, I announced a groundbreaking plan for peace between Israel and the Palestinians.  Recognizing that all past attempts have failed, we must be determined and creative in order to stabilize the region and give millions of young people the chance to realize a better future.\n",
            "Three years ago, the barbarians of ISIS held over 20,000 square miles of territory in Iraq and Syria.  Today, the ISIS territorial caliphate has been 100 percent destroyed, and the founder and leader of ISIS — the bloodthirsty killer known as al-Baghdadi — is dead.  (Applause.)\n",
            "We are joined this evening by Carl and Marsha Mueller.  After graduating from college, their beautiful daughter Kayla became a humanitarian aid worker.  She once wrote, “Some people find God in church.  Some people find God in nature.  Some people find God in love.  I find God in suffering.  I’ve known for some time what my life’s work is, using my hands as tools to relieve suffering.”  In 2013, while caring for suffering civilians in Syria, Kayla was kidnapped, tortured, and enslaved by ISIS, and kept as a prisoner of al-Baghdadi himself.  After more than 500 horrifying days of captivity, al-Baghdadi murdered young, beautiful Kayla.  She was just 26 years old.\n",
            "On the night that U.S. Special Forces Operations ended al-Baghdadi’s miserable life, the Chairman of the Joint Chiefs of Staff, General Mark Milley, received a call in the Situation Room.  He was told that the brave men of the elite Special Forces team that so perfectly carried out the operation had given their mission a name: “Task Force 8-14.”  It was a reference to a special day: August 14th — Kayla’s birthday.  Carl and Marsha, America’s warriors never forgot Kayla — and neither will we.  Thank you.  (Applause.)\n",
            "Every day, America’s men and women in uniform demonstrate the infinite depth of love that dwells in the human heart.\n",
            "One of these American heroes was Army Staff Sergeant Christopher Hake.  On his second deployment to Iraq in 2008, Sergeant Hake wrote a letter to his one-year-old son, Gage: “I will be with you again,” he wrote to Gage.  “I will teach you to ride your first bike, build your first sand box, watch you play sports, and see you have kids also.  I love you son.  Take care of your mother.  I am always with you.  Daddy.”\n",
            "On Easter Sunday of 2008, Chris was out on patrol in Baghdad when his Bradley Fighting Vehicle was hit by a roadside bomb.  That night, he made the ultimate sacrifice for our country.  Sergeant Hake now rests in eternal glory in Arlington, and his wife Kelli is in the Gallery tonight, joined by their son, who is now a 13-year-old and doing very, very well.  To Kelli and Gage: Chris will live in our hearts forever.  He is looking down on you now.  Thank you.  (Applause.)  Thank you very much.  Thank you both very much.\n",
            "The terrorist responsible for killing Sergeant Hake was Qasem Soleimani, who provided the deadly roadside bomb that took Chris’s life.  Soleimani was the Iranian regime’s most ruthless butcher, a monster who murdered or wounded thousands of American service members in Iraq.  As the world’s top terrorist, Soleimani orchestrated the deaths of countless men, women, and children.  He directed the December assault and went on to assault U.S. forces in Iraq.  Was actively planning new attacks when we hit him very hard.  And that’s why, last month, at my direction, the U.S. military executed a flawless precision strike that killed Soleimani and terminated his evil reign of terror forever.  (Applause.)\n",
            "Our message to the terrorists is clear: You will never escape American justice.  If you attack our citizens, you forfeit your life.  (Applause.)\n",
            "In recent months, we have seen proud Iranians raise their voices against their oppressive rulers.  The Iranian regime must abandon its pursuit of nuclear weapons; stop spreading terror, death, and destruction; and start working for the good of its own people.\n",
            "Because of our powerful sanctions, the Iranian economy is doing very, very poorly.  We can help them make a very good and short-time recovery.  It can all go very quickly, but perhaps they are too proud or too foolish to ask for that help.  We are here.  Let’s see which road they choose.  It is totally up to them.  (Applause.)\n",
            "As we defend American lives, we are working to end America’s wars in the Middle East.\n",
            "In Afghanistan, the determination and valor of our warfighters has allowed us to make tremendous progress, and peace talks are now underway.  I am not looking to kill hundreds of thousands of people in Afghanistan, many of them totally innocent.  It is also not our function to serve other nations as law enforcement agencies.  These are warfighters that we have — the best in the world — and they either want to fight to win or not fight at all.  We are working to finally end America’s longest war and bring our troops back home.  (Applause.)\n",
            "War places a heavy burden on our nation’s extraordinary military families, especially spouses like Amy Williams from Fort Bragg, North Carolina, and her two children — six-year-old Elliana and three-year-old Rowan.  Amy works full-time and volunteers countless hours helping other military families.  For the past seven months, she has done it all while her husband, Sergeant First Class Townsend Williams, is in Afghanistan on his fourth deployment in the Middle East.  Amy’s kids haven’t seen their father’s face in many months.  Amy, your family’s sacrifice makes it possible for all of our families to live in safety and in peace, and we want to thank you.  Thank you, Amy.  (Applause.)\n",
            "But, Amy, there is one more thing.  Tonight, we have a very special surprise.  I am thrilled to inform you that your husband is back from deployment.  He is here with us tonight, and we couldn’t keep him waiting any longer.  (Applause.)\n",
            "AUDIENCE:  USA!  USA!  USA!\n",
            "THE PRESIDENT:  Welcome home, Sergeant Williams.  Thank you very much.\n",
            "As the world bears witness tonight, America is a land of heroes.  This is a place where greatness is born, where destinies are forged, and where legends come to life.  This is the home of Thomas Edison and Teddy Roosevelt, of many great generals including Washington, Pershing, Patton, and MacArthur.  This is the home of Abraham Lincoln, Frederick Douglass, Amelia Earhart, Harriet Tubman, the Wright Brothers, Neil Armstrong, and so many more.  This is the country where children learn names like Wyatt Earp, Davy Crockett, and Annie Oakley.  This is the place where the pilgrims landed at Plymouth and where Texas patriots made their last stand at the Alamo — (applause) — the beautiful, beautiful Alamo.\n",
            "The American nation was carved out of the vast frontier by the toughest, strongest, fiercest, and most determined men and women ever to walk on the face of the Earth.  Our ancestors braved the unknown; tamed the wilderness; settled the Wild West; lifted millions from poverty, disease, and hunger; vanquished tyranny and fascism; ushered the world to new heights of science and medicine; laid down the railroads, dug out the canals, raised up the skyscrapers.  And, ladies and gentlemen, our ancestors built the most exceptional republic ever to exist in all of human history, and we are making it greater than ever before.  (Applause.)\n",
            "This is our glorious and magnificent inheritance.  We are Americans.  We are pioneers.  We are the pathfinders.  We settled the New World, we built the modern world, and we changed history forever by embracing the eternal truth that everyone is made equal by the hand of Almighty God.  (Applause.)\n",
            "America is the place where anything can happen.  America is the place where anyone can rise.  And here, on this land, on this soil, on this continent, the most incredible dreams come true.\n",
            "This nation is our canvas, and this country is our masterpiece.  We look at tomorrow and see unlimited frontiers just waiting to be explored.  Our brightest discoveries are not yet known.  Our most thrilling stories are not yet told.  Our grandest journeys are not yet made.  The American Age, the American Epic, the American adventure has only just begun.\n",
            "Our spirit is still young, the sun is still rising, God’s grace is still shining, and, my fellow Americans, the best is yet to come.  (Applause.)\n",
            "Thank you.  God Bless You.  And God Bless America.  Thank you very much.  (Applause.)\n",
            "END\n",
            "10:24 P.M. EST\n",
            "\n"
          ],
          "name": "stdout"
        }
      ]
    },
    {
      "cell_type": "markdown",
      "metadata": {
        "id": "RZELpCEvVNtT"
      },
      "source": [
        "### Transcript Text Cleaning\n",
        "\n",
        "We are going to clean up the transcript a little bit.  If you look at the transcript above, you will notice that there are several \"(Applause.)\", to represent instances where the audience was clapping.  Additionally, the transcript also includes things that the audience were yelling as the indicated by the \"AUDIENCE:\".  We are going to remove these irregularities so we can focus our analysis on the words that Donald Trump said.\n",
        "\n",
        "There is a package in Python called `re` that is used for regular expressions (regex).  Regular expressions are a means of defining a sequence of characters.  Much of the functionality of regex is beyond the scope of this class, but we will show you how to use it to filter out the audience comments and the non-spoken content.  \n",
        "\n",
        "#### Removing Non-spoken Content\n",
        "\n",
        "Let's first start with removing the non-spoken content.  In this transcript, non-spoken content is contained by parentheses, so want remove everything that is contained by parentheses.  To achieve this, we need to use the `re.sub(pattern, replace, string)` function.  In the `pattern` argument, we need to create a pattern to remove everything that is contained in parentheses.  In this instance, we would use `r'\\(.*\\)'`\n",
        "\n",
        "* The `r` means that the string we created is considered a raw string literal.  This essentially allows us to include backslashes in our pattern.  With regular strings, backlashes have other purposes.\n",
        "* The `'` is simply an apostrophe, which we use when creating a string.\n",
        "* The `\\(` means that our pattern includes an open parenthesis.  We need to \"escape\" the parenthesis when creating a regular expression, as parentheses are used for grouping patterns in regular expressions.  We basically need to tell regex that we want it to look for a literal open parenthesis in the text.\n",
        "* The `.*` are two separate things that operate together.  The `.` means to match any character.  The `*` means to match 0 or more instances of the previous character.  Since the previous character is a `.`, then it means that the pattern will match all characters and infinite numbers of times.  \n",
        "* The `\\)` is the same situation as described above.  We are matching the closing parenthesis.\n",
        "\n",
        "The `replace` argument is the text we would want to replace our pattern matches with.  In this case, it would just be an empty string (`''`), since we want to remove the non-spoken content.  The `string` argument is the text we want to replace, so it would be `transcript_text`.\n",
        "\n",
        "\n",
        "Removing the non-spoken content contained in parentheses is demonstrated below. \n",
        "\n",
        "**MAKE SURE TO RUN THIS CODE SEGMENT TO ENSURE PROPER RESULTS LATER IN THE ACTIVITY**"
      ]
    },
    {
      "cell_type": "code",
      "metadata": {
        "id": "SNue1atuVNtU",
        "outputId": "dd22493e-0557-4b8a-8209-5ab69d8219f1"
      },
      "source": [
        "import re\n",
        "\n",
        "transcript_text = re.sub(r'\\(.*\\)', '', transcript_text)\n",
        "\n",
        "print(transcript_text)"
      ],
      "execution_count": null,
      "outputs": [
        {
          "output_type": "stream",
          "text": [
            "\n",
            "\n",
            "\n",
            "Share:\n",
            "\n",
            "\n",
            "\n",
            "\n",
            "Share this page on Facebook \n",
            "\n",
            "\n",
            "\n",
            "Share this page on Twitter \n",
            "\n",
            "\n",
            "\n",
            "Copy URL to your clipboard \n",
            "\n",
            "\n",
            "\n",
            "\n",
            "\n",
            "\n",
            "\t\tAll News\t\n",
            "\n",
            "\n",
            "\n",
            "U.S. Capitol\n",
            "Washington, D.C.\n",
            "9:06 P.M. EST\n",
            "THE PRESIDENT:  Thank you very much.  Thank you.  Thank you very much.\n",
            "Madam Speaker, Mr. Vice President, members of Congress, the First Lady of the United States —  — and my fellow citizens:\n",
            "Three years ago, we launched the great American comeback.  Tonight, I stand before you to share the incredible results.  Jobs are booming, incomes are soaring, poverty is plummeting, crime is falling, confidence is surging, and our country is thriving and highly respected again.    America’s enemies are on the run, America’s fortunes are on the rise, and America’s future is blazing bright.\n",
            "The years of economic decay are over.    Gone too are the broken promises, jobless recoveries, tired platitudes, and constant excuses for the depletion of American wealth, power, and prestige.\n",
            "In just three short years, we have shattered the mentality of American decline, and we have rejected the downsizing of America’s destiny.  We have totally rejected the downsizing.  We are moving forward at a pace that was unimaginable just a short time ago, and we are never, ever going back.  \n",
            "I am thrilled to report to you tonight that our economy is the best it has ever been.  Our military is completely rebuilt, with its power being unmatched anywhere in the world — and it’s not even close.  Our borders are secure.  Our families are flourishing.  Our values are renewed.  Our pride is restored.  And for all of these reasons, I say to the people of our great country and to the members of Congress: The state of our Union is stronger than ever before.  \n",
            "The vision I will lay out this evening demonstrates how we are building the world’s most prosperous and inclusive society — one where every citizen can join in America’s unparalleled success and where every community can take part in America’s extraordinary rise.\n",
            "From the instant I took office, I moved rapidly to revive the U.S. economy — slashing a record number of job-killing regulations, enacting historic and record-setting tax cuts, and fighting for fair and reciprocal trade agreements.    Thank you.  We are advancing with unbridled optimism and lifting our citizens of every race, color, religion, and creed very, very high.\n",
            "Since my election, we have created 7 million new jobs — 5 million more than government experts projected during the previous administration.  \n",
            "The unemployment rate is the lowest in over half a century.  \n",
            "The unemployment rate for African Americans, Hispanic Americans, and Asian Americans has reached the lowest levels in history.  \n",
            "The unemployment rate for women reached the lowest level in almost 70 years.  And, last year, women filled 72 percent of all new jobs added.  \n",
            "The veterans unemployment rate dropped to a record low.  \n",
            "Workers without a high school diploma have achieved the lowest unemployment rate recorded in U.S. history.  \n",
            "Under the last administration, more than 10 million people were added to the food stamp rolls.  Under my administration, 7 million Americans have come off food stamps, and 10 million people have been lifted off of welfare.  \n",
            "In eight years under the last administration, over 300,000 working-age people dropped out of the workforce.  In just three years of my administration, 3.5 million people — working-age people — have joined the workforce.  \n",
            "Since my election, the net worth of the bottom half of wage earners has increased by 47 percent — three times faster than the increase for the top 1 percent.  \n",
            "Real median household income is now at the highest level ever recorded.  \n",
            "Since my election, U.S. stock markets have soared 70 percent, adding more than $12 trillion to our nation’s wealth, transcending anything anyone believed was possible.  This is a record.  It is something that every country in the world is looking up to.  They admire.    Consumer confidence has just reached amazing new highs.\n",
            "All of those millions of people with 401s and pensions are doing far better than they have ever done before with increases of 60, 70, 80, 90, and 100 percent, and even more.\n",
            "Jobs and investments are pouring into 9,000 previously neglected neighborhoods thanks to Opportunity Zones, a plan spearheaded by Senator Tim Scott as part of our great Republican tax cuts.    This is the first time that these deserving communities have seen anything like this.  It’s all working.\n",
            "Opportunity Zones are helping Americans like Army veteran Tony Rankins from Cincinnati, Ohio.  After struggling with drug addiction, Tony lost his job, his house, and his family.  He was homeless.  But then Tony found a construction company that invests in Opportunity Zones.  He is now a top tradesman, drug-free, reunited with his family, and he is here tonight.  Tony, keep up the great work.  Tony.    Thank you, Tony.\n",
            "Our roaring economy has, for the first time ever, given many former prisoners the ability to get a great job and a fresh start.  This second chance at life is made possible because we passed landmark criminal justice reform into law.  Everybody said that criminal justice reform couldn’t be done, but I got it done, and the people in this room got it done.  \n",
            "Thanks to our bold regulatory reduction campaign, the United States has become the number one producer of oil and natural gas anywhere in the world, by far.    We are doing numbers that no one would have thought possible just three years ago.\n",
            "Likewise, we are restoring our nation’s manufacturing might, even though predictions were, as you all know, that this could never, ever be done.  After losing 60,000 factories under the previous two administrations, America has now gained 12,000 new factories under my administration, with thousands upon thousands of plants and factories being planned or being built.  \n",
            "One of the biggest promises I made to the American people was to replace the disastrous NAFTA trade deal.  \n",
            "Six days ago, I replaced NAFTA and signed the brand-new U.S.-Mexico-Canada Agreement into law.  The USMCA will create nearly 100,000 new high-paying American auto jobs, and massively boost exports for our farmers, ranchers, and factory workers.  \n",
            "This is the first major trade deal in many years to earn the strong backing of America’s labor unions.  \n",
            "I also promised our citizens that I would impose tariffs to confront China’s massive theft of America’s jobs.  Our strategy has worked.  Days ago, we signed the groundbreaking new agreement with China that will defend our workers, protect our intellectual property, bring billions and billions of dollars into our treasury, and open vast new markets for products made and grown right here in the USA.  \n",
            "For decades, China has taken advantage of the United States.  Now we have changed that, but, at the same time, we have perhaps the best relationship we’ve ever had with China, including with President Xi.  They respect what we’ve done because, quite frankly, they could never really believe that they were able to get away with what they were doing year after year, decade after decade, without someone in our country stepping up and saying, “That’s enough.”    Now we want to rebuild our country, and that’s exactly what we’re doing.  We are rebuilding our country.\n",
            "As we restore — \n",
            "We are supporting the hopes of Cubans, Nicaraguans, and Venezuelans to restore democracy.  The United States is leading a 59-nation diplomatic coalition against the socialist dictator of Venezuela, Nicolás Maduro.    Maduro is an illegitimate ruler, a tyrant who brutalizes his people.  But Maduro’s grip on tyranny will be smashed and broken.\n",
            "Here this evening is a very brave man who carries with him the hopes, dreams, and aspirations of all Venezuelans.  Joining us in the Gallery is the true and legitimate President of Venezuela, Juan Guaidó.    Thank you, Mr. President.  Great honor.  Thank you very much.\n",
            "Please take this message back that all Americans are united with the Venezuelan people in their righteous struggle for freedom.  Thank you very much, Mr. President.    Thank you very much.\n",
            "Socialism destroys nations.  But always remember: Freedom unifies the soul.  \n",
            "To safeguard American liberty, we have invested a record-breaking $2.2 trillion in the United States military.  \n",
            "We are also getting our allies, finally, to help pay their fair share.    I have raised contributions from the other NATO members by more than $400 billion, and the number of Allies meeting their minimum obligations has more than doubled.\n",
            "And just weeks ago, for the first time since President Truman established the Air Force more than 70 years earlier, we created a brand-new branch of the United States Armed Forces.  It’s called the Space Force.    Very important.\n",
            "In the Gallery tonight, we have a young gentleman.  And what he wants so badly — 13 years old — Iain Lanphier.  He’s an eighth grader from Arizona.  Iain, please stand up.\n",
            "Iain has always dreamed of going to space.  He was the first in his class and among the youngest at an aviation academy.  He aspires to go to the Air Force Academy, and then he has his eye on the Space Force.  As Iain says, “Most people look up at space.  I want to look down on the world.”  \n",
            "But sitting behind Iain tonight is his greatest hero of them all.  Charles McGee was born in Cleveland, Ohio, one century ago.  Charles is one of the last surviving Tuskegee Airmen — the first black fighter pilots — and he also happens to be Iain’s great-grandfather.    Incredible story.\n",
            "After more than 130 combat missions in World War Two, he came back home to a country still struggling for civil rights and went on to serve America in Korea and Vietnam.  On December 7th, Charles celebrated his 100th birthday.  \n",
            "From the pilgrims to the Founders, from the soldiers at Valley Forge to the marchers at Selma, and from President Lincoln to the Reverend Martin Luther King, Americans have always rejected limits on our children’s future.\n",
            "Members of Congress, we must never forget that the only victories that matter in Washington are victories that deliver for the American people.  \n",
            "The next step forward in building an inclusive society is making sure that every young American gets a great education and the opportunity to achieve the American Dream.  Yet, for too long, countless American children have been trapped in failing government schools.  To rescue these students, 18 states have created school choice in the form of Opportunity Scholarships.  The programs are so popular that tens of thousands of students remain on a waiting list.\n",
            "One of those students is Janiyah Davis, a fourth grader from Philadelphia.  Janiyah.    Janiyah’s mom, Stephanie, is a single parent.  She would do anything to give her daughter a better future.  But last year, that future was put further out of reach when Pennsylvania’s governor vetoed legislation to expand school choice to 50,000 children.\n",
            "Janiyah and Stephanie are in the Gallery.  Stephanie, thank you so much for being here with your beautiful daughter.  Thank you very much.  \n",
            "But, Janiyah, I have some good news for you, because I am pleased to inform you that your long wait is over.  I can proudly announce tonight that an Opportunity Scholarship has become available, it’s going to you, and you will soon be heading to the school of your choice.  \n",
            "Now I call on Congress to give one million American children the same opportunity Janiyah has just received.  Pass the Education Freedom Scholarships and Opportunities Act — because no parent should be forced to send their child to a failing government school.  \n",
            "Every young person should have a safe and secure environment in which to learn and to grow.  For this reason, our magnificent First Lady has launched the BE BEST initiative to advance a safe, healthy, supportive, and drug-free life for the next generation — online, in school, and in our communities.  Thank you, Melania, for your extraordinary love and profound care for America’s children.  Thank you very much.  \n",
            "My administration is determined to give our citizens the opportunities they need regardless of age or background.  Through our Pledge to American Workers, over 400 companies will also provide new jobs and education opportunities to almost 15 million Americans.\n",
            "My budget also contains an exciting vision for our nation’s high schools.  Tonight, I ask Congress to support our students and back my plan to offer vocational and technical education in every single high school in America.  \n",
            "To expand equal opportunity, I am also proud that we achieved record and permanent funding for our nation’s historically black colleges and universities.  \n",
            "A good life for American families also requires the most affordable, innovative, and high-quality healthcare system on Earth.  Before I took office, health insurance premiums had more than doubled in just five years.  I moved quickly to provide affordable alternatives.  Our new plans are up to 60 percent less expensive — and better.  \n",
            "I’ve also made an ironclad pledge to American families: We will always protect patients with pre-existing conditions.  \n",
            "The American patient should never be blindsided by medical bills.  That is why I signed an executive order requiring price transparency.    It will save families massive amounts of money for substantially better care.\n",
            "But as we work to improve Americans’ healthcare, there are those who want to take away your healthcare, take away your doctor, and abolish private insurance entirely.\n",
            "AUDIENCE:  Booo —\n",
            "THE PRESIDENT:  One hundred thirty-two lawmakers in this room have endorsed legislation to impose a socialist takeover of our healthcare system, wiping out the private health insurance plans of 180 million very happy Americans.  To those watching at home tonight, I want you to know: We will never let socialism destroy American healthcare.  \n",
            "Over 130 legislators in this chamber have endorsed legislation that would bankrupt our nation by providing free taxpayer-funded healthcare to millions of illegal aliens, forcing taxpayers to subsidize free care for anyone in the world who unlawfully crosses our borders.  These proposals would raid the Medicare benefits of our seniors and that our seniors depend on, while acting as a powerful lure for illegal immigration.  That is what is happening in California and other states.  Their systems are totally out of control, costing taxpayers vast and unaffordable amounts of money.\n",
            "If forcing American taxpayers to provide unlimited free healthcare to illegal aliens sounds fair to you, then stand with the radical left.  But if you believe that we should defend American patients and American seniors, then stand with me and pass legislation to prohibit free government healthcare for illegal aliens.  \n",
            "This will be a tremendous boon to our already very strongly guarded southern border where, as we speak, a long, tall, and very powerful wall is being built.    We have now completed over 100 miles and have over 500 miles fully completed in a very short period of time.  Early next year, we will have substantially more than 500 miles completed.\n",
            "My administration is also taking on the big pharmaceutical companies.  We have approved a record number of affordable generic drugs, and medicines are being approved by the FDA at a faster clip than ever before.  \n",
            "And working together, Congress can reduce drug prices substantially from current levels.  I’ve been speaking to Senator Chuck Grassley of Iowa and others in Congress in order to get something on drug pricing done, and done quickly and properly.  I’m calling for bipartisan legislation that achieves the goal of dramatically lowering prescription drug prices.  Get a bill on my desk, and I will sign it into law immediately.  \n",
            "AUDIENCE:  H.R.3!  H.R.3!  H.R.3!\n",
            "With unyielding commitment, we are curbing the opioid epidemic.  Drug overdose deaths declined for the first time in nearly 30 years.  \n",
            "Protecting Americans’ health also means fighting infectious diseases.  We are coordinating with the Chinese government and working closely together on the coronavirus outbreak in China.  My administration will take all necessary steps to safeguard our citizens from this threat.\n",
            "We have launched ambitious new initiatives to substantially improve care for Americans with kidney disease, Alzheimer’s, and those struggling with mental health.  And because Congress was so good as to fund my request, new cures for childhood cancer, and we will eradicate the AIDS epidemic in America by the end of this decade.  \n",
            "Almost every American family knows the pain when a loved one is diagnosed with a serious illness.  Here tonight is a special man, beloved by millions of Americans who just received a Stage 4 advanced cancer diagnosis.  This is not good news, but what is good news is that he is the greatest fighter and winner that you will ever meet.  Rush Limbaugh, thank you for your decades of tireless devotion to our country.  \n",
            "And, Rush, in recognition of all that you have done for our nation, the millions of people a day that you speak to and that you inspire, and all of the incredible work that you have done for charity, I am proud to announce tonight that you will be receiving our country’s highest civilian honor, the Presidential Medal of Freedom.  \n",
            "I will now ask the First Lady of the United States to present you with the honor.  Please.  \n",
            "\n",
            "Rush and Kathryn, congratulations.  Thank you, Kathryn.\n",
            "As we pray for all who are sick, we know that America is constantly achieving new medical breakthroughs.  In 2017, doctors at St. Luke’s Hospital in Kansas City delivered one of the earliest premature babies ever to survive.  Born at just 21 weeks and 6 days, and weighing less than a pound, Ellie Schneider was a born fighter.  Through the skill of her doctors and the prayers of her parents, little Ellie kept on winning the battle of life.  Today, Ellie is a strong, healthy two-year-old girl sitting with her amazing mother Robin in the Gallery.  Ellie and Robin, we are glad to have you with us tonight.  \n",
            "Ellie reminds us that every child is a miracle of life.  And thanks to modern medical wonders, 50 percent of very premature babies delivered at the hospital where Ellie was born now survive.  It’s an incredible thing.  Thank you very much.  \n",
            "Our goal should be to ensure that every baby has the best chance to thrive and grow just like Ellie.  That is why I’m asking Congress to provide an additional $50 million to fund neonatal research for America’s youngest patients.  \n",
            "That is why I’m also calling upon members of Congress here tonight to pass legislation finally banning the late-term abortion of babies.    Whether we are Republican, Democrat, or independent, surely we must all agree that every human life is a sacred gift from God.\n",
            "As we support America’s moms and dads, I was recently proud to sign the law providing new parents in the federal workforce paid family leave, serving as a model for the rest of the country.  \n",
            "Now I call on the Congress to pass the bipartisan Advancing Support for Working Families Act, extending family leave to mothers and fathers all across our nation.  \n",
            "Forty million American families have an average $2,200 extra thanks to our child tax credit.  \n",
            "To protect the environment, days ago I announced that the United States will join the One Trillion Trees Initiative, an ambitious effort to bring together government and private sector to plant new trees in America and all around the world.  \n",
            "We must also rebuild America’s infrastructure.    I ask you to pass Senator John Barrasso’s highway bill to invest in new roads, bridges, and tunnels all across our land.\n",
            "I’m also committed to ensuring that every citizen can have access to high-speed Internet, including and especially in rural America.  \n",
            "A better tomorrow for all Americans also requires us to keep America safe.  That means supporting the men and women of law enforcement at every level, including our nation’s heroic ICE officers.  \n",
            "Last year, our brave ICE officers arrested more than 120,000 criminal aliens charged with nearly 10,000 burglaries, 5,000 sexual assaults, 45,000 violent assaults, and 2,000 murders.\n",
            "Tragically, there are many cities in America where radical politicians have chosen to provide sanctuary for these criminal illegal aliens.\n",
            "AUDIENCE:  Booo —\n",
            "THE PRESIDENT:  In sanctuary cities, local officials order police to release dangerous criminal aliens to prey upon the public, instead of handing them over to ICE to be safely removed.\n",
            "Just 29 days ago, a criminal alien freed by the sanctuary city of New York was charged with the brutal rape and murder of a 92-year-old woman.  The killer had been previously arrested for assault, but under New York’s sanctuary policies, he was set free.  If the city had honored ICE’s detainer request, his victim would still be alive today.\n",
            "The state of California passed an outrageous law declaring their whole state to be a sanctuary for criminal illegal immigrants — a very terrible sanctuary — with catastrophic results.\n",
            "Here is just one tragic example.  In December 2018, California police detained an illegal alien with five prior arrests, including convictions for robbery and assault.  But as required by California’s Sanctuary Law, local authorities released him.\n",
            "Days later, the criminal alien went on a gruesome spree of deadly violence.  He viciously shot one man going about his daily work.  He approached a woman sitting in her car and shot her in the arm and in the chest.  He walked into a convenience store and wildly fired his weapon.  He hijacked a truck and smashed into vehicles, critically injuring innocent victims.  One of the victims is — a terrible, terrible situation; died — 51-year-old American named Rocky Jones.\n",
            "Rocky was at a gas station when this vile criminal fired eight bullets at him from close range, murdering him in cold blood.  Rocky left behind a devoted family, including his brothers, who loved him more than anything else in the world.  One of his grieving brothers is here with us tonight.  Jody, would you please stand?  Jody, thank you.    Jody our hearts weep for your loss, and we will not rest until you have justice.\n",
            "Senator Thom Tillis has introduced legislation to allow Americans like Jody to sue sanctuary cities and states when a loved one is hurt or killed as a result of these deadly practices.  \n",
            "I ask Congress to pass the Justice for Victims of Sanctuary Cities Act immediately.  The United States of America should be a sanctuary for law-abiding Americans, not criminal aliens.  \n",
            "In the last three years, ICE has arrested over 5,000 wicked human traffickers.  And I have signed nine pieces of legislation to stamp out the menace of human trafficking, domestically and all around the globe.  My administration has undertaken an unprecedented effort to secure the southern border of the United States.  \n",
            "Before I came into office, if you showed up illegally on our southern border and were arrested, you were simply released and allowed into our country, never to be seen again.  My administration has ended catch and release.  \n",
            "Very importantly, we entered into historic cooperation agreements with the governments of Mexico, Honduras, El Salvador, and Guatemala.  As a result of our unprecedented efforts, illegal crossings are down 75 percent since May, dropping eight straight months in a row.    And as the wall rapidly goes up, drug seizures rise, and the border crossings are down, and going down very rapidly.\n",
            "Last year, I traveled to the border in Texas and met Chief Patrol Agent Raul Ortiz.  Over the last 24 months, Agent Ortiz and his team have seized more than 200,000 pounds of poisonous narcotics, arrested more than 3,000 human smugglers, and rescued more than 2,000 migrants.  Days ago, Agent Ortiz was promoted to Deputy Chief of Border Patrol, and he joins us tonight.  Chief Ortiz, please stand.  \n",
            "To build on these historic gains, we are working on legislation to replace our outdated and randomized immigration system with one based on merit, welcoming those who follow the rules, contribute to our economy, support themselves financially, and uphold our values.  \n",
            "With every action, my administration is restoring the rule of law and reasserting the culture of American freedom. \n",
            "My administration is also defending religious liberty, and that includes the constitutional right to pray in public schools.    In America, we don’t punish prayer.  We don’t tear down crosses.  We don’t ban symbols of faith.  We don’t muzzle preachers and pastors.  In America, we celebrate faith, we cherish religion, we lift our voices in prayer, and we raise our sights to the Glory of God.\n",
            "Just as we believe in the First Amendment, we also believe in another constitutional right that is under siege all across our country.  So long as I am President, I will always protect your Second Amendment right to keep and bear arms.  \n",
            "In reaffirming our heritage as a free nation, we must remember that America has always been a frontier nation.  Now we must embrace the next frontier, America’s manifest destiny in the stars.  I am asking Congress to fully fund the Artemis program to ensure that the next man and the first woman on the Moon will be American astronauts — \n",
            "My administration is also strongly defending our national security and combating radical Islamic terrorism.  \n",
            "Last week, I announced a groundbreaking plan for peace between Israel and the Palestinians.  Recognizing that all past attempts have failed, we must be determined and creative in order to stabilize the region and give millions of young people the chance to realize a better future.\n",
            "Three years ago, the barbarians of ISIS held over 20,000 square miles of territory in Iraq and Syria.  Today, the ISIS territorial caliphate has been 100 percent destroyed, and the founder and leader of ISIS — the bloodthirsty killer known as al-Baghdadi — is dead.  \n",
            "We are joined this evening by Carl and Marsha Mueller.  After graduating from college, their beautiful daughter Kayla became a humanitarian aid worker.  She once wrote, “Some people find God in church.  Some people find God in nature.  Some people find God in love.  I find God in suffering.  I’ve known for some time what my life’s work is, using my hands as tools to relieve suffering.”  In 2013, while caring for suffering civilians in Syria, Kayla was kidnapped, tortured, and enslaved by ISIS, and kept as a prisoner of al-Baghdadi himself.  After more than 500 horrifying days of captivity, al-Baghdadi murdered young, beautiful Kayla.  She was just 26 years old.\n",
            "On the night that U.S. Special Forces Operations ended al-Baghdadi’s miserable life, the Chairman of the Joint Chiefs of Staff, General Mark Milley, received a call in the Situation Room.  He was told that the brave men of the elite Special Forces team that so perfectly carried out the operation had given their mission a name: “Task Force 8-14.”  It was a reference to a special day: August 14th — Kayla’s birthday.  Carl and Marsha, America’s warriors never forgot Kayla — and neither will we.  Thank you.  \n",
            "Every day, America’s men and women in uniform demonstrate the infinite depth of love that dwells in the human heart.\n",
            "One of these American heroes was Army Staff Sergeant Christopher Hake.  On his second deployment to Iraq in 2008, Sergeant Hake wrote a letter to his one-year-old son, Gage: “I will be with you again,” he wrote to Gage.  “I will teach you to ride your first bike, build your first sand box, watch you play sports, and see you have kids also.  I love you son.  Take care of your mother.  I am always with you.  Daddy.”\n",
            "On Easter Sunday of 2008, Chris was out on patrol in Baghdad when his Bradley Fighting Vehicle was hit by a roadside bomb.  That night, he made the ultimate sacrifice for our country.  Sergeant Hake now rests in eternal glory in Arlington, and his wife Kelli is in the Gallery tonight, joined by their son, who is now a 13-year-old and doing very, very well.  To Kelli and Gage: Chris will live in our hearts forever.  He is looking down on you now.  Thank you.    Thank you very much.  Thank you both very much.\n",
            "The terrorist responsible for killing Sergeant Hake was Qasem Soleimani, who provided the deadly roadside bomb that took Chris’s life.  Soleimani was the Iranian regime’s most ruthless butcher, a monster who murdered or wounded thousands of American service members in Iraq.  As the world’s top terrorist, Soleimani orchestrated the deaths of countless men, women, and children.  He directed the December assault and went on to assault U.S. forces in Iraq.  Was actively planning new attacks when we hit him very hard.  And that’s why, last month, at my direction, the U.S. military executed a flawless precision strike that killed Soleimani and terminated his evil reign of terror forever.  \n",
            "Our message to the terrorists is clear: You will never escape American justice.  If you attack our citizens, you forfeit your life.  \n",
            "In recent months, we have seen proud Iranians raise their voices against their oppressive rulers.  The Iranian regime must abandon its pursuit of nuclear weapons; stop spreading terror, death, and destruction; and start working for the good of its own people.\n",
            "Because of our powerful sanctions, the Iranian economy is doing very, very poorly.  We can help them make a very good and short-time recovery.  It can all go very quickly, but perhaps they are too proud or too foolish to ask for that help.  We are here.  Let’s see which road they choose.  It is totally up to them.  \n",
            "As we defend American lives, we are working to end America’s wars in the Middle East.\n",
            "In Afghanistan, the determination and valor of our warfighters has allowed us to make tremendous progress, and peace talks are now underway.  I am not looking to kill hundreds of thousands of people in Afghanistan, many of them totally innocent.  It is also not our function to serve other nations as law enforcement agencies.  These are warfighters that we have — the best in the world — and they either want to fight to win or not fight at all.  We are working to finally end America’s longest war and bring our troops back home.  \n",
            "War places a heavy burden on our nation’s extraordinary military families, especially spouses like Amy Williams from Fort Bragg, North Carolina, and her two children — six-year-old Elliana and three-year-old Rowan.  Amy works full-time and volunteers countless hours helping other military families.  For the past seven months, she has done it all while her husband, Sergeant First Class Townsend Williams, is in Afghanistan on his fourth deployment in the Middle East.  Amy’s kids haven’t seen their father’s face in many months.  Amy, your family’s sacrifice makes it possible for all of our families to live in safety and in peace, and we want to thank you.  Thank you, Amy.  \n",
            "But, Amy, there is one more thing.  Tonight, we have a very special surprise.  I am thrilled to inform you that your husband is back from deployment.  He is here with us tonight, and we couldn’t keep him waiting any longer.  \n",
            "AUDIENCE:  USA!  USA!  USA!\n",
            "THE PRESIDENT:  Welcome home, Sergeant Williams.  Thank you very much.\n",
            "As the world bears witness tonight, America is a land of heroes.  This is a place where greatness is born, where destinies are forged, and where legends come to life.  This is the home of Thomas Edison and Teddy Roosevelt, of many great generals including Washington, Pershing, Patton, and MacArthur.  This is the home of Abraham Lincoln, Frederick Douglass, Amelia Earhart, Harriet Tubman, the Wright Brothers, Neil Armstrong, and so many more.  This is the country where children learn names like Wyatt Earp, Davy Crockett, and Annie Oakley.  This is the place where the pilgrims landed at Plymouth and where Texas patriots made their last stand at the Alamo —  — the beautiful, beautiful Alamo.\n",
            "The American nation was carved out of the vast frontier by the toughest, strongest, fiercest, and most determined men and women ever to walk on the face of the Earth.  Our ancestors braved the unknown; tamed the wilderness; settled the Wild West; lifted millions from poverty, disease, and hunger; vanquished tyranny and fascism; ushered the world to new heights of science and medicine; laid down the railroads, dug out the canals, raised up the skyscrapers.  And, ladies and gentlemen, our ancestors built the most exceptional republic ever to exist in all of human history, and we are making it greater than ever before.  \n",
            "This is our glorious and magnificent inheritance.  We are Americans.  We are pioneers.  We are the pathfinders.  We settled the New World, we built the modern world, and we changed history forever by embracing the eternal truth that everyone is made equal by the hand of Almighty God.  \n",
            "America is the place where anything can happen.  America is the place where anyone can rise.  And here, on this land, on this soil, on this continent, the most incredible dreams come true.\n",
            "This nation is our canvas, and this country is our masterpiece.  We look at tomorrow and see unlimited frontiers just waiting to be explored.  Our brightest discoveries are not yet known.  Our most thrilling stories are not yet told.  Our grandest journeys are not yet made.  The American Age, the American Epic, the American adventure has only just begun.\n",
            "Our spirit is still young, the sun is still rising, God’s grace is still shining, and, my fellow Americans, the best is yet to come.  \n",
            "Thank you.  God Bless You.  And God Bless America.  Thank you very much.  \n",
            "END\n",
            "10:24 P.M. EST\n",
            "\n"
          ],
          "name": "stdout"
        }
      ]
    },
    {
      "cell_type": "markdown",
      "metadata": {
        "id": "_861pgM3VNtV"
      },
      "source": [
        "#### Removing Audience Comments\n",
        "\n",
        "We can use a similar technique to the the one used to remove non-spoken content in order to remove the audience comments.  In addition to the \"AUDIENCE:\" speaker ID, want to remove the actual comments.  This can be achieve with the `AUDIENCE:.*\\n` pattern.  It will match the word \"AUDIENCE:\" (with the colon).  Then, it will also match all the text following the speaker ID up to the newline (`\\n`).  The newline character (`\\n`) signifies the end of the text on that line.  Since all the audience comments are limited to single line in the transcript, we essentially delete an entire line that starts with \"AUDIENCE:\".  \n",
        "\n",
        "In order to allow for more accurate textual analysis in a later module, we need to remove extra whitespace (newlines, tabs, spaces).  We want to ensure we only have one space between words and sentences.  We need to first match instances where we have multiple whitespace characters together.  We are using the pattern string `\\s+`.  The `\\s` represents whitespace characters (newlines, tabs, spaces).  The `+` is similar to the `*`, except it matches one or more instances (instead of zero of more with `*`).  So in this case, when we find one or more whitespace characters, we simply replace them with a single space.  Therefore, our code would be `re.sub(r'\\s+', ' ', transcript_text)`.\n",
        "\n",
        "We also want to remove the instances of `THE PRESIDENT:` speaker ID.  Instead of using regex to achieve this, we are going to use the `.replace` function.  This function is built into every Python string.  It is used like this:\n",
        "\n",
        "```python\n",
        "string.replace(old, new)\n",
        "```\n",
        "The `string` variable is the string we are modifying.  The `old` argument is the part of the string that we want to replace.  The `new` argument is what `old` is going to be replaced with.  So to get rid of all instances of \"THE PRESIDENT:\" in the transcript, we would run `transcript_text.replace(\"THE PRESIDENT:\", \"\")`.  Here, we are simply replacing \"THE PRESIDENT:\" with an empty string (`\"\"`).\n",
        "\n",
        "Run the following code to Removing audience comments and the speaker IDs.\n",
        "\n",
        "**MAKE SURE TO RUN THIS CODE SEGMENT TO ENSURE PROPER RESULTS LATER IN THE ACTIVITY**"
      ]
    },
    {
      "cell_type": "code",
      "metadata": {
        "id": "tnqNA-FRVNtV",
        "outputId": "7897aee6-518d-425c-8925-38cdd9bc5040"
      },
      "source": [
        "import re\n",
        "\n",
        "transcript_text = re.sub(r'AUDIENCE:.*\\n', '', transcript_text) # Removes audience comments\n",
        "\n",
        "transcript_text = re.sub(r'\\s+', ' ', transcript_text) # Removes extra whitespace\n",
        "\n",
        "transcript_text = transcript_text.replace('THE PRESIDENT:', '') # Removes THE PRESIDENT speaker ID\n",
        "\n",
        "print(transcript_text)"
      ],
      "execution_count": null,
      "outputs": [
        {
          "output_type": "stream",
          "text": [
            " Share: Share this page on Facebook Share this page on Twitter Copy URL to your clipboard All News U.S. Capitol Washington, D.C. 9:06 P.M. EST  Thank you very much. Thank you. Thank you very much. Madam Speaker, Mr. Vice President, members of Congress, the First Lady of the United States — — and my fellow citizens: Three years ago, we launched the great American comeback. Tonight, I stand before you to share the incredible results. Jobs are booming, incomes are soaring, poverty is plummeting, crime is falling, confidence is surging, and our country is thriving and highly respected again. America’s enemies are on the run, America’s fortunes are on the rise, and America’s future is blazing bright. The years of economic decay are over. Gone too are the broken promises, jobless recoveries, tired platitudes, and constant excuses for the depletion of American wealth, power, and prestige. In just three short years, we have shattered the mentality of American decline, and we have rejected the downsizing of America’s destiny. We have totally rejected the downsizing. We are moving forward at a pace that was unimaginable just a short time ago, and we are never, ever going back. I am thrilled to report to you tonight that our economy is the best it has ever been. Our military is completely rebuilt, with its power being unmatched anywhere in the world — and it’s not even close. Our borders are secure. Our families are flourishing. Our values are renewed. Our pride is restored. And for all of these reasons, I say to the people of our great country and to the members of Congress: The state of our Union is stronger than ever before. The vision I will lay out this evening demonstrates how we are building the world’s most prosperous and inclusive society — one where every citizen can join in America’s unparalleled success and where every community can take part in America’s extraordinary rise. From the instant I took office, I moved rapidly to revive the U.S. economy — slashing a record number of job-killing regulations, enacting historic and record-setting tax cuts, and fighting for fair and reciprocal trade agreements. Thank you. We are advancing with unbridled optimism and lifting our citizens of every race, color, religion, and creed very, very high. Since my election, we have created 7 million new jobs — 5 million more than government experts projected during the previous administration. The unemployment rate is the lowest in over half a century. The unemployment rate for African Americans, Hispanic Americans, and Asian Americans has reached the lowest levels in history. The unemployment rate for women reached the lowest level in almost 70 years. And, last year, women filled 72 percent of all new jobs added. The veterans unemployment rate dropped to a record low. Workers without a high school diploma have achieved the lowest unemployment rate recorded in U.S. history. Under the last administration, more than 10 million people were added to the food stamp rolls. Under my administration, 7 million Americans have come off food stamps, and 10 million people have been lifted off of welfare. In eight years under the last administration, over 300,000 working-age people dropped out of the workforce. In just three years of my administration, 3.5 million people — working-age people — have joined the workforce. Since my election, the net worth of the bottom half of wage earners has increased by 47 percent — three times faster than the increase for the top 1 percent. Real median household income is now at the highest level ever recorded. Since my election, U.S. stock markets have soared 70 percent, adding more than $12 trillion to our nation’s wealth, transcending anything anyone believed was possible. This is a record. It is something that every country in the world is looking up to. They admire. Consumer confidence has just reached amazing new highs. All of those millions of people with 401s and pensions are doing far better than they have ever done before with increases of 60, 70, 80, 90, and 100 percent, and even more. Jobs and investments are pouring into 9,000 previously neglected neighborhoods thanks to Opportunity Zones, a plan spearheaded by Senator Tim Scott as part of our great Republican tax cuts. This is the first time that these deserving communities have seen anything like this. It’s all working. Opportunity Zones are helping Americans like Army veteran Tony Rankins from Cincinnati, Ohio. After struggling with drug addiction, Tony lost his job, his house, and his family. He was homeless. But then Tony found a construction company that invests in Opportunity Zones. He is now a top tradesman, drug-free, reunited with his family, and he is here tonight. Tony, keep up the great work. Tony. Thank you, Tony. Our roaring economy has, for the first time ever, given many former prisoners the ability to get a great job and a fresh start. This second chance at life is made possible because we passed landmark criminal justice reform into law. Everybody said that criminal justice reform couldn’t be done, but I got it done, and the people in this room got it done. Thanks to our bold regulatory reduction campaign, the United States has become the number one producer of oil and natural gas anywhere in the world, by far. We are doing numbers that no one would have thought possible just three years ago. Likewise, we are restoring our nation’s manufacturing might, even though predictions were, as you all know, that this could never, ever be done. After losing 60,000 factories under the previous two administrations, America has now gained 12,000 new factories under my administration, with thousands upon thousands of plants and factories being planned or being built. One of the biggest promises I made to the American people was to replace the disastrous NAFTA trade deal. Six days ago, I replaced NAFTA and signed the brand-new U.S.-Mexico-Canada Agreement into law. The USMCA will create nearly 100,000 new high-paying American auto jobs, and massively boost exports for our farmers, ranchers, and factory workers. This is the first major trade deal in many years to earn the strong backing of America’s labor unions. I also promised our citizens that I would impose tariffs to confront China’s massive theft of America’s jobs. Our strategy has worked. Days ago, we signed the groundbreaking new agreement with China that will defend our workers, protect our intellectual property, bring billions and billions of dollars into our treasury, and open vast new markets for products made and grown right here in the USA. For decades, China has taken advantage of the United States. Now we have changed that, but, at the same time, we have perhaps the best relationship we’ve ever had with China, including with President Xi. They respect what we’ve done because, quite frankly, they could never really believe that they were able to get away with what they were doing year after year, decade after decade, without someone in our country stepping up and saying, “That’s enough.” Now we want to rebuild our country, and that’s exactly what we’re doing. We are rebuilding our country. As we restore — We are supporting the hopes of Cubans, Nicaraguans, and Venezuelans to restore democracy. The United States is leading a 59-nation diplomatic coalition against the socialist dictator of Venezuela, Nicolás Maduro. Maduro is an illegitimate ruler, a tyrant who brutalizes his people. But Maduro’s grip on tyranny will be smashed and broken. Here this evening is a very brave man who carries with him the hopes, dreams, and aspirations of all Venezuelans. Joining us in the Gallery is the true and legitimate President of Venezuela, Juan Guaidó. Thank you, Mr. President. Great honor. Thank you very much. Please take this message back that all Americans are united with the Venezuelan people in their righteous struggle for freedom. Thank you very much, Mr. President. Thank you very much. Socialism destroys nations. But always remember: Freedom unifies the soul. To safeguard American liberty, we have invested a record-breaking $2.2 trillion in the United States military. We are also getting our allies, finally, to help pay their fair share. I have raised contributions from the other NATO members by more than $400 billion, and the number of Allies meeting their minimum obligations has more than doubled. And just weeks ago, for the first time since President Truman established the Air Force more than 70 years earlier, we created a brand-new branch of the United States Armed Forces. It’s called the Space Force. Very important. In the Gallery tonight, we have a young gentleman. And what he wants so badly — 13 years old — Iain Lanphier. He’s an eighth grader from Arizona. Iain, please stand up. Iain has always dreamed of going to space. He was the first in his class and among the youngest at an aviation academy. He aspires to go to the Air Force Academy, and then he has his eye on the Space Force. As Iain says, “Most people look up at space. I want to look down on the world.” But sitting behind Iain tonight is his greatest hero of them all. Charles McGee was born in Cleveland, Ohio, one century ago. Charles is one of the last surviving Tuskegee Airmen — the first black fighter pilots — and he also happens to be Iain’s great-grandfather. Incredible story. After more than 130 combat missions in World War Two, he came back home to a country still struggling for civil rights and went on to serve America in Korea and Vietnam. On December 7th, Charles celebrated his 100th birthday. From the pilgrims to the Founders, from the soldiers at Valley Forge to the marchers at Selma, and from President Lincoln to the Reverend Martin Luther King, Americans have always rejected limits on our children’s future. Members of Congress, we must never forget that the only victories that matter in Washington are victories that deliver for the American people. The next step forward in building an inclusive society is making sure that every young American gets a great education and the opportunity to achieve the American Dream. Yet, for too long, countless American children have been trapped in failing government schools. To rescue these students, 18 states have created school choice in the form of Opportunity Scholarships. The programs are so popular that tens of thousands of students remain on a waiting list. One of those students is Janiyah Davis, a fourth grader from Philadelphia. Janiyah. Janiyah’s mom, Stephanie, is a single parent. She would do anything to give her daughter a better future. But last year, that future was put further out of reach when Pennsylvania’s governor vetoed legislation to expand school choice to 50,000 children. Janiyah and Stephanie are in the Gallery. Stephanie, thank you so much for being here with your beautiful daughter. Thank you very much. But, Janiyah, I have some good news for you, because I am pleased to inform you that your long wait is over. I can proudly announce tonight that an Opportunity Scholarship has become available, it’s going to you, and you will soon be heading to the school of your choice. Now I call on Congress to give one million American children the same opportunity Janiyah has just received. Pass the Education Freedom Scholarships and Opportunities Act — because no parent should be forced to send their child to a failing government school. Every young person should have a safe and secure environment in which to learn and to grow. For this reason, our magnificent First Lady has launched the BE BEST initiative to advance a safe, healthy, supportive, and drug-free life for the next generation — online, in school, and in our communities. Thank you, Melania, for your extraordinary love and profound care for America’s children. Thank you very much. My administration is determined to give our citizens the opportunities they need regardless of age or background. Through our Pledge to American Workers, over 400 companies will also provide new jobs and education opportunities to almost 15 million Americans. My budget also contains an exciting vision for our nation’s high schools. Tonight, I ask Congress to support our students and back my plan to offer vocational and technical education in every single high school in America. To expand equal opportunity, I am also proud that we achieved record and permanent funding for our nation’s historically black colleges and universities. A good life for American families also requires the most affordable, innovative, and high-quality healthcare system on Earth. Before I took office, health insurance premiums had more than doubled in just five years. I moved quickly to provide affordable alternatives. Our new plans are up to 60 percent less expensive — and better. I’ve also made an ironclad pledge to American families: We will always protect patients with pre-existing conditions. The American patient should never be blindsided by medical bills. That is why I signed an executive order requiring price transparency. It will save families massive amounts of money for substantially better care. But as we work to improve Americans’ healthcare, there are those who want to take away your healthcare, take away your doctor, and abolish private insurance entirely.  One hundred thirty-two lawmakers in this room have endorsed legislation to impose a socialist takeover of our healthcare system, wiping out the private health insurance plans of 180 million very happy Americans. To those watching at home tonight, I want you to know: We will never let socialism destroy American healthcare. Over 130 legislators in this chamber have endorsed legislation that would bankrupt our nation by providing free taxpayer-funded healthcare to millions of illegal aliens, forcing taxpayers to subsidize free care for anyone in the world who unlawfully crosses our borders. These proposals would raid the Medicare benefits of our seniors and that our seniors depend on, while acting as a powerful lure for illegal immigration. That is what is happening in California and other states. Their systems are totally out of control, costing taxpayers vast and unaffordable amounts of money. If forcing American taxpayers to provide unlimited free healthcare to illegal aliens sounds fair to you, then stand with the radical left. But if you believe that we should defend American patients and American seniors, then stand with me and pass legislation to prohibit free government healthcare for illegal aliens. This will be a tremendous boon to our already very strongly guarded southern border where, as we speak, a long, tall, and very powerful wall is being built. We have now completed over 100 miles and have over 500 miles fully completed in a very short period of time. Early next year, we will have substantially more than 500 miles completed. My administration is also taking on the big pharmaceutical companies. We have approved a record number of affordable generic drugs, and medicines are being approved by the FDA at a faster clip than ever before. And working together, Congress can reduce drug prices substantially from current levels. I’ve been speaking to Senator Chuck Grassley of Iowa and others in Congress in order to get something on drug pricing done, and done quickly and properly. I’m calling for bipartisan legislation that achieves the goal of dramatically lowering prescription drug prices. Get a bill on my desk, and I will sign it into law immediately. With unyielding commitment, we are curbing the opioid epidemic. Drug overdose deaths declined for the first time in nearly 30 years. Protecting Americans’ health also means fighting infectious diseases. We are coordinating with the Chinese government and working closely together on the coronavirus outbreak in China. My administration will take all necessary steps to safeguard our citizens from this threat. We have launched ambitious new initiatives to substantially improve care for Americans with kidney disease, Alzheimer’s, and those struggling with mental health. And because Congress was so good as to fund my request, new cures for childhood cancer, and we will eradicate the AIDS epidemic in America by the end of this decade. Almost every American family knows the pain when a loved one is diagnosed with a serious illness. Here tonight is a special man, beloved by millions of Americans who just received a Stage 4 advanced cancer diagnosis. This is not good news, but what is good news is that he is the greatest fighter and winner that you will ever meet. Rush Limbaugh, thank you for your decades of tireless devotion to our country. And, Rush, in recognition of all that you have done for our nation, the millions of people a day that you speak to and that you inspire, and all of the incredible work that you have done for charity, I am proud to announce tonight that you will be receiving our country’s highest civilian honor, the Presidential Medal of Freedom. I will now ask the First Lady of the United States to present you with the honor. Please. Rush and Kathryn, congratulations. Thank you, Kathryn. As we pray for all who are sick, we know that America is constantly achieving new medical breakthroughs. In 2017, doctors at St. Luke’s Hospital in Kansas City delivered one of the earliest premature babies ever to survive. Born at just 21 weeks and 6 days, and weighing less than a pound, Ellie Schneider was a born fighter. Through the skill of her doctors and the prayers of her parents, little Ellie kept on winning the battle of life. Today, Ellie is a strong, healthy two-year-old girl sitting with her amazing mother Robin in the Gallery. Ellie and Robin, we are glad to have you with us tonight. Ellie reminds us that every child is a miracle of life. And thanks to modern medical wonders, 50 percent of very premature babies delivered at the hospital where Ellie was born now survive. It’s an incredible thing. Thank you very much. Our goal should be to ensure that every baby has the best chance to thrive and grow just like Ellie. That is why I’m asking Congress to provide an additional $50 million to fund neonatal research for America’s youngest patients. That is why I’m also calling upon members of Congress here tonight to pass legislation finally banning the late-term abortion of babies. Whether we are Republican, Democrat, or independent, surely we must all agree that every human life is a sacred gift from God. As we support America’s moms and dads, I was recently proud to sign the law providing new parents in the federal workforce paid family leave, serving as a model for the rest of the country. Now I call on the Congress to pass the bipartisan Advancing Support for Working Families Act, extending family leave to mothers and fathers all across our nation. Forty million American families have an average $2,200 extra thanks to our child tax credit. To protect the environment, days ago I announced that the United States will join the One Trillion Trees Initiative, an ambitious effort to bring together government and private sector to plant new trees in America and all around the world. We must also rebuild America’s infrastructure. I ask you to pass Senator John Barrasso’s highway bill to invest in new roads, bridges, and tunnels all across our land. I’m also committed to ensuring that every citizen can have access to high-speed Internet, including and especially in rural America. A better tomorrow for all Americans also requires us to keep America safe. That means supporting the men and women of law enforcement at every level, including our nation’s heroic ICE officers. Last year, our brave ICE officers arrested more than 120,000 criminal aliens charged with nearly 10,000 burglaries, 5,000 sexual assaults, 45,000 violent assaults, and 2,000 murders. Tragically, there are many cities in America where radical politicians have chosen to provide sanctuary for these criminal illegal aliens.  In sanctuary cities, local officials order police to release dangerous criminal aliens to prey upon the public, instead of handing them over to ICE to be safely removed. Just 29 days ago, a criminal alien freed by the sanctuary city of New York was charged with the brutal rape and murder of a 92-year-old woman. The killer had been previously arrested for assault, but under New York’s sanctuary policies, he was set free. If the city had honored ICE’s detainer request, his victim would still be alive today. The state of California passed an outrageous law declaring their whole state to be a sanctuary for criminal illegal immigrants — a very terrible sanctuary — with catastrophic results. Here is just one tragic example. In December 2018, California police detained an illegal alien with five prior arrests, including convictions for robbery and assault. But as required by California’s Sanctuary Law, local authorities released him. Days later, the criminal alien went on a gruesome spree of deadly violence. He viciously shot one man going about his daily work. He approached a woman sitting in her car and shot her in the arm and in the chest. He walked into a convenience store and wildly fired his weapon. He hijacked a truck and smashed into vehicles, critically injuring innocent victims. One of the victims is — a terrible, terrible situation; died — 51-year-old American named Rocky Jones. Rocky was at a gas station when this vile criminal fired eight bullets at him from close range, murdering him in cold blood. Rocky left behind a devoted family, including his brothers, who loved him more than anything else in the world. One of his grieving brothers is here with us tonight. Jody, would you please stand? Jody, thank you. Jody our hearts weep for your loss, and we will not rest until you have justice. Senator Thom Tillis has introduced legislation to allow Americans like Jody to sue sanctuary cities and states when a loved one is hurt or killed as a result of these deadly practices. I ask Congress to pass the Justice for Victims of Sanctuary Cities Act immediately. The United States of America should be a sanctuary for law-abiding Americans, not criminal aliens. In the last three years, ICE has arrested over 5,000 wicked human traffickers. And I have signed nine pieces of legislation to stamp out the menace of human trafficking, domestically and all around the globe. My administration has undertaken an unprecedented effort to secure the southern border of the United States. Before I came into office, if you showed up illegally on our southern border and were arrested, you were simply released and allowed into our country, never to be seen again. My administration has ended catch and release. Very importantly, we entered into historic cooperation agreements with the governments of Mexico, Honduras, El Salvador, and Guatemala. As a result of our unprecedented efforts, illegal crossings are down 75 percent since May, dropping eight straight months in a row. And as the wall rapidly goes up, drug seizures rise, and the border crossings are down, and going down very rapidly. Last year, I traveled to the border in Texas and met Chief Patrol Agent Raul Ortiz. Over the last 24 months, Agent Ortiz and his team have seized more than 200,000 pounds of poisonous narcotics, arrested more than 3,000 human smugglers, and rescued more than 2,000 migrants. Days ago, Agent Ortiz was promoted to Deputy Chief of Border Patrol, and he joins us tonight. Chief Ortiz, please stand. To build on these historic gains, we are working on legislation to replace our outdated and randomized immigration system with one based on merit, welcoming those who follow the rules, contribute to our economy, support themselves financially, and uphold our values. With every action, my administration is restoring the rule of law and reasserting the culture of American freedom. My administration is also defending religious liberty, and that includes the constitutional right to pray in public schools. In America, we don’t punish prayer. We don’t tear down crosses. We don’t ban symbols of faith. We don’t muzzle preachers and pastors. In America, we celebrate faith, we cherish religion, we lift our voices in prayer, and we raise our sights to the Glory of God. Just as we believe in the First Amendment, we also believe in another constitutional right that is under siege all across our country. So long as I am President, I will always protect your Second Amendment right to keep and bear arms. In reaffirming our heritage as a free nation, we must remember that America has always been a frontier nation. Now we must embrace the next frontier, America’s manifest destiny in the stars. I am asking Congress to fully fund the Artemis program to ensure that the next man and the first woman on the Moon will be American astronauts — My administration is also strongly defending our national security and combating radical Islamic terrorism. Last week, I announced a groundbreaking plan for peace between Israel and the Palestinians. Recognizing that all past attempts have failed, we must be determined and creative in order to stabilize the region and give millions of young people the chance to realize a better future. Three years ago, the barbarians of ISIS held over 20,000 square miles of territory in Iraq and Syria. Today, the ISIS territorial caliphate has been 100 percent destroyed, and the founder and leader of ISIS — the bloodthirsty killer known as al-Baghdadi — is dead. We are joined this evening by Carl and Marsha Mueller. After graduating from college, their beautiful daughter Kayla became a humanitarian aid worker. She once wrote, “Some people find God in church. Some people find God in nature. Some people find God in love. I find God in suffering. I’ve known for some time what my life’s work is, using my hands as tools to relieve suffering.” In 2013, while caring for suffering civilians in Syria, Kayla was kidnapped, tortured, and enslaved by ISIS, and kept as a prisoner of al-Baghdadi himself. After more than 500 horrifying days of captivity, al-Baghdadi murdered young, beautiful Kayla. She was just 26 years old. On the night that U.S. Special Forces Operations ended al-Baghdadi’s miserable life, the Chairman of the Joint Chiefs of Staff, General Mark Milley, received a call in the Situation Room. He was told that the brave men of the elite Special Forces team that so perfectly carried out the operation had given their mission a name: “Task Force 8-14.” It was a reference to a special day: August 14th — Kayla’s birthday. Carl and Marsha, America’s warriors never forgot Kayla — and neither will we. Thank you. Every day, America’s men and women in uniform demonstrate the infinite depth of love that dwells in the human heart. One of these American heroes was Army Staff Sergeant Christopher Hake. On his second deployment to Iraq in 2008, Sergeant Hake wrote a letter to his one-year-old son, Gage: “I will be with you again,” he wrote to Gage. “I will teach you to ride your first bike, build your first sand box, watch you play sports, and see you have kids also. I love you son. Take care of your mother. I am always with you. Daddy.” On Easter Sunday of 2008, Chris was out on patrol in Baghdad when his Bradley Fighting Vehicle was hit by a roadside bomb. That night, he made the ultimate sacrifice for our country. Sergeant Hake now rests in eternal glory in Arlington, and his wife Kelli is in the Gallery tonight, joined by their son, who is now a 13-year-old and doing very, very well. To Kelli and Gage: Chris will live in our hearts forever. He is looking down on you now. Thank you. Thank you very much. Thank you both very much. The terrorist responsible for killing Sergeant Hake was Qasem Soleimani, who provided the deadly roadside bomb that took Chris’s life. Soleimani was the Iranian regime’s most ruthless butcher, a monster who murdered or wounded thousands of American service members in Iraq. As the world’s top terrorist, Soleimani orchestrated the deaths of countless men, women, and children. He directed the December assault and went on to assault U.S. forces in Iraq. Was actively planning new attacks when we hit him very hard. And that’s why, last month, at my direction, the U.S. military executed a flawless precision strike that killed Soleimani and terminated his evil reign of terror forever. Our message to the terrorists is clear: You will never escape American justice. If you attack our citizens, you forfeit your life. In recent months, we have seen proud Iranians raise their voices against their oppressive rulers. The Iranian regime must abandon its pursuit of nuclear weapons; stop spreading terror, death, and destruction; and start working for the good of its own people. Because of our powerful sanctions, the Iranian economy is doing very, very poorly. We can help them make a very good and short-time recovery. It can all go very quickly, but perhaps they are too proud or too foolish to ask for that help. We are here. Let’s see which road they choose. It is totally up to them. As we defend American lives, we are working to end America’s wars in the Middle East. In Afghanistan, the determination and valor of our warfighters has allowed us to make tremendous progress, and peace talks are now underway. I am not looking to kill hundreds of thousands of people in Afghanistan, many of them totally innocent. It is also not our function to serve other nations as law enforcement agencies. These are warfighters that we have — the best in the world — and they either want to fight to win or not fight at all. We are working to finally end America’s longest war and bring our troops back home. War places a heavy burden on our nation’s extraordinary military families, especially spouses like Amy Williams from Fort Bragg, North Carolina, and her two children — six-year-old Elliana and three-year-old Rowan. Amy works full-time and volunteers countless hours helping other military families. For the past seven months, she has done it all while her husband, Sergeant First Class Townsend Williams, is in Afghanistan on his fourth deployment in the Middle East. Amy’s kids haven’t seen their father’s face in many months. Amy, your family’s sacrifice makes it possible for all of our families to live in safety and in peace, and we want to thank you. Thank you, Amy. But, Amy, there is one more thing. Tonight, we have a very special surprise. I am thrilled to inform you that your husband is back from deployment. He is here with us tonight, and we couldn’t keep him waiting any longer.  Welcome home, Sergeant Williams. Thank you very much. As the world bears witness tonight, America is a land of heroes. This is a place where greatness is born, where destinies are forged, and where legends come to life. This is the home of Thomas Edison and Teddy Roosevelt, of many great generals including Washington, Pershing, Patton, and MacArthur. This is the home of Abraham Lincoln, Frederick Douglass, Amelia Earhart, Harriet Tubman, the Wright Brothers, Neil Armstrong, and so many more. This is the country where children learn names like Wyatt Earp, Davy Crockett, and Annie Oakley. This is the place where the pilgrims landed at Plymouth and where Texas patriots made their last stand at the Alamo — — the beautiful, beautiful Alamo. The American nation was carved out of the vast frontier by the toughest, strongest, fiercest, and most determined men and women ever to walk on the face of the Earth. Our ancestors braved the unknown; tamed the wilderness; settled the Wild West; lifted millions from poverty, disease, and hunger; vanquished tyranny and fascism; ushered the world to new heights of science and medicine; laid down the railroads, dug out the canals, raised up the skyscrapers. And, ladies and gentlemen, our ancestors built the most exceptional republic ever to exist in all of human history, and we are making it greater than ever before. This is our glorious and magnificent inheritance. We are Americans. We are pioneers. We are the pathfinders. We settled the New World, we built the modern world, and we changed history forever by embracing the eternal truth that everyone is made equal by the hand of Almighty God. America is the place where anything can happen. America is the place where anyone can rise. And here, on this land, on this soil, on this continent, the most incredible dreams come true. This nation is our canvas, and this country is our masterpiece. We look at tomorrow and see unlimited frontiers just waiting to be explored. Our brightest discoveries are not yet known. Our most thrilling stories are not yet told. Our grandest journeys are not yet made. The American Age, the American Epic, the American adventure has only just begun. Our spirit is still young, the sun is still rising, God’s grace is still shining, and, my fellow Americans, the best is yet to come. Thank you. God Bless You. And God Bless America. Thank you very much. END 10:24 P.M. EST \n"
          ],
          "name": "stdout"
        }
      ]
    },
    {
      "cell_type": "markdown",
      "metadata": {
        "id": "a-9OKsWtVNtW"
      },
      "source": [
        "## Sentiment Analysis with TextBlob\n",
        "\n",
        "TextBlob is a Python module that provides easy access to a variety of useful text-processing operations.  Its sentiment analysis tools provide a measurement of polarity and subjectivity.  Polarity is rated on a scale from -1 to 1, where -1 is completely negative and 1 is completely positive (this can be seen in the example below).  Subjectivity is measured on a scale from 0 to 1, where 0 is very objective and 1 is very subjective.\n",
        "\n",
        "The process to use TextBlob's sentiment analysis functionality, have to take the following steps.\n",
        "\n",
        "1. Import the TextBlob module with `from textblob import TextBlob`\n",
        "2. Create an instance of TextBlob with `blob = TextBlob(string)`, where you replace \"string\" with the text you want to analyze.  This is necessary so TextBlob has the opportunity to process the text.\n",
        "3. To get the polarity sentiment, type `blob.sentiment.polarity`, where blob is the variable instance of TextBlob that processed your text in step 2.\n",
        "4. To get the subjectivity sentiment, type `blob.sentiment.subjectivity`, where blob is the variable instance of TextBlob that processed your text in step 2."
      ]
    },
    {
      "cell_type": "code",
      "metadata": {
        "id": "ZKJQS7yhVNtW",
        "outputId": "ff362daf-01d0-4f54-ab0b-7602972c9b76"
      },
      "source": [
        "from textblob import TextBlob\n",
        "\n",
        "positive_text = \"WOW!  POL 300 is such a cool class!  I love it so much!\"\n",
        "\n",
        "positive_blob = TextBlob(positive_text)\n",
        "\n",
        "print(\"Positive Text's Polarity Score:\", positive_blob.sentiment.polarity)\n",
        "\n",
        "\n",
        "negative_text = \"Darn, I am having a really bad day.  All my Python code is broken.\"\n",
        "\n",
        "negative_text = TextBlob(negative_text)\n",
        "\n",
        "print(\"Negative Text's Polarity Score:\", negative_text.sentiment.polarity)\n",
        "\n",
        "\n",
        "subjective_text = \"I believe this class is very important.\"\n",
        "\n",
        "subjective_blob = TextBlob(subjective_text)\n",
        "\n",
        "print(\"Subjective Text's Subjectivity Score:\", subjective_blob.sentiment.subjectivity)\n",
        "\n",
        "\n",
        "objective_text = \"The sky is blue.\"\n",
        "\n",
        "objective_blob = TextBlob(objective_text)\n",
        "\n",
        "print(\"Objective Text's Subjectivity Score:\", objective_blob.sentiment.subjectivity)"
      ],
      "execution_count": null,
      "outputs": [
        {
          "output_type": "stream",
          "text": [
            "Positive Text's Polarity Score: 0.2625\n",
            "Negative Text's Polarity Score: -0.5499999999999999\n",
            "Subjective Text's Subjectivity Score: 1.0\n",
            "Objective Text's Subjectivity Score: 0.1\n"
          ],
          "name": "stdout"
        }
      ]
    },
    {
      "cell_type": "markdown",
      "metadata": {
        "id": "cmAyB-2gVNtX"
      },
      "source": [
        "## Exercise 1\n",
        "\n",
        "In this exercise, you will be creating a function to return the polarity and subjectivity scores for Trump's 2020 State of the Union address.  The text from the SOTU address will be passed into the function by the `sotu` argument.  **Your polarity score should be the first argument of your return statement, followed by subjectivity.**\n",
        "\n",
        "Make sure you ran the \"Retrieving the State of the Union Address\" code segment earlier in the Jupyter notebook.  Otherwise, you will get an error saying `transcript_text` is not defined.\n",
        "\n",
        "**HINT: Remember that you can return two variables in a single return statement like so: `return value1, value2`**"
      ]
    },
    {
      "cell_type": "code",
      "metadata": {
        "id": "dzVie_AqVNtX",
        "outputId": "f740bc9c-45f2-4c08-94cd-11f8dc1ee98f"
      },
      "source": [
        "from textblob import TextBlob \n",
        "\n",
        "def get_sentiment(sotu):\n",
        "    \n",
        "    # Type your code here\n",
        "\n",
        "    \n",
        "    \n",
        "    \n",
        "    \n",
        "    \n",
        "\n",
        "# IGNORE BELOW\n",
        "# Test Cases\n",
        "import unittest    \n",
        "    \n",
        "class TestCases(unittest.TestCase):  \n",
        "    def test(self):\n",
        "        polarity, subjectivity = get_sentiment(transcript_text)\n",
        "        print(\"Polarity:\", polarity)\n",
        "        print(\"Subjectivity:\", subjectivity)\n",
        "        self.assertTrue(polarity == 0.15544314121712638)\n",
        "        self.assertTrue(subjectivity == 0.46102034711905604)\n",
        "\n",
        "\n",
        "if __name__ == '__main__': \n",
        "    unittest.main(argv=[''], exit=False)"
      ],
      "execution_count": null,
      "outputs": [
        {
          "output_type": "error",
          "ename": "IndentationError",
          "evalue": "expected an indented block (<ipython-input-5-ae6559481ce8>, line 15)",
          "traceback": [
            "\u001b[0;36m  File \u001b[0;32m\"<ipython-input-5-ae6559481ce8>\"\u001b[0;36m, line \u001b[0;32m15\u001b[0m\n\u001b[0;31m    import unittest\u001b[0m\n\u001b[0m    ^\u001b[0m\n\u001b[0;31mIndentationError\u001b[0m\u001b[0;31m:\u001b[0m expected an indented block\n"
          ]
        }
      ]
    },
    {
      "cell_type": "markdown",
      "metadata": {
        "id": "fNjYbPPdVNtX"
      },
      "source": [
        "## Text Statistics with TextStat\n",
        "\n",
        "Another really useful Python module for analyzing text is called \"TextStat\".  The primary purpose of TextStat is to determine the complexity and reading level of a body of text.  TextStat can be imported using: \n",
        "```python\n",
        "import textstat\n",
        "```\n",
        "\n",
        "### Syllable, Word, and Sentence Count\n",
        "\n",
        "Before we dive into the complexity and reading level statistics, lets first obtain some count statistics.  To run each of the following functions, just replace the text parameter with the text content that you want to analyze.  "
      ]
    },
    {
      "cell_type": "code",
      "metadata": {
        "id": "lgO-s74XVNtY"
      },
      "source": [
        "import textstat\n",
        "\n",
        "text = \"This is a sentence. This is another sentence. How amazing is this?\"\n",
        "\n",
        "print(textstat.syllable_count(text)) # Syllabus Count\n",
        "\n",
        "print(textstat.lexicon_count(text)) # Word Count\n",
        "\n",
        "print(textstat.sentence_count(text)) # Sentence Count"
      ],
      "execution_count": null,
      "outputs": []
    },
    {
      "cell_type": "markdown",
      "metadata": {
        "id": "64NGWlCjVNtY"
      },
      "source": [
        "### Flesch–Kincaid Readability Tests\n",
        "\n",
        "Flesch–Kincaid is a means of measuring the readability of text.  The TextStat function is `textstat.flesch_reading_ease(text)\n",
        "`, where `text` is the variable of the measured text.  \n",
        "\n",
        "Measured texts have a maximum score of 121.22, indicating that it is extremely easy to read.  There is no lower bound, where lower (even negative) scores represent more difficult readability. Here is an example scale:\n",
        "\n",
        "| Score |    Difficulty     |\n",
        "|-------|-------------------|\n",
        "|90-100 | Very Easy         |\n",
        "| 80-89 | Easy              |\n",
        "| 70-79 | Fairly Easy       |\n",
        "| 60-69 | Standard          |\n",
        "| 50-59 | Fairly Difficult  |\n",
        "| 30-49 | Difficult         |\n",
        "| 0-29  | Very Confusing    |\n",
        "\n",
        "The Flesch–Kincaid ease score can easily be used to estimate the U.S. education system grade level for a text.  The function to get the grade level is `textstat.flesch_kincaid_grade(test)`, where `text` is the variable of the measured text."
      ]
    },
    {
      "cell_type": "code",
      "metadata": {
        "id": "of9xXdLrVNtY"
      },
      "source": [
        "import textstat\n",
        "\n",
        "simple_text = \"I like ball.  Ball is nice.\"\n",
        "\n",
        "complex_text = \"Her exquisite intellect was thoroughly illistracted in her thesis.\"\n",
        "\n",
        "simple_ease = textstat.flesch_reading_ease(simple_text)\n",
        "simple_grade = textstat.flesch_kincaid_grade(simple_text)\n",
        "\n",
        "complex_ease = textstat.flesch_reading_ease(complex_text)\n",
        "complex_grade = textstat.flesch_kincaid_grade(complex_text)\n",
        "\n",
        "\n",
        "print(\"Simple Ease Score:\", simple_ease)\n",
        "print(\"Simple Grade:\", simple_grade)\n",
        "print(\"Complex Ease Score:\", complex_ease)\n",
        "print(\"Complex Grade:\", complex_grade)"
      ],
      "execution_count": null,
      "outputs": []
    },
    {
      "cell_type": "markdown",
      "metadata": {
        "id": "Q69t5uJ7VNtZ"
      },
      "source": [
        "### Gunning Fog Index\n",
        "TextStat has many different metrics for measuring the number of years of education required to fully understand a text.  Gunning Fog is a metric that uses sentence length and the number of complex words to determine the U.S. grade level needed to comprehend a piece of literature. This metric can be used with the TextStat functions seen below.  Please note that the results may be a little skewed due to the short length of the theses example texts.  "
      ]
    },
    {
      "cell_type": "code",
      "metadata": {
        "id": "fBCfw4BmVNtZ"
      },
      "source": [
        "import textstat\n",
        "\n",
        "simple_text = \"I like ball.  Ball is nice.\"\n",
        "\n",
        "complex_text = \"Her exquisite intellect was thoroughly illistracted in her thesis.\"\n",
        "\n",
        "simple_grade = textstat.gunning_fog(simple_text)\n",
        "complex_grade = textstat.gunning_fog(complex_text)\n",
        "\n",
        "print(\"Simple Grade:\", simple_grade)\n",
        "print(\"Complex Grade:\", complex_grade)"
      ],
      "execution_count": null,
      "outputs": []
    },
    {
      "cell_type": "markdown",
      "metadata": {
        "id": "whbdN8QVVNtZ"
      },
      "source": [
        "### Automated Readability Index\n",
        "\n",
        "ARI differs from some other metrics of measuring reading complexity level, as it uses characters instead of syllables.  This choice was made because this index was originally designed to be used for monitoring readability on electric typewriters, since it was easier to keep track of the number of characters instead of the number of syllables ([citation](https://apps.dtic.mil/dtic/tr/fulltext/u2/667273.pdf)).  ARI can be used with the function below:"
      ]
    },
    {
      "cell_type": "code",
      "metadata": {
        "id": "x8A6K-nAVNtZ"
      },
      "source": [
        "import textstat\n",
        "\n",
        "simple_text = \"I like ball.  Ball is nice.\"\n",
        "\n",
        "complex_text = \"Her exquisite intellect was thoroughly illistracted in her thesis.\"\n",
        "\n",
        "simple_grade = textstat.automated_readability_index(simple_text)\n",
        "complex_grade = textstat.automated_readability_index(complex_text)\n",
        "\n",
        "print(\"Simple Grade:\", simple_grade)\n",
        "print(\"Complex Grade:\", complex_grade)"
      ],
      "execution_count": null,
      "outputs": []
    },
    {
      "cell_type": "markdown",
      "metadata": {
        "id": "hDRAzlgTVNta"
      },
      "source": [
        "### Coleman-Liau Index\n",
        "\n",
        "Coleman-Liau is yet another readability index.  It uses the average number of letters per 100 words and average numbers of sentences per 100 words to estimate the U.S. grade level to read a text.  It can be used with the following function:"
      ]
    },
    {
      "cell_type": "code",
      "metadata": {
        "id": "B2_8lfONVNta"
      },
      "source": [
        "import textstat\n",
        "\n",
        "simple_text = \"I like ball.  Ball is nice.\"\n",
        "\n",
        "complex_text = \"Her exquisite intellect was thoroughly illistracted in her thesis.\"\n",
        "\n",
        "simple_grade = textstat.coleman_liau_index(simple_text)\n",
        "complex_grade = textstat.coleman_liau_index(complex_text)\n",
        "\n",
        "print(\"Simple Grade:\", simple_grade)\n",
        "print(\"Complex Grade:\", complex_grade)"
      ],
      "execution_count": null,
      "outputs": []
    },
    {
      "cell_type": "markdown",
      "metadata": {
        "id": "9SAtVWyTVNta"
      },
      "source": [
        "### Readability Consensus Score\n",
        "\n",
        "TextStat has several other metrics of estimating the U.S. grade level needed to understand a text, including Dale-Chall Readability Score, Linsear Write Formula, and the SMOG index.  In an attempt to generate a more accurate grade level, TextStat has a function that aggregates the grade levels from each of these metrics, and generates a single grade from their results.  To generate a readability consensus score, use this function:\n",
        "\n",
        "```python\n",
        "textstat.text_standard(text, float_output=True)\n",
        "```\n",
        "\n",
        "The `text` variable represents text for analysis.  The `float_output=True` argument, will return the score as a float number, opposed to a string.  We want a number for greater ease during analysis.  "
      ]
    },
    {
      "cell_type": "code",
      "metadata": {
        "id": "cMVlnFr6VNta"
      },
      "source": [
        "import textstat\n",
        "\n",
        "simple_text = \"I like ball.  Ball is nice.\"\n",
        "\n",
        "complex_text = \"Her exquisite intellect was thoroughly illistracted in her thesis.\"\n",
        "\n",
        "simple_grade = textstat.text_standard(simple_text, float_output=True)\n",
        "complex_grade = textstat.text_standard(complex_text, float_output=True)\n",
        "\n",
        "print(\"Simple Grade:\", simple_grade)\n",
        "print(\"Complex Grade:\", complex_grade)"
      ],
      "execution_count": null,
      "outputs": []
    },
    {
      "cell_type": "markdown",
      "metadata": {
        "id": "oWqnuiwPVNtb"
      },
      "source": [
        "## Exercise 2\n",
        "\n",
        "Here, you are going to use the TextStat module to conduct some analysis of Trump's 2020 State of the Union address.  You are going to return the following values in this order: syllable count, lexicon count, sentence count, Flesch–Kincaid ease score, and Readability Consensus Score (with the `float_output=True` argument).\n",
        "\n",
        "The State of the Union transcript text is passed into the function below via the `sotu` parameter. "
      ]
    },
    {
      "cell_type": "code",
      "metadata": {
        "id": "4zbxPHgBVNtb"
      },
      "source": [
        "import textstat\n",
        "\n",
        "def get_grade_level(sotu):\n",
        "    \n",
        "    # Type your code here\n",
        "\n",
        "    \n",
        "    \n",
        "    \n",
        "    \n",
        "\n",
        "# IGNORE BELOW\n",
        "# Test Cases\n",
        "import unittest    \n",
        "    \n",
        "class TestCases(unittest.TestCase):  \n",
        "    def test(self):\n",
        "        syllables, words, sentences, flesch, concensus = get_grade_level(transcript_text)\n",
        "        \n",
        "        print(\"Syllables:\", syllables)\n",
        "        print(\"Words:\", words)\n",
        "        print(\"Sentences:\", sentences)\n",
        "        print(\"Flesch–Kincaid Ease Score:\", flesch)\n",
        "        print(\"Readability Consensus Score:\", concensus)\n",
        "        \n",
        "        self.assertTrue(syllables == 8164)\n",
        "        self.assertTrue(words == 5513)\n",
        "        self.assertTrue(sentences == 331)\n",
        "        self.assertTrue(flesch == 62.98)\n",
        "        self.assertTrue(concensus == 9.0)\n",
        "\n",
        "\n",
        "if __name__ == '__main__': \n",
        "    unittest.main(argv=[''], exit=False)"
      ],
      "execution_count": null,
      "outputs": []
    },
    {
      "cell_type": "markdown",
      "metadata": {
        "id": "tPmKi5d2VNtb"
      },
      "source": [
        "## Keyword Extraction\n",
        "\n",
        "Keyword extraction will essentially narrow down a document to a few keywords that summarize the topic.  To achieve this, we will be using a module known as Summa.  To import the keywords functionality from Gensim, use `from gensim.summarization import keywords`.\n",
        "\n",
        "Then, you will be able to use the function, `keywords(text)`, where `text` is your document.  This function takes a couple arguments that are highly recommended.  The `words=5` argument, will limit the number of keywords to 5.  **This number can be changed to any positive integer.**  This just prevents the list of return keywords from becoming unwieldy.  Especially for longer documents (like State of the Union addresses), the number of returned keywords can be in the dozens.  \n",
        "\n",
        "The second argument you should use is `split=True`.  This will make the function returns a list of the keywords, instead of just a single string, with spaces separating the words.  This will make it easier for indexing each of the keywords individually.\n",
        "\n",
        "Finally, `lemmatize=True` will return a single word that represents all the variations of a word.  For instance, \"force\", \"forces\", \"forced\", and \"forcing\" all essentially mean the same thing, so it would be nice to only have one variation of this word (like \"forcing\") to encompass all of them.\n",
        "\n",
        "With all the recommended arguments, the function looks like this:\n",
        "\n",
        "```python\n",
        "keywords(text, words=5, split=True, lemmatize=True)\n",
        "```"
      ]
    },
    {
      "cell_type": "markdown",
      "metadata": {
        "id": "B27g9EtwVNtc"
      },
      "source": [
        "## Exercise 3\n",
        "\n",
        "In this final exercise of module 5, you are going to complete the `get_keywords()` function.  This function is supposed to return a **list of the top 10 keywords** for President Trump's 2020 State of the Union address.  The `sotu` parameter is the text from the State of the Union address.  Use the Summa module to achieve this task."
      ]
    },
    {
      "cell_type": "code",
      "metadata": {
        "id": "YKhEL5EyVNtc"
      },
      "source": [
        "from gensim.summarization import keywords\n",
        "\n",
        "def get_keywords(sotu):\n",
        "    \n",
        "    # Type your code here\n",
        "    \n",
        "    \n",
        "    \n",
        "\n",
        "    \n",
        "    \n",
        "\n",
        "# IGNORE BELOW\n",
        "# Test Cases\n",
        "import unittest    \n",
        "    \n",
        "class TestCases(unittest.TestCase):  \n",
        "    def test(self):\n",
        "        words = get_keywords(transcript_text)\n",
        "        \n",
        "        print(words)\n",
        "        \n",
        "        answer = ['americans', 'new', 'thanks', 'america', 'family', 'tonight', 'free', 'forcing', 'works', 'year']\n",
        "        \n",
        "        self.assertTrue(words == answer)\n",
        "\n",
        "\n",
        "if __name__ == '__main__': \n",
        "    unittest.main(argv=[''], exit=False)"
      ],
      "execution_count": null,
      "outputs": []
    }
  ]
}