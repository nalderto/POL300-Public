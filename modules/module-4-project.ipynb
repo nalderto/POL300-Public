{
  "nbformat": 4,
  "nbformat_minor": 0,
  "metadata": {
    "kernelspec": {
      "display_name": "Python 3",
      "language": "python",
      "name": "python3"
    },
    "language_info": {
      "codemirror_mode": {
        "name": "ipython",
        "version": 3
      },
      "file_extension": ".py",
      "mimetype": "text/x-python",
      "name": "python",
      "nbconvert_exporter": "python",
      "pygments_lexer": "ipython3",
      "version": "3.9.0rc1"
    },
    "colab": {
      "name": "module-4-project.ipynb",
      "provenance": [],
      "include_colab_link": true
    }
  },
  "cells": [
    {
      "cell_type": "markdown",
      "metadata": {
        "id": "view-in-github",
        "colab_type": "text"
      },
      "source": [
        "<a href=\"https://colab.research.google.com/github/nalderto/POL300-Public/blob/master/modules/module-4-project.ipynb\" target=\"_parent\"><img src=\"https://colab.research.google.com/assets/colab-badge.svg\" alt=\"Open In Colab\"/></a>"
      ]
    },
    {
      "cell_type": "markdown",
      "metadata": {
        "id": "L4SWG3eHVHjX"
      },
      "source": [
        "# Module 4 Project\n",
        "\n",
        "## Background\n",
        "\n",
        "The strength of using web scrapping with Python is to quickly obtain data that would have otherwise taken hours of tedious work.  For this project, you are going to use information you have learned from the first four Python modules to achieve exactly this.  The premise of this project is to collect the campaign contributions data for an entire states' legislative chamber.  Ballotpedia provides a table of campaign contributions for each legislative district in a state.  This is just like the table that we collected in module 3 using Beautiful Soup.\n",
        "\n",
        "These tables contain the year, amount spent for the election, the number of candidates, and the average amount spent per candidate.  You have been assigned a state and a chamber (likely the House of Representatives or Senate, although it differs in name for some states).  Your goal is to use Python to obtain all of the tables for each district and consolidate them into a single CSV file.  **You are only obtaining the campaign contributions table data for all the districts for your assigned state legislative chamber.**  By the project's completion, your CSV file will have the following columns:\n",
        "\n",
        "* **Year** - The election year of the campaign contributions data.  This is from the Ballotpedia table.\n",
        "* **State** - The state you are assigned.  Type the full name like \"Indiana\" or \"Rhode Island\".\n",
        "* **Chamber** - The legislative body you are assigned.  Match the formating of the Chamber name in [this table](https://github.com/nalderto/POL300-Public/blob/master/State-Chambers.csv).  So if you are assigned the State Senate of Illinois, each of the rows in your data frame should have \"State Senate\" in the \"Chamber column.  Capitalization matters, so make sure you match the casing (e.g. make sure \"of\" in \"House of Representatives\" is lower case).\n",
        "* **District** - This is the district number for the the data.  If the data is from district 1, then this value would be `1`.\n",
        "* **Amount** - This is the same as the \"Amount\" column in the Ballotpedia table, representing the total amount spent for the election.\n",
        "* **Candidates** - This is the same as the \"Candidates\" column in the Ballotpedia table, representing the total number of candidates running in the election.\n",
        "* **Average** - This is the same as the \"Average\" column in the Ballotpedia table, representing the total amount spent for the election divided by the number of candidates.  \n",
        "\n",
        "## Logistics\n",
        "This assignment is to be completed individually.  You can find which state and legislative chamber you have been assigned to on Brightspace.\n",
        "\n",
        "## Steps\n",
        "1. Refer to [this table](https://github.com/nalderto/POL300-Public/blob/master/State-Chambers.csv) to get an example Ballotpedia URL for your assigned state's legislative body.  This table will also tell you how many total districts there are in that particular chamber.\n",
        "2. Import the following Python modules: Requests and Beautiful Soup (Pandas was already imported for you).\n",
        "3. Create an empty data frame with following columns, `[\"Year\", \"District\", \"Amount\", \"Candidates\", \"Average\"]`.\n",
        "4. Create a **for** loop that will iterate an equal number of times as the number of districts in your assigned legislative body.\n",
        "5. Using the Ballotpedia URL you found in step 1 as your base, make a URL string that will dynamically change with each iteration of the **for** loop so that it will cover all the legislative districts.  Reference \"Printing Variables\" in module 1 for help on how to concatenate variables to strings.\n",
        "6. While still in the **for** loop, use the **requests** module to download the content from the current district's Ballotpedia web page.\n",
        "7. Within the **for** loop, use Beautiful Soup to isolate the campaign contributions table.  **Hint: The HTML classes we used in the module 3 activity should work fine.**\n",
        "8. Convert the HTML table that Beautiful Soup found in step 7 into a Pandas data frame.  Set `header=1` and the `index_col=False`.  Refer to \"Creating a Data Frame from an HTML table\" in Module 4 if you need help.\n",
        "9. Add a new column called \"District\" to your newly created data frame from step 8.  Its value should be equal to the legislative district number of the current iteration of the **for** loop.  For example, if the current iteration retrieved the table from district 26, you would set the \"District\" column to 26 for the entire data frame.\n",
        "10. Once you have added the \"Districts\" column, append the data frame to the data frame that was created in step 3.\n",
        "11. This step takes place **outside** the **for** loop.  Once the **for** loop has finished iterating, you need to add two new columns to the data frame created in step 3: \"State\" and \"Chamber\".  The \"State\" column should have the name of your assigned state for all the rows (like \"Indiana\").  The \"Chamber\" column should have the name of your assigned chamber for all the rows (like \"State Senate\" or \"House of Representatives\"). **Be sure you replace the assigned values match *exactly* with the values found in [this table](https://github.com/nalderto/POL300-Public/blob/master/State-Chambers.csv).**\n",
        "12.  This step also takes place **outside** the **for** loop.  Take the data frame that was created in step 3 and export it as a CSV file.  Use the `index=False` argument when exporting.  Title the CSV file, \"State-Chamber-Campaign-Contributions.csv\", where \"State\" is your assigned state and the \"Chamber\" is your assigned chamber.  **All words in the CSV file name should be capitalized (except \"of\") and replace any spaces in the name of your assigned state or chamber with hyphens (-).**\n",
        "13. Test your function with the test case.  When using the test case, make sure to change the `state` and `chamber` variables to your assigned state and chamber.  **Make sure you replace the variables' values with the *exact* values found in [this table](https://github.com/nalderto/POL300-Public/blob/master/State-Chambers.csv) for your assigned state.** You can also look in Jupyter Hub for the CSV file you created.  **Please note that the test cases can take a few minutes to complete (it might be useful to add print statements to monitor your code's progress).**\n",
        "14. If you are getting an error, **make sure you have proper capitalization and not typos in you chamber and state names.**  It might also be useful to add a `print` statement to your for loop to check it's progress\n",
        "\n",
        "\n",
        "\n",
        "\n",
        "## Deliverables\n",
        "\n",
        "At the end of this project, you are going to turn in two files.  First, you are going to submit this Python notebook as a PDF via Gradescope.  To export to a PDF, use the same directions found in the module 1 activity or the \"Getting Started with Jupyter Hub\" guide on Brightspace.  \n",
        "\n",
        "Second, you need to submit the CSV file that you created for this project.  To download your CSV file from Jupyter, return to the list of files screen, select the checkmark next to the CSV file, then click the \"Download\" button.\n",
        "\n",
        "![Download Button](https://user-images.githubusercontent.com/25762130/90360136-ce23fc80-e028-11ea-9619-4de5337d4632.png)\n"
      ]
    },
    {
      "cell_type": "code",
      "metadata": {
        "id": "imm2nVVXVHjc"
      },
      "source": [
        "import pandas as pd\n",
        "\n",
        "\n",
        "# Here you should replace the `state` and `chamber` values with your assigned state and chamber\n",
        "state = \"Indiana\"\n",
        "chamber = \"State Senate\"\n",
        "\n",
        "\n",
        "def collectCampaignContributions():\n",
        "    \n",
        "    \n",
        "    \n",
        "    \n",
        "    \n",
        "    \n",
        "    \n",
        "    \n",
        "    \n",
        "\n",
        "\n",
        "    \n",
        "# IGNORE BELOW\n",
        "# Test Cases\n",
        "import unittest\n",
        "  \n",
        "class TestCases(unittest.TestCase):  \n",
        "    \n",
        "    def test(self):\n",
        "        global state\n",
        "        global chamber\n",
        "    \n",
        "        state = state.title()\n",
        "        chamber = chamber.title().replace(\" Of \", \" of \")\n",
        "        \n",
        "        answer_df = pd.read_csv(\"https://raw.githubusercontent.com/nalderto/POL300-Public/master/All-Campaign-Contributions.csv\")\n",
        "        \n",
        "        answer_df = answer_df[(answer_df['State'] == state) & (answer_df['Chamber'] == chamber)].reset_index(drop=True).sort_index(axis=1)\n",
        "        \n",
        "        filename = state.replace(\" \", \"-\") + \"-\" + chamber.replace(\" \", \"-\") + \"-Campaign-Contributions.csv\"\n",
        "        collectCampaignContributions()\n",
        "        test_df = pd.read_csv(filename).reset_index(drop=True).sort_index(axis=1)\n",
        "        \n",
        "        self.assertTrue(test_df.equals(answer_df)) \n",
        "        \n",
        "\n",
        "if __name__ == '__main__': \n",
        "    unittest.main(argv=[''], exit=False)"
      ],
      "execution_count": null,
      "outputs": []
    },
    {
      "cell_type": "code",
      "metadata": {
        "id": "tX-b83BUVHjf"
      },
      "source": [
        ""
      ],
      "execution_count": null,
      "outputs": []
    }
  ]
}