{
  "nbformat": 4,
  "nbformat_minor": 0,
  "metadata": {
    "kernelspec": {
      "display_name": "Python 3",
      "language": "python",
      "name": "python3"
    },
    "language_info": {
      "codemirror_mode": {
        "name": "ipython",
        "version": 3
      },
      "file_extension": ".py",
      "mimetype": "text/x-python",
      "name": "python",
      "nbconvert_exporter": "python",
      "pygments_lexer": "ipython3",
      "version": "3.8.2"
    },
    "colab": {
      "name": "module-1.ipynb",
      "provenance": [],
      "include_colab_link": true
    }
  },
  "cells": [
    {
      "cell_type": "markdown",
      "metadata": {
        "id": "view-in-github",
        "colab_type": "text"
      },
      "source": [
        "<a href=\"https://colab.research.google.com/github/nalderto/POL300-Public/blob/master/modules/module-1.ipynb\" target=\"_parent\"><img src=\"https://colab.research.google.com/assets/colab-badge.svg\" alt=\"Open In Colab\"/></a>"
      ]
    },
    {
      "cell_type": "markdown",
      "metadata": {
        "id": "HdF2kX29R2gl"
      },
      "source": [
        "# Module 1: Introduction to Python\n",
        "\n",
        "## What is Python?\n",
        "\n",
        "* Programming language that is notable for its flexibility and ease of use.  \n",
        "* Used across many different fields including Engineering, Business, and Political Science.\n",
        "* Frequently used for data science and analytical projects.\n",
        "* There exists lots of useful Python modules for different purposes \\(we will use a few\\).\n",
        "\n",
        "## Why are we learning it?\n",
        "\n",
        "* We are going to use Python for one of the major projects for this course.\n",
        "* It is going to allow us to quickly obtain textual political data from the internet and begin analysis.\n",
        "* For example, we can collect the number of times \"healthcare\" appears in a politician's tweets.\n",
        "\n",
        "## Important Note on Python Versions\n",
        "\n",
        "For this course, we are going to use Python 3. If you look for help online \\(which is encouraged\\), you might notice some people using Python 2. **Python 2 and Python 3 are NOT cross-compatible.** Python 2 was deprecated on January 1, 2020. Be sure to specify Python 3 as you look for online resources."
      ]
    },
    {
      "cell_type": "markdown",
      "metadata": {
        "id": "Ag3nVVnJR2gn"
      },
      "source": [
        "## Print Statement\n",
        "\n",
        "* This function allows us to print words and numbers to the screen.\n",
        "* `print(\"Hello World\")` will print \"Hello World\" on the screen.\n",
        "* `print(4)` will print the number 4.\n",
        "* When we print words, we need to contain them in quotation marks.\n"
      ]
    },
    {
      "cell_type": "markdown",
      "metadata": {
        "id": "z0pObxtAR2go"
      },
      "source": [
        "### Exercise 1\n",
        "Create a print statement so Python prints \"Welcome to POL 300!\".  Then, click the \"run cell, select below\" button in the toolbar (it looks like a play button).  This will run your code and show you the output.  You'll probably want to click that button whenever you write code to ensure that it is working.  "
      ]
    },
    {
      "cell_type": "code",
      "metadata": {
        "collapsed": true,
        "id": "MYnIpLMAR2gq"
      },
      "source": [
        "# Type your print statement below\n"
      ],
      "execution_count": null,
      "outputs": []
    },
    {
      "cell_type": "markdown",
      "metadata": {
        "id": "TPGEtxhHR2gr"
      },
      "source": [
        "## Variables\n",
        "\n",
        "Variables allows us to store different types of data.\n",
        "\n",
        "### Data Types\n",
        "\n",
        "* String - Stores words, numbers, and letters. \\(e.g. \"Hello World\", 'Testing 123'\\)\n",
        "* Integer - Stores integers \\(e.g. 1, 4, 7\\)\n",
        "* Float - Stores decimals \\(e.g. 1.2, 6.4\\)\n",
        "* Booleans - Stores whether something is `True` or `False` \\(please note the capitalization\\).\n",
        "\n",
        "### Creating Variables\n",
        "\n",
        "To create a variable, we use the format `variable_name = data`. For example if we wanted to create a variable called `age` and set it to 21, we would type `age = 21`. However, if we want to create a variable that stores a string, we need to put quotation marks or apostrophes around our string like `class = \"Political Science 300\"`. You might also notice that we included a number in the string. Strings can contains numbers, however they will not behave like integers \\(adding, subtracting, etc.\\).\n",
        "\n",
        "### Variable Examples\n",
        "\n",
        "```python\n",
        "year = 1869\n",
        "university = \"Purdue University\"\n",
        "radio = 'WBAA 101.3 MHz FM'\n",
        "gpa = 3.7\n",
        "inBigTen = True\n",
        "inACC = False \n",
        "```\n",
        "\n",
        "### Printing Variables\n",
        "We can use plus signs to concatenate strings and variables for the `print()` function.  Keep in mind that we will need to manually include spaces in our strings. However, if you try printing a number or any variable that isn't a string, you will need to wrap the variable into a string with the `str()` function. Consider the following example\n",
        "\n",
        "```python\n",
        "university = \"Purdue University\"\n",
        "year = 1869\n",
        "print(university + \" was founded in \" + str(year))\n",
        "```\n",
        "\n",
        "This will print \"Purdue University was founded in 1869\".  Notice how we put spaces before and after \"was founded in\".  This is to ensure we have the proper spacing between words.  Also we have to use `str()` when printing \"1869\", because it is an integer variable."
      ]
    },
    {
      "cell_type": "markdown",
      "metadata": {
        "id": "shJY3Q7aR2gs"
      },
      "source": [
        "### Exercise 2\n",
        "Let's combine print statements and variables!  \n",
        "\n",
        "1. Create a variable called `name` and assign it to your name.\n",
        "2. Create a print statement that print \"**Welcome to POL 300, name!**\", where \"name\" is replaced with the value of your `name` variable.  Make sure you only use a single print statement, and you include the exclamation mark."
      ]
    },
    {
      "cell_type": "code",
      "metadata": {
        "id": "aDGkumXmR2gs"
      },
      "source": [
        "# Type your code below\n"
      ],
      "execution_count": null,
      "outputs": []
    },
    {
      "cell_type": "markdown",
      "metadata": {
        "id": "2jjhGVQaR2gt"
      },
      "source": [
        "## Arithmetic Operators\n",
        "\n",
        "These allow us to do math!  **It is important that you assign the result to a variable, otherwise the value will not save.**  For example:\n",
        "```python\n",
        "x = 3\n",
        "x * 2\n",
        "```\n",
        "\n",
        "If we printed the value of `x`, it would still equal 3, since we didn't assign `x * 2` to a variable.  If we wanted `x` to be equal to `6`, then we would need to do:\n",
        "```python\n",
        "x = 3\n",
        "x = x * 2\n",
        "```\n",
        "\n",
        "| Operator | Name | Description |\n",
        "| -------- | ---- | ----------- |\n",
        "| `+`      | Addition | Add two numbers together |\n",
        "| `-`      | Subtraction| Subtract one number from another |\n",
        "| `*`      | Multiplication | Multiply two numbers together |\n",
        "| `/`      | Division | Regular division with decimals |\n",
        "| `**`     | Exponent| `base ** exponent` |\n",
        "| `//`     | Floor Division | Rounds down to the nearest integer after division (e.g `9 // 2 = 4`) |\n",
        "| `%`      | Modulo |  Returns the remainder of division.  Consider `9 % 2`. Let's divide `9` by `2`, which equals `4.5`.<br>  This means that `2` goes in `9` four times, and the remainder is `1`. Therefore, `9 % 2 = 1`\n",
        "\n",
        "\n",
        "### Examples\n",
        "\n",
        "```python\n",
        "x = 4\n",
        "y = 2 + x\n",
        "z = y - x\n",
        "\n",
        "a = 2 * 2\n",
        "b = a ** 2\n",
        "c = b / 2\n",
        "\n",
        "d = 5\n",
        "e = d // 4\n",
        "f = 5 % 1\n",
        "```"
      ]
    },
    {
      "cell_type": "markdown",
      "metadata": {
        "id": "LsrffAKhR2gt"
      },
      "source": [
        "## Assignment Operators\n",
        "\n",
        "We can use these operators when we want change the value of preexisting variable.\n",
        "\n",
        "* `+=` Addition\n",
        "* `-=` Subtraction\n",
        "* `*=` Multiplication\n",
        "* `/=` Division\n",
        "* `**=` Exponent\n",
        "* `//=` Floor division\n",
        "* `%=` Modulo\n",
        "\n",
        "### Examples\n",
        "\n",
        "```python\n",
        "x = 2\n",
        "x += 1 # x = 3\n",
        "x **= 2 # x = 9\n",
        "x %= 8 # x = 1\n",
        "```"
      ]
    },
    {
      "cell_type": "markdown",
      "metadata": {
        "id": "JEVGdoycR2gu"
      },
      "source": [
        "## Order of Operations\n",
        "\n",
        "Do you remember PEMDAS from math class?  It stands for:\n",
        "1. Parentheses\n",
        "2. Exponents\n",
        "3. Multiplication & Division (left-to-right order)\n",
        "4. Addition & Subtraction (left-to-right order)\n",
        "\n",
        "The order of operations that we used in math class also apply in Python.  We can use parentheses in our Python expressions as well.  For example:\n",
        "\n",
        "```python\n",
        "x = 2 + 2 * 4 # This equals 10\n",
        "x = (2 + 2) * 4 # However this would equal 16\n",
        "```"
      ]
    },
    {
      "cell_type": "markdown",
      "metadata": {
        "id": "vZuVj5tzR2gu"
      },
      "source": [
        "## Comments\n",
        "\n",
        "One of the most important things to do when programming is to comment your code. This will allow yourself and others to be able to easily understand what your code does.\n",
        "\n",
        "There are two types of comments in Python: \n",
        "1. Hash Comments - Comments begin with a hash mark `#`. \n",
        "2. Block Comments - These comments begin with three quotation marks `\"\"\"` and end with three quotation marks `\"\"\"`. Everything between these two marks will be a comment. These comments can span across multiple lines.\n",
        "\n",
        "### Example\n",
        "\n",
        "```python\n",
        "# This is a hash comment\n",
        "x = 2 # This is an example of an inline comment\n",
        "\n",
        "\"\"\"\n",
        "Alternatively, you can do block comments.\n",
        "The benefit of block comments\n",
        "is that they can span across multiple lines.\n",
        "\"\"\"\n",
        "\n",
        "# This can also be done with hash comments.\n",
        "# However, every line must begin with a hash.\n",
        "```"
      ]
    },
    {
      "cell_type": "markdown",
      "metadata": {
        "id": "Ykc8SsZfR2gv"
      },
      "source": [
        "### Exercise 3\n",
        "For this exercise, change one line into a comment, so that `5.0` is printed.  \n",
        "\n",
        "*Note: In case you are wondering why `5.0` is printed instead of `5`, this is due to the way that Python does division with the division operator (`/`).  Starting with Python 3, anytime we use the `/` division operator, it will return float (a.k.a. decimal).  So regardless if the divisor can evenly divide the dividend, the result with always have a `.0` added to the end.*  "
      ]
    },
    {
      "cell_type": "code",
      "metadata": {
        "collapsed": true,
        "id": "GX4hRlUfR2gv"
      },
      "source": [
        "x = 2\n",
        "x = x**2\n",
        "x += 6\n",
        "x /= 2\n",
        "x %= 5\n",
        "\n",
        "print(x)"
      ],
      "execution_count": null,
      "outputs": []
    },
    {
      "cell_type": "markdown",
      "metadata": {
        "id": "2S2ac6eyR2gw"
      },
      "source": [
        "## Functions\n",
        "\n",
        "Often, we want to run the same code multiple times, with different parameters. Luckily, we can use functions for this purpose. Functions allow us to run the code inside the function definition by simply calling the function name. Parameters allow us to pass variables into the function's code. Functions take the following form:\n",
        "\n",
        "```python\n",
        "# This function returns the square of the passed variable\n",
        "def square(base):\n",
        "    result = base ** 2\n",
        "    return different_variable\n",
        "```\n",
        "\n",
        "Lets understand the various parts of a function definition:\n",
        "\n",
        "* `def` - Most functions start with `def`.  This essentially tells Python we are creating a function.\n",
        "* `square` - This is the name of the function.  **The name of a function can be nearly anything we want.**  In order to run this function we would type `square(x)`, where `x` is our passed parameter.\n",
        "* `base` - This is a variable parameter that we passed into the function.  We put the parameters of a function inside the parentheses following the function name.  We can have any number of parameters, and they are separated by commas.  The function will square the `base` variable and return the result.\n",
        "* Colon and Indentation: We put a colon after the closing parameter parenthesis.  This tells Python that we are going to start writing the function code.  We also need to indent the function's code to tell Python that this code belongs to the function.\n",
        "* `return` - This will terminate the function and return the values that immediately follow.  These values will be sent wherever the function was originally called.  Multiple values can be returned if they are separated by commas.  Like this: `return value1, value2, value3`.\n",
        "\n",
        "### Example\n",
        "\n",
        "```python\n",
        "# This function multiplies the numbers that are passed in\n",
        "def random_name(num1, num2):\n",
        "    return num1 * num2\n",
        "\n",
        "x = 2\n",
        "print(random_name(x, x)) # This will print 4\n",
        "```"
      ]
    },
    {
      "cell_type": "markdown",
      "metadata": {
        "id": "zU6tP6BXR2gw"
      },
      "source": [
        "### Exercise 4\n",
        "For this exercise, we are going to make a function that calculates the solution to a quadratic equation using the quadratic formula.  It's okay if you don't remember anything from Algebra, essentially all you need to do is convert a mathematical equation into Python code.  \n",
        "\n",
        "The quadratic formula is $$\\frac{-b \\pm \\sqrt{b^2 - 4ac}}{2a}$$\n",
        "\n",
        "You have learned how to do all of these arithmetic operations, except for square roots.  We have to import the math module to use the square root function.  We have already done that below for you.  All you need to know is that `math.sqrt(x)` will give you the square root of `x`.  You can even put expressions in place of `x` like `math.sqrt(x + 2)`.  Python will first solve `x + 2`, then get the square root.\n",
        "\n",
        "Don't worry about situations where there is only one or no real solutions.  Just assume any equation passed into your function has two real solutions.  \n",
        "\n",
        "You need to return both solutions to the equation.  In order to return two values, simply use a comma to separate the values.  For this exercise, the first returned value should be the solution when you use plus in the plus-minus and the second value should be the result of using minus in the plus-minus.\n",
        "\n",
        "```python\n",
        "return plus_value, minus_value\n",
        "```\n",
        "\n",
        "The order of operations in Python are the same as they are in regular math.  You can use parentheses in Python the same way you would in math class.  You can also put a negative sign before variable to make it negative, like `-x`.\n",
        "\n",
        "Below the `quadratic()` function are a series of test cases.  These test cases will tell you if your function works.  If you are failing any tests, it will tell you which one.  If you are passing them, it will print `OK`.\n",
        "\n",
        "The function declaration has already been provided to you, with the `a`, `b`, and `c` parameters.  Start writing your code where stated.  "
      ]
    },
    {
      "cell_type": "code",
      "metadata": {
        "collapsed": true,
        "id": "UPHMH1nnR2gx"
      },
      "source": [
        "import math\n",
        "\n",
        "def quadratic(a, b, c):\n",
        "    # Type your code here\n",
        "\n",
        "    \n",
        "# IGNORE BELOW\n",
        "# Test Cases\n",
        "import unittest \n",
        "  \n",
        "class TestCases(unittest.TestCase): \n",
        "    # Returns True or False.  \n",
        "    def test(self):         \n",
        "        self.assertEqual(quadratic(5, 6, 1), (-0.2, -1))\n",
        "        self.assertEqual(quadratic(2, -8, -24), (6, -2))\n",
        "        self.assertEqual(quadratic(1, -5, 6), (3, 2))\n",
        "        self.assertEqual(quadratic(1, -5, -24), (8, -3))\n",
        "        self.assertEqual(quadratic(1, 3, -10), (2, -5))\n",
        "  \n",
        "if __name__ == '__main__': \n",
        "    unittest.main(argv=['first-arg-is-ignored'], exit=False)"
      ],
      "execution_count": null,
      "outputs": []
    },
    {
      "cell_type": "markdown",
      "metadata": {
        "id": "QKNqdm8FR2gy"
      },
      "source": [
        "## Submitting your Jupyter Notebook\n",
        "\n",
        "Once you have finished the exercises in this notebook, you need to submit the notebook for grading via Gradescope.  **FOLLOW THESE STEPS CAREFULLY AND COMPLETELY, OTHERWISE YOU MAY NOT RECEIVE FULL CREDIT.**\n",
        "\n",
        "1. In the toolbar, click \"Kernel\", then \"Restart & Run All\". \n",
        "\n",
        "    ![save-as-pdf.png](attachment:save-as-pdf.png)\n",
        "    \n",
        "2. **Review your notebook!!!**  There is a chance that running all the code again could change your results.  The \"Run All\" command will run all of your cells in order from top to bottom.\n",
        "\n",
        "\n",
        "3. Back in the toolbar, click \"File\", \"Download as\", then \"HTML (.html)\".  This will download your notebook with the `.html` file extension.\n",
        "\n",
        "    ![download-as-html.png](attachment:download-as-html.png)\n",
        "    \n",
        "4. Open up the HTML file with your browser of choice.  In Google Chrome, you should to be able to click on the HTML file in the downloads bar on the bottom of your browser window.  In other browsers, go to the downloads location, and click on the file.  The HTML file will be opened by your browser.\n",
        "\n",
        "    ![downloads.png](attachment:downloads.png)\n",
        "\n",
        "5. Next, open the print dialog box in the browser tab of your recently downloaded HTML file.  The print dialog will usually appear when you use the keyboard shortcut Ctrl-P (Cmd-P on Mac).\n",
        "\n",
        "6. Select the option to \"Save as PDF\".  The verbiage may vary depending on your browser or operating system.  For example, in Firefox on Windows 10, there is an option of \"Microsoft Print to PDF\".  As long as the HTML page is now saved as a PDF, it should suffice.\n",
        "\n",
        "    ![save-as-pdf.png](attachment:save-as-pdf.png)\n",
        "\n",
        "7. Finally, go to Gradescope, select the assignment, and upload the PDF file we generated in the previous step.  \n",
        "\n",
        "![Gradscope Submission](https://user-images.githubusercontent.com/25762130/91684793-7ad0a480-eb26-11ea-9631-28e55bad5873.png)\n",
        "\n",
        "If you are experiencing any issues or have question, please ask!"
      ]
    }
  ]
}